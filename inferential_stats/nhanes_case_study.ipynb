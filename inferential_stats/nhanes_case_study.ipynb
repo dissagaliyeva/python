{
 "cells": [
  {
   "cell_type": "markdown",
   "metadata": {
    "collapsed": true,
    "pycharm": {
     "name": "#%% md\n"
    }
   },
   "source": [
    "# Practice notebook for confidence intervals using NHANES data\n",
    "\n",
    "This notebook will give you the opportunity to practice working with confidence intervals using the NHANES data.\n",
    "\n",
    "You can enter your code into the cells that say \"enter your code here\", and you can type responses to the questions into the cells that say \"Type Markdown and Latex\".\n",
    "\n",
    "Note that most of the code that you will need to write below is very similar to code that appears in the case study notebook.  You will need to edit code from that notebook in small ways to adapt it to the prompts below.\n",
    "\n",
    "To get started, we will use the same module imports and read the data in the same way as we did in the case study:"
   ]
  },
  {
   "cell_type": "code",
   "execution_count": 6,
   "outputs": [],
   "source": [
    "%matplotlib inline\n",
    "import matplotlib.pyplot as plt\n",
    "import pandas as pd\n",
    "import numpy as np\n",
    "import seaborn as sns\n",
    "import statsmodels.api as sm\n",
    "import warnings\n",
    "warnings.filterwarnings('ignore')"
   ],
   "metadata": {
    "collapsed": false,
    "pycharm": {
     "name": "#%%\n"
    }
   }
  },
  {
   "cell_type": "code",
   "execution_count": 18,
   "outputs": [
    {
     "data": {
      "text/plain": "    SEQN  ALQ101  ALQ110  ALQ130  SMQ020  RIAGENDR  RIDAGEYR  RIDRETH1  \\\n0  83732     1.0     NaN     1.0       1         1        62         3   \n1  83733     1.0     NaN     6.0       1         1        53         3   \n2  83734     1.0     NaN     NaN       1         1        78         3   \n\n   DMDCITZN  DMDEDUC2  ...  BPXSY2  BPXDI2  BMXWT  BMXHT  BMXBMI  BMXLEG  \\\n0       1.0       5.0  ...   124.0    64.0   94.8  184.5    27.8    43.3   \n1       2.0       3.0  ...   140.0    88.0   90.4  171.4    30.8    38.0   \n2       1.0       3.0  ...   132.0    44.0   83.4  170.1    28.8    35.6   \n\n   BMXARML  BMXARMC  BMXWAIST  HIQ210  \n0     43.6     35.9     101.1     2.0  \n1     40.0     33.2     107.9     NaN  \n2     37.0     31.0     116.5     2.0  \n\n[3 rows x 28 columns]",
      "text/html": "<div>\n<style scoped>\n    .dataframe tbody tr th:only-of-type {\n        vertical-align: middle;\n    }\n\n    .dataframe tbody tr th {\n        vertical-align: top;\n    }\n\n    .dataframe thead th {\n        text-align: right;\n    }\n</style>\n<table border=\"1\" class=\"dataframe\">\n  <thead>\n    <tr style=\"text-align: right;\">\n      <th></th>\n      <th>SEQN</th>\n      <th>ALQ101</th>\n      <th>ALQ110</th>\n      <th>ALQ130</th>\n      <th>SMQ020</th>\n      <th>RIAGENDR</th>\n      <th>RIDAGEYR</th>\n      <th>RIDRETH1</th>\n      <th>DMDCITZN</th>\n      <th>DMDEDUC2</th>\n      <th>...</th>\n      <th>BPXSY2</th>\n      <th>BPXDI2</th>\n      <th>BMXWT</th>\n      <th>BMXHT</th>\n      <th>BMXBMI</th>\n      <th>BMXLEG</th>\n      <th>BMXARML</th>\n      <th>BMXARMC</th>\n      <th>BMXWAIST</th>\n      <th>HIQ210</th>\n    </tr>\n  </thead>\n  <tbody>\n    <tr>\n      <th>0</th>\n      <td>83732</td>\n      <td>1.0</td>\n      <td>NaN</td>\n      <td>1.0</td>\n      <td>1</td>\n      <td>1</td>\n      <td>62</td>\n      <td>3</td>\n      <td>1.0</td>\n      <td>5.0</td>\n      <td>...</td>\n      <td>124.0</td>\n      <td>64.0</td>\n      <td>94.8</td>\n      <td>184.5</td>\n      <td>27.8</td>\n      <td>43.3</td>\n      <td>43.6</td>\n      <td>35.9</td>\n      <td>101.1</td>\n      <td>2.0</td>\n    </tr>\n    <tr>\n      <th>1</th>\n      <td>83733</td>\n      <td>1.0</td>\n      <td>NaN</td>\n      <td>6.0</td>\n      <td>1</td>\n      <td>1</td>\n      <td>53</td>\n      <td>3</td>\n      <td>2.0</td>\n      <td>3.0</td>\n      <td>...</td>\n      <td>140.0</td>\n      <td>88.0</td>\n      <td>90.4</td>\n      <td>171.4</td>\n      <td>30.8</td>\n      <td>38.0</td>\n      <td>40.0</td>\n      <td>33.2</td>\n      <td>107.9</td>\n      <td>NaN</td>\n    </tr>\n    <tr>\n      <th>2</th>\n      <td>83734</td>\n      <td>1.0</td>\n      <td>NaN</td>\n      <td>NaN</td>\n      <td>1</td>\n      <td>1</td>\n      <td>78</td>\n      <td>3</td>\n      <td>1.0</td>\n      <td>3.0</td>\n      <td>...</td>\n      <td>132.0</td>\n      <td>44.0</td>\n      <td>83.4</td>\n      <td>170.1</td>\n      <td>28.8</td>\n      <td>35.6</td>\n      <td>37.0</td>\n      <td>31.0</td>\n      <td>116.5</td>\n      <td>2.0</td>\n    </tr>\n  </tbody>\n</table>\n<p>3 rows × 28 columns</p>\n</div>"
     },
     "execution_count": 18,
     "metadata": {},
     "output_type": "execute_result"
    }
   ],
   "source": [
    "df = pd.read_csv('data/nhanes_2015_2016.csv')\n",
    "df.head(3)"
   ],
   "metadata": {
    "collapsed": false,
    "pycharm": {
     "name": "#%%\n"
    }
   }
  },
  {
   "cell_type": "markdown",
   "source": [
    "## Question 1\n",
    "\n",
    "Restrict the sample to women between 35 and 50, then use the marital status variable [DMDMARTL](https://wwwn.cdc.gov/Nchs/Nhanes/2015-2016/DEMO_I.htm#DMDMARTL) to partition this sample into two groups - women who are currently married, and women who are not currently married.  Within each of these groups, calculate the proportion of women who have completed college.  Calculate 95% confidence intervals for each of these proportions."
   ],
   "metadata": {
    "collapsed": false
   }
  },
  {
   "cell_type": "code",
   "execution_count": 19,
   "outputs": [
    {
     "data": {
      "text/plain": "       SEQN  ALQ101  ALQ110  ALQ130  SMQ020  RIAGENDR  RIDAGEYR  RIDRETH1  \\\n3     83735     2.0     1.0     1.0       2         2        56         3   \n4     83736     2.0     1.0     1.0       2         2        42         4   \n5     83737     2.0     2.0     NaN       2         2        72         1   \n7     83742     1.0     NaN     1.0       2         2        32         1   \n12    83752     1.0     NaN     2.0       1         2        30         2   \n...     ...     ...     ...     ...     ...       ...       ...       ...   \n5724  93682     NaN     NaN     NaN       2         2        41         5   \n5727  93689     2.0     1.0     NaN       2         2        69         1   \n5730  93695     2.0     2.0     NaN       1         2        76         3   \n5732  93697     1.0     NaN     1.0       1         2        80         3   \n5734  93702     1.0     NaN     2.0       2         2        24         3   \n\n      DMDCITZN  DMDEDUC2  ...  BPXSY2  BPXDI2  BMXWT  BMXHT  BMXBMI  BMXLEG  \\\n3          1.0       5.0  ...   134.0    68.0  109.8  160.9    42.4    38.5   \n4          1.0       4.0  ...   114.0    54.0   55.2  164.9    20.3    37.4   \n5          2.0       2.0  ...   122.0    58.0   64.4  150.0    28.6    34.4   \n7          2.0       4.0  ...   114.0    70.0   64.5  151.3    28.2    34.1   \n12         1.0       4.0  ...   104.0    50.0   71.2  163.6    26.6    37.3   \n...        ...       ...  ...     ...     ...    ...    ...     ...     ...   \n5724       1.0       5.0  ...   122.0    84.0   58.2  166.9    20.9    37.1   \n5727       1.0       1.0  ...   166.0    64.0   64.8  151.9    28.1    32.2   \n5730       1.0       3.0  ...   112.0    46.0   59.1  165.8    21.5    38.2   \n5732       1.0       4.0  ...   146.0    58.0   71.7  152.2    31.0    31.3   \n5734       1.0       5.0  ...   114.0    68.0   58.3  165.0    21.4    38.2   \n\n      BMXARML  BMXARMC  BMXWAIST  HIQ210  \n3        37.7     38.3     110.1     2.0  \n4        36.0     27.2      80.4     2.0  \n5        33.5     31.4      92.9     NaN  \n7        33.1     31.5      93.3     2.0  \n12       35.7     31.0      90.7     2.0  \n...       ...      ...       ...     ...  \n5724     35.3     26.9      80.8     2.0  \n5727     32.6     28.7     101.1     2.0  \n5730     37.0     29.5      95.0     2.0  \n5732     37.5     28.8       NaN     2.0  \n5734     33.5     26.2      72.5     2.0  \n\n[2976 rows x 28 columns]",
      "text/html": "<div>\n<style scoped>\n    .dataframe tbody tr th:only-of-type {\n        vertical-align: middle;\n    }\n\n    .dataframe tbody tr th {\n        vertical-align: top;\n    }\n\n    .dataframe thead th {\n        text-align: right;\n    }\n</style>\n<table border=\"1\" class=\"dataframe\">\n  <thead>\n    <tr style=\"text-align: right;\">\n      <th></th>\n      <th>SEQN</th>\n      <th>ALQ101</th>\n      <th>ALQ110</th>\n      <th>ALQ130</th>\n      <th>SMQ020</th>\n      <th>RIAGENDR</th>\n      <th>RIDAGEYR</th>\n      <th>RIDRETH1</th>\n      <th>DMDCITZN</th>\n      <th>DMDEDUC2</th>\n      <th>...</th>\n      <th>BPXSY2</th>\n      <th>BPXDI2</th>\n      <th>BMXWT</th>\n      <th>BMXHT</th>\n      <th>BMXBMI</th>\n      <th>BMXLEG</th>\n      <th>BMXARML</th>\n      <th>BMXARMC</th>\n      <th>BMXWAIST</th>\n      <th>HIQ210</th>\n    </tr>\n  </thead>\n  <tbody>\n    <tr>\n      <th>3</th>\n      <td>83735</td>\n      <td>2.0</td>\n      <td>1.0</td>\n      <td>1.0</td>\n      <td>2</td>\n      <td>2</td>\n      <td>56</td>\n      <td>3</td>\n      <td>1.0</td>\n      <td>5.0</td>\n      <td>...</td>\n      <td>134.0</td>\n      <td>68.0</td>\n      <td>109.8</td>\n      <td>160.9</td>\n      <td>42.4</td>\n      <td>38.5</td>\n      <td>37.7</td>\n      <td>38.3</td>\n      <td>110.1</td>\n      <td>2.0</td>\n    </tr>\n    <tr>\n      <th>4</th>\n      <td>83736</td>\n      <td>2.0</td>\n      <td>1.0</td>\n      <td>1.0</td>\n      <td>2</td>\n      <td>2</td>\n      <td>42</td>\n      <td>4</td>\n      <td>1.0</td>\n      <td>4.0</td>\n      <td>...</td>\n      <td>114.0</td>\n      <td>54.0</td>\n      <td>55.2</td>\n      <td>164.9</td>\n      <td>20.3</td>\n      <td>37.4</td>\n      <td>36.0</td>\n      <td>27.2</td>\n      <td>80.4</td>\n      <td>2.0</td>\n    </tr>\n    <tr>\n      <th>5</th>\n      <td>83737</td>\n      <td>2.0</td>\n      <td>2.0</td>\n      <td>NaN</td>\n      <td>2</td>\n      <td>2</td>\n      <td>72</td>\n      <td>1</td>\n      <td>2.0</td>\n      <td>2.0</td>\n      <td>...</td>\n      <td>122.0</td>\n      <td>58.0</td>\n      <td>64.4</td>\n      <td>150.0</td>\n      <td>28.6</td>\n      <td>34.4</td>\n      <td>33.5</td>\n      <td>31.4</td>\n      <td>92.9</td>\n      <td>NaN</td>\n    </tr>\n    <tr>\n      <th>7</th>\n      <td>83742</td>\n      <td>1.0</td>\n      <td>NaN</td>\n      <td>1.0</td>\n      <td>2</td>\n      <td>2</td>\n      <td>32</td>\n      <td>1</td>\n      <td>2.0</td>\n      <td>4.0</td>\n      <td>...</td>\n      <td>114.0</td>\n      <td>70.0</td>\n      <td>64.5</td>\n      <td>151.3</td>\n      <td>28.2</td>\n      <td>34.1</td>\n      <td>33.1</td>\n      <td>31.5</td>\n      <td>93.3</td>\n      <td>2.0</td>\n    </tr>\n    <tr>\n      <th>12</th>\n      <td>83752</td>\n      <td>1.0</td>\n      <td>NaN</td>\n      <td>2.0</td>\n      <td>1</td>\n      <td>2</td>\n      <td>30</td>\n      <td>2</td>\n      <td>1.0</td>\n      <td>4.0</td>\n      <td>...</td>\n      <td>104.0</td>\n      <td>50.0</td>\n      <td>71.2</td>\n      <td>163.6</td>\n      <td>26.6</td>\n      <td>37.3</td>\n      <td>35.7</td>\n      <td>31.0</td>\n      <td>90.7</td>\n      <td>2.0</td>\n    </tr>\n    <tr>\n      <th>...</th>\n      <td>...</td>\n      <td>...</td>\n      <td>...</td>\n      <td>...</td>\n      <td>...</td>\n      <td>...</td>\n      <td>...</td>\n      <td>...</td>\n      <td>...</td>\n      <td>...</td>\n      <td>...</td>\n      <td>...</td>\n      <td>...</td>\n      <td>...</td>\n      <td>...</td>\n      <td>...</td>\n      <td>...</td>\n      <td>...</td>\n      <td>...</td>\n      <td>...</td>\n      <td>...</td>\n    </tr>\n    <tr>\n      <th>5724</th>\n      <td>93682</td>\n      <td>NaN</td>\n      <td>NaN</td>\n      <td>NaN</td>\n      <td>2</td>\n      <td>2</td>\n      <td>41</td>\n      <td>5</td>\n      <td>1.0</td>\n      <td>5.0</td>\n      <td>...</td>\n      <td>122.0</td>\n      <td>84.0</td>\n      <td>58.2</td>\n      <td>166.9</td>\n      <td>20.9</td>\n      <td>37.1</td>\n      <td>35.3</td>\n      <td>26.9</td>\n      <td>80.8</td>\n      <td>2.0</td>\n    </tr>\n    <tr>\n      <th>5727</th>\n      <td>93689</td>\n      <td>2.0</td>\n      <td>1.0</td>\n      <td>NaN</td>\n      <td>2</td>\n      <td>2</td>\n      <td>69</td>\n      <td>1</td>\n      <td>1.0</td>\n      <td>1.0</td>\n      <td>...</td>\n      <td>166.0</td>\n      <td>64.0</td>\n      <td>64.8</td>\n      <td>151.9</td>\n      <td>28.1</td>\n      <td>32.2</td>\n      <td>32.6</td>\n      <td>28.7</td>\n      <td>101.1</td>\n      <td>2.0</td>\n    </tr>\n    <tr>\n      <th>5730</th>\n      <td>93695</td>\n      <td>2.0</td>\n      <td>2.0</td>\n      <td>NaN</td>\n      <td>1</td>\n      <td>2</td>\n      <td>76</td>\n      <td>3</td>\n      <td>1.0</td>\n      <td>3.0</td>\n      <td>...</td>\n      <td>112.0</td>\n      <td>46.0</td>\n      <td>59.1</td>\n      <td>165.8</td>\n      <td>21.5</td>\n      <td>38.2</td>\n      <td>37.0</td>\n      <td>29.5</td>\n      <td>95.0</td>\n      <td>2.0</td>\n    </tr>\n    <tr>\n      <th>5732</th>\n      <td>93697</td>\n      <td>1.0</td>\n      <td>NaN</td>\n      <td>1.0</td>\n      <td>1</td>\n      <td>2</td>\n      <td>80</td>\n      <td>3</td>\n      <td>1.0</td>\n      <td>4.0</td>\n      <td>...</td>\n      <td>146.0</td>\n      <td>58.0</td>\n      <td>71.7</td>\n      <td>152.2</td>\n      <td>31.0</td>\n      <td>31.3</td>\n      <td>37.5</td>\n      <td>28.8</td>\n      <td>NaN</td>\n      <td>2.0</td>\n    </tr>\n    <tr>\n      <th>5734</th>\n      <td>93702</td>\n      <td>1.0</td>\n      <td>NaN</td>\n      <td>2.0</td>\n      <td>2</td>\n      <td>2</td>\n      <td>24</td>\n      <td>3</td>\n      <td>1.0</td>\n      <td>5.0</td>\n      <td>...</td>\n      <td>114.0</td>\n      <td>68.0</td>\n      <td>58.3</td>\n      <td>165.0</td>\n      <td>21.4</td>\n      <td>38.2</td>\n      <td>33.5</td>\n      <td>26.2</td>\n      <td>72.5</td>\n      <td>2.0</td>\n    </tr>\n  </tbody>\n</table>\n<p>2976 rows × 28 columns</p>\n</div>"
     },
     "execution_count": 19,
     "metadata": {},
     "output_type": "execute_result"
    }
   ],
   "source": [
    "# get all females between 35-50\n",
    "female_df = df[(df['RIAGENDR'] == 2) &\n",
    "               ((df['RIDAGEYR'] >= 35) & df['RIDAGEYR'] <= 50)]\n",
    "female_df"
   ],
   "metadata": {
    "collapsed": false,
    "pycharm": {
     "name": "#%%\n"
    }
   }
  },
  {
   "cell_type": "code",
   "execution_count": 20,
   "outputs": [
    {
     "data": {
      "text/plain": "Not Married    1546\nMarried        1303\nName: DMDMARTL, dtype: int64"
     },
     "execution_count": 20,
     "metadata": {},
     "output_type": "execute_result"
    }
   ],
   "source": [
    "# replace values for DMDMARTL\n",
    "female_df['DMDMARTL'] = female_df['DMDMARTL'].replace({\n",
    "    1: 'Married', 2: 'Not Married', 3: 'Not Married',\n",
    "    4: 'Not Married', 5: 'Not Married', 6: 'Not Married',\n",
    "    77: np.nan, 99: np.nan, '.': np.nan}).dropna()\n",
    "\n",
    "female_df['DMDMARTL'].value_counts()"
   ],
   "metadata": {
    "collapsed": false,
    "pycharm": {
     "name": "#%%\n"
    }
   }
  },
  {
   "cell_type": "code",
   "execution_count": 21,
   "outputs": [
    {
     "data": {
      "text/plain": "Not Graduated    2132\nGraduated         717\nName: DMDEDUC2, dtype: int64"
     },
     "execution_count": 21,
     "metadata": {},
     "output_type": "execute_result"
    }
   ],
   "source": [
    "# replace values for DMDEDUC2\n",
    "female_df['DMDEDUC2'] = female_df['DMDEDUC2'].replace({\n",
    "    1: 'Not Graduated', 2: 'Not Graduated', 3: 'Not Graduated', 4: 'Not Graduated',\n",
    "    5: 'Graduated', 7: np.nan, 9: np.nan, '.': np.nan\n",
    "}).dropna()\n",
    "\n",
    "female_df['DMDEDUC2'].value_counts()"
   ],
   "metadata": {
    "collapsed": false,
    "pycharm": {
     "name": "#%%\n"
    }
   }
  },
  {
   "cell_type": "code",
   "execution_count": 22,
   "outputs": [
    {
     "data": {
      "text/plain": "DMDMARTL     DMDEDUC2     \nMarried      Not Graduated    0.682272\n             Graduated        0.317728\nNot Married  Not Graduated    0.803883\n             Graduated        0.196117\nName: DMDEDUC2, dtype: float64"
     },
     "execution_count": 22,
     "metadata": {},
     "output_type": "execute_result"
    }
   ],
   "source": [
    "# proportion of women who graduated\n",
    "female_df.groupby('DMDMARTL')['DMDEDUC2'].value_counts(normalize=True)"
   ],
   "metadata": {
    "collapsed": false,
    "pycharm": {
     "name": "#%%\n"
    }
   }
  },
  {
   "cell_type": "code",
   "execution_count": 34,
   "outputs": [
    {
     "data": {
      "text/plain": "DMDEDUC2     Graduated  Not Graduated\nDMDMARTL                             \nMarried            414            889\nNot Married        303           1242",
      "text/html": "<div>\n<style scoped>\n    .dataframe tbody tr th:only-of-type {\n        vertical-align: middle;\n    }\n\n    .dataframe tbody tr th {\n        vertical-align: top;\n    }\n\n    .dataframe thead th {\n        text-align: right;\n    }\n</style>\n<table border=\"1\" class=\"dataframe\">\n  <thead>\n    <tr style=\"text-align: right;\">\n      <th>DMDEDUC2</th>\n      <th>Graduated</th>\n      <th>Not Graduated</th>\n    </tr>\n    <tr>\n      <th>DMDMARTL</th>\n      <th></th>\n      <th></th>\n    </tr>\n  </thead>\n  <tbody>\n    <tr>\n      <th>Married</th>\n      <td>414</td>\n      <td>889</td>\n    </tr>\n    <tr>\n      <th>Not Married</th>\n      <td>303</td>\n      <td>1242</td>\n    </tr>\n  </tbody>\n</table>\n</div>"
     },
     "execution_count": 34,
     "metadata": {},
     "output_type": "execute_result"
    }
   ],
   "source": [
    "pd.crosstab(female_df['DMDMARTL'], female_df['DMDEDUC2'])"
   ],
   "metadata": {
    "collapsed": false,
    "pycharm": {
     "name": "#%%\n"
    }
   }
  },
  {
   "cell_type": "code",
   "execution_count": 29,
   "outputs": [
    {
     "data": {
      "text/plain": "0.012898354557108836"
     },
     "execution_count": 29,
     "metadata": {},
     "output_type": "execute_result"
    }
   ],
   "source": [
    "# calculate proportion and size for married women\n",
    "prop_married = .317728\n",
    "n_married    = len(female_df[female_df['DMDMARTL'] == 'Married'])\n",
    "se_married   = np.sqrt(prop_married * (1 - prop_married) / n_married)\n",
    "se_married"
   ],
   "metadata": {
    "collapsed": false,
    "pycharm": {
     "name": "#%%\n"
    }
   }
  },
  {
   "cell_type": "code",
   "execution_count": 30,
   "outputs": [
    {
     "name": "stdout",
     "output_type": "stream",
     "text": [
      "Lower and Upper bounds for married women who have graduated: (0.2924472250680667, 0.3430087749319333)\n"
     ]
    }
   ],
   "source": [
    "# calculate bounds\n",
    "moe = 1.96 * se_married\n",
    "lower_bound, upper_bound = prop_married - moe, prop_married + moe\n",
    "print(f'Lower and Upper bounds for married women who have graduated: ({lower_bound}, {upper_bound})')"
   ],
   "metadata": {
    "collapsed": false,
    "pycharm": {
     "name": "#%%\n"
    }
   }
  },
  {
   "cell_type": "code",
   "execution_count": 35,
   "outputs": [
    {
     "data": {
      "text/plain": "(0.29244800208510313, 0.34300863644137425)"
     },
     "execution_count": 35,
     "metadata": {},
     "output_type": "execute_result"
    }
   ],
   "source": [
    "# automated functions with statsmodels\n",
    "sm.stats.proportion_confint(414, 414 + 889)"
   ],
   "metadata": {
    "collapsed": false,
    "pycharm": {
     "name": "#%%\n"
    }
   }
  },
  {
   "cell_type": "code",
   "execution_count": 31,
   "outputs": [
    {
     "data": {
      "text/plain": "0.010098323939390348"
     },
     "execution_count": 31,
     "metadata": {},
     "output_type": "execute_result"
    }
   ],
   "source": [
    "# calculate proportion and size for not married women\n",
    "prop_not_married = .196117\n",
    "n_not_married    = len(female_df[female_df['DMDMARTL'] == 'Not Married'])\n",
    "se_not_married   = np.sqrt(prop_not_married * (1 - prop_not_married) / n_not_married)\n",
    "se_not_married"
   ],
   "metadata": {
    "collapsed": false,
    "pycharm": {
     "name": "#%%\n"
    }
   }
  },
  {
   "cell_type": "code",
   "execution_count": 33,
   "outputs": [
    {
     "name": "stdout",
     "output_type": "stream",
     "text": [
      "Lower and Upper bounds for NOT married women who have graduated: (0.17632428507879494, 0.2159097149212051)\n"
     ]
    }
   ],
   "source": [
    "# calculate bounds\n",
    "moe = 1.96 * se_not_married\n",
    "lower_bound, upper_bound = prop_not_married - moe, prop_not_married + moe\n",
    "print(f'Lower and Upper bounds for NOT married women who have graduated: ({lower_bound}, {upper_bound})')"
   ],
   "metadata": {
    "collapsed": false,
    "pycharm": {
     "name": "#%%\n"
    }
   }
  },
  {
   "cell_type": "code",
   "execution_count": 36,
   "outputs": [
    {
     "data": {
      "text/plain": "(0.17631776826939938, 0.2159152414393385)"
     },
     "execution_count": 36,
     "metadata": {},
     "output_type": "execute_result"
    }
   ],
   "source": [
    "sm.stats.proportion_confint(303, 303 + 1242)"
   ],
   "metadata": {
    "collapsed": false,
    "pycharm": {
     "name": "#%%\n"
    }
   }
  },
  {
   "cell_type": "markdown",
   "source": [
    "__Q1a.__ Identify which of the two confidence intervals is wider, and explain why this is the case."
   ],
   "metadata": {
    "collapsed": false
   }
  },
  {
   "cell_type": "markdown",
   "source": [
    "__Q1b.__ Write 1-2 sentences summarizing these findings for an audience that does not know what a confidence interval is (the goal here is to report the substance of what you learned about how marital status and educational attainment are related, not to teach a person what a confidence interval is)."
   ],
   "metadata": {
    "collapsed": false
   }
  },
  {
   "cell_type": "markdown",
   "source": [
    "## Question 2\n",
    "\n",
    "Construct a 95% confidence interval for the proportion of smokers who are female. Construct a 95% confidence interval for the proportion of smokers who are male. Construct a 95% confidence interval for the **difference** between those two gender proportions."
   ],
   "metadata": {
    "collapsed": false
   }
  },
  {
   "cell_type": "code",
   "execution_count": 42,
   "outputs": [
    {
     "data": {
      "text/plain": "SMQ020      no   yes\nRIAGENDR            \nfemale    2066   906\nmale      1340  1413",
      "text/html": "<div>\n<style scoped>\n    .dataframe tbody tr th:only-of-type {\n        vertical-align: middle;\n    }\n\n    .dataframe tbody tr th {\n        vertical-align: top;\n    }\n\n    .dataframe thead th {\n        text-align: right;\n    }\n</style>\n<table border=\"1\" class=\"dataframe\">\n  <thead>\n    <tr style=\"text-align: right;\">\n      <th>SMQ020</th>\n      <th>no</th>\n      <th>yes</th>\n    </tr>\n    <tr>\n      <th>RIAGENDR</th>\n      <th></th>\n      <th></th>\n    </tr>\n  </thead>\n  <tbody>\n    <tr>\n      <th>female</th>\n      <td>2066</td>\n      <td>906</td>\n    </tr>\n    <tr>\n      <th>male</th>\n      <td>1340</td>\n      <td>1413</td>\n    </tr>\n  </tbody>\n</table>\n</div>"
     },
     "execution_count": 42,
     "metadata": {},
     "output_type": "execute_result"
    }
   ],
   "source": [
    "smokers = df[['RIAGENDR', 'SMQ020']]\n",
    "smokers['SMQ020'] = smokers['SMQ020'].replace({7: np.nan, 9: np.nan})\n",
    "smokers.dropna(inplace=True)\n",
    "\n",
    "pd.crosstab(smokers['RIAGENDR'].replace({1: 'male',\n",
    "                                         2: 'female'}),\n",
    "            smokers['SMQ020'].replace({1: 'yes',\n",
    "                                       2: 'no'}))"
   ],
   "metadata": {
    "collapsed": false,
    "pycharm": {
     "name": "#%%\n"
    }
   }
  },
  {
   "cell_type": "code",
   "execution_count": 43,
   "outputs": [
    {
     "name": "stdout",
     "output_type": "stream",
     "text": [
      "(0.2882949879861214, 0.32139545615923526)\n",
      "(0.49458749263718593, 0.5319290347874418)\n"
     ]
    }
   ],
   "source": [
    "# female smokers\n",
    "print(sm.stats.proportion_confint(906, 906 + 2066))\n",
    "\n",
    "# male smokers\n",
    "print(sm.stats.proportion_confint(1413, 1413 + 1340))"
   ],
   "metadata": {
    "collapsed": false,
    "pycharm": {
     "name": "#%%\n"
    }
   }
  },
  {
   "cell_type": "code",
   "execution_count": 46,
   "outputs": [
    {
     "data": {
      "text/plain": "0.009526078653689868"
     },
     "execution_count": 46,
     "metadata": {},
     "output_type": "execute_result"
    }
   ],
   "source": [
    "# difference\n",
    "p_male = 1413 / (1413 + 1340)\n",
    "n_male = 1413 + 1340\n",
    "\n",
    "se_male = np.sqrt(p_male * (1 - p_male) / n_male)\n",
    "se_male"
   ],
   "metadata": {
    "collapsed": false,
    "pycharm": {
     "name": "#%%\n"
    }
   }
  },
  {
   "cell_type": "code",
   "execution_count": 47,
   "outputs": [
    {
     "data": {
      "text/plain": "0.008444152146214435"
     },
     "execution_count": 47,
     "metadata": {},
     "output_type": "execute_result"
    }
   ],
   "source": [
    "p_female = 906 / (906 + 2066)\n",
    "n_female = 906 + 2066\n",
    "\n",
    "se_female = np.sqrt(p_female * (1 - p_female) / n_female)\n",
    "se_female"
   ],
   "metadata": {
    "collapsed": false,
    "pycharm": {
     "name": "#%%\n"
    }
   }
  },
  {
   "cell_type": "code",
   "execution_count": 48,
   "outputs": [
    {
     "data": {
      "text/plain": "0.012729881381407434"
     },
     "execution_count": 48,
     "metadata": {},
     "output_type": "execute_result"
    }
   ],
   "source": [
    "se_diff = np.sqrt(se_female ** 2 + se_male ** 2)\n",
    "se_diff"
   ],
   "metadata": {
    "collapsed": false,
    "pycharm": {
     "name": "#%%\n"
    }
   }
  },
  {
   "cell_type": "code",
   "execution_count": 50,
   "outputs": [
    {
     "data": {
      "text/plain": "(-0.2338728044024504, -0.18295327887682067)"
     },
     "execution_count": 50,
     "metadata": {},
     "output_type": "execute_result"
    }
   ],
   "source": [
    "diff = p_female - p_male\n",
    "\n",
    "lower_bound, upper_bound = diff - 2 * se_diff, diff + 2 * se_diff\n",
    "lower_bound, upper_bound"
   ],
   "metadata": {
    "collapsed": false,
    "pycharm": {
     "name": "#%%\n"
    }
   }
  },
  {
   "cell_type": "markdown",
   "source": [
    "__Q2a.__ Why might it be relevant to report the separate gender proportions **and** the difference between the gender proportions?"
   ],
   "metadata": {
    "collapsed": false
   }
  },
  {
   "cell_type": "markdown",
   "source": [
    "__Q2b.__ How does the **width** of the confidence interval for the difference between the gender proportions compare to the widths of the confidence intervals for the separate gender proportions?"
   ],
   "metadata": {
    "collapsed": false
   }
  },
  {
   "cell_type": "markdown",
   "source": [
    "## Question 3\n",
    "\n",
    "Construct a 95% interval for height ([BMXHT](https://wwwn.cdc.gov/Nchs/Nhanes/2015-2016/BMX_I.htm#BMXHT)) in centimeters.  Then convert height from centimeters to inches by dividing by 2.54, and construct a 95% confidence interval for height in inches.  Finally, convert the endpoints (the lower and upper confidence limits) of the confidence interval from inches to back to centimeters"
   ],
   "metadata": {
    "collapsed": false
   }
  },
  {
   "cell_type": "code",
   "execution_count": null,
   "outputs": [],
   "source": [],
   "metadata": {
    "collapsed": false,
    "pycharm": {
     "name": "#%%\n"
    }
   }
  },
  {
   "cell_type": "markdown",
   "source": [
    "__Q3a.__ Describe how the confidence interval constructed in centimeters relates to the confidence interval constructed in inches."
   ],
   "metadata": {
    "collapsed": false
   }
  },
  {
   "cell_type": "code",
   "execution_count": null,
   "outputs": [],
   "source": [],
   "metadata": {
    "collapsed": false,
    "pycharm": {
     "name": "#%%\n"
    }
   }
  },
  {
   "cell_type": "markdown",
   "source": [
    "## Question 4\n",
    "\n",
    "Partition the sample based on 10-year age bands, i.e. the resulting groups will consist of people with ages from 18-28, 29-38, etc. Construct 95% confidence intervals for the difference between the mean BMI for females and for males within each age band."
   ],
   "metadata": {
    "collapsed": false
   }
  },
  {
   "cell_type": "code",
   "execution_count": null,
   "outputs": [],
   "source": [],
   "metadata": {
    "collapsed": false,
    "pycharm": {
     "name": "#%%\n"
    }
   }
  },
  {
   "cell_type": "markdown",
   "source": [
    "__Q4a.__ How do the widths of these confidence intervals differ?  Provide an explanation for any substantial diferences in the confidence interval widths that you see."
   ],
   "metadata": {
    "collapsed": false
   }
  },
  {
   "cell_type": "code",
   "execution_count": null,
   "outputs": [],
   "source": [],
   "metadata": {
    "collapsed": false,
    "pycharm": {
     "name": "#%%\n"
    }
   }
  },
  {
   "cell_type": "markdown",
   "source": [
    "## Question 5\n",
    "\n",
    "Construct a 95% confidence interval for the first and second systolic blood pressure measures, and for the difference between the first and second systolic blood pressure measurements within a subject."
   ],
   "metadata": {
    "collapsed": false
   }
  },
  {
   "cell_type": "code",
   "execution_count": null,
   "outputs": [],
   "source": [],
   "metadata": {
    "collapsed": false,
    "pycharm": {
     "name": "#%%\n"
    }
   }
  },
  {
   "cell_type": "markdown",
   "source": [
    "__Q5a.__ Based on these confidence intervals, would you say that a difference of zero between the population mean values of the first and second systolic blood pressure measures is consistent with the data?"
   ],
   "metadata": {
    "collapsed": false
   }
  },
  {
   "cell_type": "markdown",
   "source": [
    "__Q5b.__ Discuss how the width of the confidence interval for the within-subject difference compares to the widths of the confidence intervals for the first and second measures."
   ],
   "metadata": {
    "collapsed": false
   }
  },
  {
   "cell_type": "markdown",
   "source": [
    "## Question 6\n",
    "\n",
    "Construct a 95% confidence interval for the mean difference between the average age of a smoker, and the average age of a non-smoker."
   ],
   "metadata": {
    "collapsed": false
   }
  },
  {
   "cell_type": "code",
   "execution_count": null,
   "outputs": [],
   "source": [],
   "metadata": {
    "collapsed": false,
    "pycharm": {
     "name": "#%%\n"
    }
   }
  },
  {
   "cell_type": "markdown",
   "source": [
    "__Q6a.__ Use graphical and numerical techniques to compare the variation in the ages of smokers to the variation in the ages of non-smokers."
   ],
   "metadata": {
    "collapsed": false
   }
  },
  {
   "cell_type": "code",
   "execution_count": null,
   "outputs": [],
   "source": [],
   "metadata": {
    "collapsed": false,
    "pycharm": {
     "name": "#%%\n"
    }
   }
  },
  {
   "cell_type": "markdown",
   "source": [
    "__Q6b.__ Does it appear that uncertainty about the mean age of smokers, or uncertainty about the mean age of non-smokers contributed more to the uncertainty for the mean difference that we are focusing on here?"
   ],
   "metadata": {
    "collapsed": false
   }
  },
  {
   "cell_type": "code",
   "execution_count": null,
   "outputs": [],
   "source": [],
   "metadata": {
    "collapsed": false,
    "pycharm": {
     "name": "#%%\n"
    }
   }
  }
 ],
 "metadata": {
  "kernelspec": {
   "display_name": "Python 3",
   "language": "python",
   "name": "python3"
  },
  "language_info": {
   "codemirror_mode": {
    "name": "ipython",
    "version": 2
   },
   "file_extension": ".py",
   "mimetype": "text/x-python",
   "name": "python",
   "nbconvert_exporter": "python",
   "pygments_lexer": "ipython2",
   "version": "2.7.6"
  }
 },
 "nbformat": 4,
 "nbformat_minor": 0
}