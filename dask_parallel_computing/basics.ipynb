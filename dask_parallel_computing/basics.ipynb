{
 "cells": [
  {
   "cell_type": "markdown",
   "source": [
    "# Dask\n",
    "\n",
    "### Threads vs Processes\n",
    "\n",
    "##### Threads\n",
    "- very fast to initiate\n",
    "- share memory space with main session\n",
    "- no memory transfer needed\n",
    "- limited by the GIL which allows one thread to read the code at once\n",
    "\n",
    "\n",
    "##### Processes\n",
    "- take time and memory to set up\n",
    "- have separate memory pools\n",
    "- very slow to transfer data between themselves and to the main Python session\n",
    "- each have their own GIL so don't need to take turns reading the code"
   ],
   "metadata": {
    "collapsed": false
   }
  },
  {
   "cell_type": "code",
   "execution_count": 1,
   "metadata": {
    "collapsed": true
   },
   "outputs": [],
   "source": [
    "from dask import delayed\n",
    "import dask\n",
    "\n",
    "import graphviz"
   ]
  },
  {
   "cell_type": "markdown",
   "source": [
    "### delayed function call"
   ],
   "metadata": {
    "collapsed": false,
    "pycharm": {
     "name": "#%% md\n"
    }
   }
  },
  {
   "cell_type": "code",
   "execution_count": 2,
   "outputs": [
    {
     "name": "stdout",
     "output_type": "stream",
     "text": [
      "Delayed('func-f3ac46f3-87c2-4401-a43d-241247766322')\n"
     ]
    },
    {
     "data": {
      "text/plain": "16"
     },
     "execution_count": 2,
     "metadata": {},
     "output_type": "execute_result"
    }
   ],
   "source": [
    "def func(x):\n",
    "    return x**2\n",
    "\n",
    "# call the function\n",
    "delayed_result = delayed(func)(4)\n",
    "print(delayed_result)\n",
    "\n",
    "# actually compute it\n",
    "actual_result = delayed_result.compute()\n",
    "actual_result"
   ],
   "metadata": {
    "collapsed": false,
    "pycharm": {
     "name": "#%%\n"
    }
   }
  },
  {
   "cell_type": "markdown",
   "source": [
    "### bad usage: no parallel computing (just sequential)"
   ],
   "metadata": {
    "collapsed": false
   }
  },
  {
   "cell_type": "code",
   "execution_count": 3,
   "outputs": [
    {
     "data": {
      "text/plain": "(13, 4)"
     },
     "execution_count": 3,
     "metadata": {},
     "output_type": "execute_result"
    }
   ],
   "source": [
    "# INefficient code:\n",
    "delayed1 = delayed(func)(3) + 4\n",
    "delayed2 = delayed(func)(3) - 5\n",
    "\n",
    "result1 = delayed1.compute()\n",
    "result2 = delayed2.compute()\n",
    "\n",
    "result1, result2"
   ],
   "metadata": {
    "collapsed": false,
    "pycharm": {
     "name": "#%%\n"
    }
   }
  },
  {
   "cell_type": "markdown",
   "source": [
    "### good usage: multi-threading"
   ],
   "metadata": {
    "collapsed": false
   }
  },
  {
   "cell_type": "code",
   "execution_count": 10,
   "outputs": [
    {
     "data": {
      "text/plain": "(13, 4)"
     },
     "execution_count": 10,
     "metadata": {},
     "output_type": "execute_result"
    }
   ],
   "source": [
    "result1, result2 = dask.compute(delayed1, delayed2)\n",
    "result1, result2"
   ],
   "metadata": {
    "collapsed": false,
    "pycharm": {
     "name": "#%%\n"
    }
   }
  },
  {
   "cell_type": "code",
   "execution_count": 11,
   "outputs": [
    {
     "data": {
      "image/png": "[encoded data removed]",
      "text/plain": "<IPython.core.display.Image object>"
     },
     "execution_count": 11,
     "metadata": {},
     "output_type": "execute_result"
    }
   ],
   "source": [
    "dask.visualize(delayed1, delayed2)"
   ],
   "metadata": {
    "collapsed": false,
    "pycharm": {
     "name": "#%%\n"
    }
   }
  },
  {
   "cell_type": "code",
   "execution_count": null,
   "outputs": [],
   "source": [],
   "metadata": {
    "collapsed": false,
    "pycharm": {
     "name": "#%%\n"
    }
   }
  },
  {
   "cell_type": "code",
   "execution_count": null,
   "outputs": [],
   "source": [],
   "metadata": {
    "collapsed": false,
    "pycharm": {
     "name": "#%%\n"
    }
   }
  }
 ],
 "metadata": {
  "kernelspec": {
   "display_name": "Python 3",
   "language": "python",
   "name": "python3"
  },
  "language_info": {
   "codemirror_mode": {
    "name": "ipython",
    "version": 2
   },
   "file_extension": ".py",
   "mimetype": "text/x-python",
   "name": "python",
   "nbconvert_exporter": "python",
   "pygments_lexer": "ipython2",
   "version": "2.7.6"
  }
 },
 "nbformat": 4,
 "nbformat_minor": 0
}