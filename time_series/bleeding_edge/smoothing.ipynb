{
 "cells": [
  {
   "cell_type": "markdown",
   "source": [
    "# Smoothing techniques\n",
    "\n",
    "Smoothing is a statistical method we can use to create an approximation function to remove irregularities in data and attempt to capture significant patterns.\n",
    "\n",
    "It utilizes weighted averages of a previous timestamp to predict a new value. **It's used for short-term forecasts; efficient when time-series moves slowly over time; it's done either additively or multiplicatively**.\n",
    "\n",
    "### Simple Exponential Smoothing (SES)\n",
    "\n",
    "- used for univariate data with **no clear trend or seasonal patterns**\n",
    "- involves **alpha** parameter for smoothing\n",
    "\n",
    "**Idea**: employ weighted moving average including expontially decreasing weights which gives higher weights to the most recent observation.\n",
    "\n",
    "**Example**: a time series has:\n",
    "- level ($L_t$)\n",
    "- no trends\n",
    "- no seasonality\n",
    "- noise (somewhat constant)\n",
    "\n",
    "$SES$ is the forecast estimate level at a most recent point in time:\n",
    "$$F_{t+k}=L_t$$\n",
    "Estimate and update the level ($L_t$): $$L_t=\\alpha Y_t + (1 - \\alpha) * L_{t-1}$$\n",
    "\n",
    "$\\alpha$ is within [0, 1]\n"
   ],
   "metadata": {
    "collapsed": false
   }
  },
  {
   "cell_type": "code",
   "execution_count": null,
   "metadata": {
    "collapsed": true,
    "pycharm": {
     "is_executing": true
    }
   },
   "outputs": [],
   "source": [
    "import pandas as pd\n",
    "import numpy as np\n",
    "import seaborn as sns\n",
    "import matplotlib.pyplot as plt\n",
    "\n",
    "sns.set()\n",
    "plt.rcParams['figure.figsize'] = (20, 5)"
   ]
  }
 ],
 "metadata": {
  "kernelspec": {
   "display_name": "Python 3",
   "language": "python",
   "name": "python3"
  },
  "language_info": {
   "codemirror_mode": {
    "name": "ipython",
    "version": 2
   },
   "file_extension": ".py",
   "mimetype": "text/x-python",
   "name": "python",
   "nbconvert_exporter": "python",
   "pygments_lexer": "ipython2",
   "version": "2.7.6"
  }
 },
 "nbformat": 4,
 "nbformat_minor": 0
}