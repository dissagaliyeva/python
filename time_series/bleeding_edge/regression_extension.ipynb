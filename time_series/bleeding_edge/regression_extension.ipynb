{
 "cells": [
  {
   "cell_type": "markdown",
   "source": [
    "# Types of Stationary Behavior in a Time Series\n",
    "\n",
    "Stationary data means that its statistical properties do not vary with time. There are 5 forms:\n",
    "- Strict / strong stationary: no changes even if shifted\n",
    "- first-order stationary: constant mean\n",
    "- weak (second-order) stationary: mean, variance and covariance are constant throughout the series\n",
    "- trend stationary: varies around the trends (statistical mean property varies), can be linear or quadric\n",
    "- difference stationary\n",
    "\n",
    "\n",
    "### Making data stationary\n",
    "\n",
    "When data is nonstationary, it means it has trend and seasonality patterns that NEED TO BE removed. By making it stationary, data will have a constant mean and variance. To check whether data is stationary, use three methods:\n",
    "- plots\n",
    "- summary statistics\n",
    "- statistics tests\n"
   ],
   "metadata": {
    "collapsed": false
   }
  },
  {
   "cell_type": "markdown",
   "source": [
    "### Plots\n",
    "\n",
    "A plot that is not increasing or decreasing and shows constant growth over time is known as a stationary time series."
   ],
   "metadata": {
    "collapsed": false
   }
  },
  {
   "cell_type": "code",
   "execution_count": null,
   "metadata": {
    "collapsed": true
   },
   "outputs": [],
   "source": []
  },
  {
   "cell_type": "markdown",
   "source": [
    "### Statistics unit root tests\n",
    "\n",
    "Unit root tests' concept is that the statistical property of a given time series is not constant with time. Here, we would use statistical tests to check whether a time series is stationary.\n",
    "\n",
    "- Dickey-Fuller test: This is based on linear regression. Serial correlation is a big issue of this method.\n",
    "\n",
    "- Augmented Dickey-Fuller test : This solves the serial correlation problem of a DF test and handles big and complex models. This method is widely used.\n",
    "\n",
    "- The Schmidt-Phillips test : This comprises the coefficients of the deterministic variables in the null and alternative hypotheses. Substitutes of this method are ro-test and tau-test.\n",
    "\n",
    "- The Phillips-Perron (PP) test : This test is a betterment of the Dickey-Fuller test, and it embellishes the test for autocorrelation and heteroscedasticity in the errors.\n",
    "\n",
    "- KPSS test: This is the reverse of the ADF test where the null hypothesis is the process of stationary trends and an alternative hypothesis for unit roots.\n"
   ],
   "metadata": {
    "collapsed": false
   }
  },
  {
   "cell_type": "markdown",
   "source": [
    "#### Interpreting the p-value\n",
    "\n",
    "null hypothesis (H0) = not stationary\n",
    "alternate hypothesis (H1) = stationary\n",
    "\n",
    "If the p-value is below the threshold, then we reject the null hypothesis, which means that the time series is stationary. If the p-value exceeds the threshold and we fail to reject the null hypothesis, it means that the time series is nonstationary. An ADF test looks at the test statistic, the p-value, and the critical values found at 1%, 2.5%, 5%, and 10% confidence intervals.\n",
    "\n",
    "\n",
    "##### Augmented Dickey-Fuller test\n",
    "\n",
    "This test uses a negative number. More negative = higher the chance of rejecting the hypothesis\n",
    "\n",
    "$H_0$ : Data has unique roots and time series is **non-stationary**.\n",
    "$H_1$ : Data has no unique roots and time series **is stationary**.\n",
    "\n",
    "\n",
    "##### KPSS: trend stationary\n",
    "\n",
    "$H_0$ : **no** unit root and stationary time series\n",
    "$H_1$ : **unit** root and non-stationary time series\n",
    "\n",
    "\n",
    "---\n",
    "\n",
    "### Make data stationary\n",
    "\n",
    "##### Differencing (lag difference) = stabilize mean\n",
    "\n",
    "Reasons for differencing:\n",
    "- To convert non-stationary data into stationary time series\n",
    "- To remove seasonal trends (4th for quarterly, 12th for monthly data)\n",
    "\n",
    "##### First-order differencing (trend differencing)\n",
    "- will remove a linear trend (differences=1)\n",
    "- will remove a quadratic trend (differences=2)\n",
    "- at a lag equal to the period will remove a seasonal trend "
   ],
   "metadata": {
    "collapsed": false
   }
  },
  {
   "cell_type": "markdown",
   "source": [
    "## Autocorrelation and partial autocorrelation functions\n",
    "\n",
    "Autocorrelation function (ACF) is a method to determine the linear relationship between t and t-1. After checking ACF, it helps to determine if differencing is required or not.\n",
    "\n",
    "Autocorrelation (serial correlation) is the situation when the random error is more gradual to the last random error. Since data is independent, regression fails to capture trends. In this situation, the random error is positively correlated with time.\n",
    "\n",
    "##### Steps to identify whether data is showing an AR or MA signature:\n",
    "- plot or use an ADF test to check whether a series is stationary\n",
    "- if time series **does not** have a stationary difference, check for stationary\n",
    "- plot acf and pacf and use the table below to determine p and q for the model\n",
    "\n",
    "| --- | --- | --- |\n",
    "| Model | ACF pattern | PACF pattern |\n",
    "| AR (p) | Exponential decay or damped sine wave pattern of both | significant spike through first lag |\n",
    "| MA (q) | significant spike through first lag | exponentail decay |\n",
    "| ARMA (1, 1) | Exponential decay from lag 1 | Exponential decay from lag 1 |\n",
    "| ARMA (p, q) | Exponential decay | Exponential decay |"
   ],
   "metadata": {
    "collapsed": false
   }
  },
  {
   "cell_type": "code",
   "execution_count": null,
   "outputs": [],
   "source": [],
   "metadata": {
    "collapsed": false,
    "pycharm": {
     "name": "#%%\n"
    }
   }
  }
 ],
 "metadata": {
  "kernelspec": {
   "display_name": "Python 3",
   "language": "python",
   "name": "python3"
  },
  "language_info": {
   "codemirror_mode": {
    "name": "ipython",
    "version": 2
   },
   "file_extension": ".py",
   "mimetype": "text/x-python",
   "name": "python",
   "nbconvert_exporter": "python",
   "pygments_lexer": "ipython2",
   "version": "2.7.6"
  }
 },
 "nbformat": 4,
 "nbformat_minor": 0
}