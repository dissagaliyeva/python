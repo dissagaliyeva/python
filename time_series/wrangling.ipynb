{
 "cells": [
  {
   "cell_type": "markdown",
   "source": [
    "# Data Cleaning\n",
    "\n",
    "The following problems are common when working with time-series data:\n",
    "- missing data\n",
    "- changing the frequency of a time series (upsampling & downsampling)\n",
    "- smoothing data\n",
    "- addressing seasonality in data\n",
    "- preventing unintentional lookaheads\n",
    "\n",
    "### Handling missing data\n",
    "\n",
    "It's very common to have missing data. Several aspects of it in the medical field can be:\n",
    "- The patient didn’t comply with a desired measurement.\n",
    "- The patient’s health stats were in good shape, so there was no need to take a particular measurement.\n",
    "- The patient was forgotten or undertreated.\n",
    "- A medical device had a random technical malfunction.\n",
    "- There was a data entry error.\n",
    "\n",
    "\n",
    "The solutions can be:\n",
    "- Imputation\n",
    "When we fill in missing data based on observations about the entire data set.\n",
    "- Interpolation\n",
    "When we use neighboring data points to estimate the missing value. Interpolation can also be a form of imputation.\n",
    "- Deletion of affected time periods\n",
    "When we choose not to use time periods that have missing data at all."
   ],
   "metadata": {
    "collapsed": false
   }
  },
  {
   "cell_type": "code",
   "execution_count": null,
   "metadata": {
    "collapsed": true
   },
   "outputs": [],
   "source": []
  }
 ],
 "metadata": {
  "kernelspec": {
   "display_name": "Python 3",
   "language": "python",
   "name": "python3"
  },
  "language_info": {
   "codemirror_mode": {
    "name": "ipython",
    "version": 2
   },
   "file_extension": ".py",
   "mimetype": "text/x-python",
   "name": "python",
   "nbconvert_exporter": "python",
   "pygments_lexer": "ipython2",
   "version": "2.7.6"
  }
 },
 "nbformat": 4,
 "nbformat_minor": 0
}