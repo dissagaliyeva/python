{
 "cells": [
  {
   "cell_type": "code",
   "execution_count": 7,
   "metadata": {
    "collapsed": true
   },
   "outputs": [],
   "source": [
    "import numpy as np\n",
    "import pandas as pd\n",
    "import matplotlib.pyplot as plt\n",
    "import seaborn as sns\n",
    "\n",
    "import scipy.stats as stats\n",
    "import pylab\n",
    "\n",
    "sns.set()\n",
    "plt.rcParams['figure.figsize'] = (12, 7)\n",
    "\n",
    "import warnings\n",
    "warnings.filterwarnings('ignore')"
   ]
  },
  {
   "cell_type": "code",
   "execution_count": 5,
   "outputs": [
    {
     "data": {
      "text/plain": "                    spx       dax         ftse    nikkei\ndate                                                    \n1994-07-01   469.900000   2224.95  3445.980000  18124.01\n1994-10-01   475.270000   2225.00  3440.580000  18443.44\n1994-11-01   474.130000   2228.10  3413.770000  18485.25\n1994-12-01   474.170000   2182.06  3372.020000  18793.88\n1994-01-13   472.470000   2142.37  3360.010000  18577.26\n...                 ...       ...          ...       ...\n2018-01-23  2839.130362  13559.60  7731.827774  24124.15\n2018-01-24  2837.544008  13414.74  7643.428966  23940.78\n2018-01-25  2839.253031  13298.36  7615.839954  23669.49\n2018-01-26  2872.867839  13340.17  7665.541292  23631.88\n2018-01-29  2853.528411  13324.48  7671.533300  23629.34\n\n[6269 rows x 4 columns]",
      "text/html": "<div>\n<style scoped>\n    .dataframe tbody tr th:only-of-type {\n        vertical-align: middle;\n    }\n\n    .dataframe tbody tr th {\n        vertical-align: top;\n    }\n\n    .dataframe thead th {\n        text-align: right;\n    }\n</style>\n<table border=\"1\" class=\"dataframe\">\n  <thead>\n    <tr style=\"text-align: right;\">\n      <th></th>\n      <th>spx</th>\n      <th>dax</th>\n      <th>ftse</th>\n      <th>nikkei</th>\n    </tr>\n    <tr>\n      <th>date</th>\n      <th></th>\n      <th></th>\n      <th></th>\n      <th></th>\n    </tr>\n  </thead>\n  <tbody>\n    <tr>\n      <th>1994-07-01</th>\n      <td>469.900000</td>\n      <td>2224.95</td>\n      <td>3445.980000</td>\n      <td>18124.01</td>\n    </tr>\n    <tr>\n      <th>1994-10-01</th>\n      <td>475.270000</td>\n      <td>2225.00</td>\n      <td>3440.580000</td>\n      <td>18443.44</td>\n    </tr>\n    <tr>\n      <th>1994-11-01</th>\n      <td>474.130000</td>\n      <td>2228.10</td>\n      <td>3413.770000</td>\n      <td>18485.25</td>\n    </tr>\n    <tr>\n      <th>1994-12-01</th>\n      <td>474.170000</td>\n      <td>2182.06</td>\n      <td>3372.020000</td>\n      <td>18793.88</td>\n    </tr>\n    <tr>\n      <th>1994-01-13</th>\n      <td>472.470000</td>\n      <td>2142.37</td>\n      <td>3360.010000</td>\n      <td>18577.26</td>\n    </tr>\n    <tr>\n      <th>...</th>\n      <td>...</td>\n      <td>...</td>\n      <td>...</td>\n      <td>...</td>\n    </tr>\n    <tr>\n      <th>2018-01-23</th>\n      <td>2839.130362</td>\n      <td>13559.60</td>\n      <td>7731.827774</td>\n      <td>24124.15</td>\n    </tr>\n    <tr>\n      <th>2018-01-24</th>\n      <td>2837.544008</td>\n      <td>13414.74</td>\n      <td>7643.428966</td>\n      <td>23940.78</td>\n    </tr>\n    <tr>\n      <th>2018-01-25</th>\n      <td>2839.253031</td>\n      <td>13298.36</td>\n      <td>7615.839954</td>\n      <td>23669.49</td>\n    </tr>\n    <tr>\n      <th>2018-01-26</th>\n      <td>2872.867839</td>\n      <td>13340.17</td>\n      <td>7665.541292</td>\n      <td>23631.88</td>\n    </tr>\n    <tr>\n      <th>2018-01-29</th>\n      <td>2853.528411</td>\n      <td>13324.48</td>\n      <td>7671.533300</td>\n      <td>23629.34</td>\n    </tr>\n  </tbody>\n</table>\n<p>6269 rows × 4 columns</p>\n</div>"
     },
     "execution_count": 5,
     "metadata": {},
     "output_type": "execute_result"
    }
   ],
   "source": [
    "data = pd.read_csv('data/Index2018.csv', parse_dates=['date'], index_col=0)\n",
    "data"
   ],
   "metadata": {
    "collapsed": false,
    "pycharm": {
     "name": "#%%\n"
    }
   }
  },
  {
   "cell_type": "markdown",
   "source": [
    "### QQ-Plots"
   ],
   "metadata": {
    "collapsed": false
   }
  },
  {
   "cell_type": "code",
   "execution_count": 9,
   "outputs": [
    {
     "data": {
      "text/plain": "<Figure size 432x288 with 1 Axes>",
      "image/png": "[encoded data removed]"
     },
     "metadata": {
      "needs_background": "light"
     },
     "output_type": "display_data"
    }
   ],
   "source": [
    "stats.probplot(data.spx, plot=pylab)\n",
    "pylab.show()"
   ],
   "metadata": {
    "collapsed": false,
    "pycharm": {
     "name": "#%%\n"
    }
   }
  },
  {
   "cell_type": "code",
   "execution_count": null,
   "outputs": [],
   "source": [],
   "metadata": {
    "collapsed": false,
    "pycharm": {
     "name": "#%%\n"
    }
   }
  },
  {
   "cell_type": "code",
   "execution_count": null,
   "outputs": [],
   "source": [],
   "metadata": {
    "collapsed": false,
    "pycharm": {
     "name": "#%%\n"
    }
   }
  }
 ],
 "metadata": {
  "kernelspec": {
   "display_name": "Python 3",
   "language": "python",
   "name": "python3"
  },
  "language_info": {
   "codemirror_mode": {
    "name": "ipython",
    "version": 2
   },
   "file_extension": ".py",
   "mimetype": "text/x-python",
   "name": "python",
   "nbconvert_exporter": "python",
   "pygments_lexer": "ipython2",
   "version": "2.7.6"
  }
 },
 "nbformat": 4,
 "nbformat_minor": 0
}