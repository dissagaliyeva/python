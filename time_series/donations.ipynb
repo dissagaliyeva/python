{
 "cells": [
  {
   "cell_type": "code",
   "execution_count": 38,
   "metadata": {
    "collapsed": true
   },
   "outputs": [],
   "source": [
    "import numpy as np\n",
    "import pandas as pd\n",
    "\n",
    "import seaborn as sns\n",
    "import matplotlib.pyplot as plt\n",
    "\n",
    "sns.set()"
   ]
  },
  {
   "cell_type": "code",
   "execution_count": 9,
   "outputs": [
    {
     "data": {
      "text/plain": "   amount           timestamp  user\n0    25.0 2017-11-12 11:13:44   0.0\n1    50.0 2015-08-25 19:01:45   0.0\n2    25.0 2015-03-26 12:03:47   0.0",
      "text/html": "<div>\n<style scoped>\n    .dataframe tbody tr th:only-of-type {\n        vertical-align: middle;\n    }\n\n    .dataframe tbody tr th {\n        vertical-align: top;\n    }\n\n    .dataframe thead th {\n        text-align: right;\n    }\n</style>\n<table border=\"1\" class=\"dataframe\">\n  <thead>\n    <tr style=\"text-align: right;\">\n      <th></th>\n      <th>amount</th>\n      <th>timestamp</th>\n      <th>user</th>\n    </tr>\n  </thead>\n  <tbody>\n    <tr>\n      <th>0</th>\n      <td>25.0</td>\n      <td>2017-11-12 11:13:44</td>\n      <td>0.0</td>\n    </tr>\n    <tr>\n      <th>1</th>\n      <td>50.0</td>\n      <td>2015-08-25 19:01:45</td>\n      <td>0.0</td>\n    </tr>\n    <tr>\n      <th>2</th>\n      <td>25.0</td>\n      <td>2015-03-26 12:03:47</td>\n      <td>0.0</td>\n    </tr>\n  </tbody>\n</table>\n</div>"
     },
     "execution_count": 9,
     "metadata": {},
     "output_type": "execute_result"
    }
   ],
   "source": [
    "donations = pd.read_csv('https://raw.githubusercontent.com/PracticalTimeSeriesAnalysis/BookRepo/master/Ch02/data/donations.csv', parse_dates=['timestamp'])\n",
    "donations.head(3)"
   ],
   "metadata": {
    "collapsed": false,
    "pycharm": {
     "name": "#%%\n"
    }
   }
  },
  {
   "cell_type": "code",
   "execution_count": 10,
   "outputs": [
    {
     "data": {
      "text/plain": "   emailsOpened  user       week\n0           3.0   1.0 2015-06-29\n1           2.0   1.0 2015-07-13\n2           2.0   1.0 2015-07-20",
      "text/html": "<div>\n<style scoped>\n    .dataframe tbody tr th:only-of-type {\n        vertical-align: middle;\n    }\n\n    .dataframe tbody tr th {\n        vertical-align: top;\n    }\n\n    .dataframe thead th {\n        text-align: right;\n    }\n</style>\n<table border=\"1\" class=\"dataframe\">\n  <thead>\n    <tr style=\"text-align: right;\">\n      <th></th>\n      <th>emailsOpened</th>\n      <th>user</th>\n      <th>week</th>\n    </tr>\n  </thead>\n  <tbody>\n    <tr>\n      <th>0</th>\n      <td>3.0</td>\n      <td>1.0</td>\n      <td>2015-06-29</td>\n    </tr>\n    <tr>\n      <th>1</th>\n      <td>2.0</td>\n      <td>1.0</td>\n      <td>2015-07-13</td>\n    </tr>\n    <tr>\n      <th>2</th>\n      <td>2.0</td>\n      <td>1.0</td>\n      <td>2015-07-20</td>\n    </tr>\n  </tbody>\n</table>\n</div>"
     },
     "execution_count": 10,
     "metadata": {},
     "output_type": "execute_result"
    }
   ],
   "source": [
    "emails = pd.read_csv('https://raw.githubusercontent.com/PracticalTimeSeriesAnalysis/BookRepo/master/Ch02/data/emails.csv', parse_dates=['week'])\n",
    "emails.head(3)"
   ],
   "metadata": {
    "collapsed": false,
    "pycharm": {
     "name": "#%%\n"
    }
   }
  },
  {
   "cell_type": "code",
   "execution_count": 11,
   "outputs": [
    {
     "data": {
      "text/plain": "   user userStats yearJoined\n0     0    silver 2014-01-01\n1     1    silver 2015-01-01\n2     2    silver 2016-01-01",
      "text/html": "<div>\n<style scoped>\n    .dataframe tbody tr th:only-of-type {\n        vertical-align: middle;\n    }\n\n    .dataframe tbody tr th {\n        vertical-align: top;\n    }\n\n    .dataframe thead th {\n        text-align: right;\n    }\n</style>\n<table border=\"1\" class=\"dataframe\">\n  <thead>\n    <tr style=\"text-align: right;\">\n      <th></th>\n      <th>user</th>\n      <th>userStats</th>\n      <th>yearJoined</th>\n    </tr>\n  </thead>\n  <tbody>\n    <tr>\n      <th>0</th>\n      <td>0</td>\n      <td>silver</td>\n      <td>2014-01-01</td>\n    </tr>\n    <tr>\n      <th>1</th>\n      <td>1</td>\n      <td>silver</td>\n      <td>2015-01-01</td>\n    </tr>\n    <tr>\n      <th>2</th>\n      <td>2</td>\n      <td>silver</td>\n      <td>2016-01-01</td>\n    </tr>\n  </tbody>\n</table>\n</div>"
     },
     "execution_count": 11,
     "metadata": {},
     "output_type": "execute_result"
    }
   ],
   "source": [
    "year_joined = pd.read_csv('https://raw.githubusercontent.com/PracticalTimeSeriesAnalysis/BookRepo/master/Ch02/data/year_joined.csv', parse_dates=['yearJoined'])\n",
    "year_joined.head(3)"
   ],
   "metadata": {
    "collapsed": false,
    "pycharm": {
     "name": "#%%\n"
    }
   }
  },
  {
   "cell_type": "code",
   "execution_count": 6,
   "outputs": [
    {
     "data": {
      "text/plain": "           yearJoined\nuserStats            \n1                1000",
      "text/html": "<div>\n<style scoped>\n    .dataframe tbody tr th:only-of-type {\n        vertical-align: middle;\n    }\n\n    .dataframe tbody tr th {\n        vertical-align: top;\n    }\n\n    .dataframe thead th {\n        text-align: right;\n    }\n</style>\n<table border=\"1\" class=\"dataframe\">\n  <thead>\n    <tr style=\"text-align: right;\">\n      <th></th>\n      <th>yearJoined</th>\n    </tr>\n    <tr>\n      <th>userStats</th>\n      <th></th>\n    </tr>\n  </thead>\n  <tbody>\n    <tr>\n      <th>1</th>\n      <td>1000</td>\n    </tr>\n  </tbody>\n</table>\n</div>"
     },
     "execution_count": 6,
     "metadata": {},
     "output_type": "execute_result"
    }
   ],
   "source": [
    "year_joined.groupby('user').count().groupby('userStats').count()"
   ],
   "metadata": {
    "collapsed": false,
    "pycharm": {
     "name": "#%%\n"
    }
   }
  },
  {
   "cell_type": "markdown",
   "source": [
    "### Verify & clean emailsOpened column"
   ],
   "metadata": {
    "collapsed": false,
    "pycharm": {
     "name": "#%% md\n"
    }
   }
  },
  {
   "cell_type": "code",
   "execution_count": 7,
   "outputs": [
    {
     "data": {
      "text/plain": "Empty DataFrame\nColumns: [emailsOpened, user, week]\nIndex: []",
      "text/html": "<div>\n<style scoped>\n    .dataframe tbody tr th:only-of-type {\n        vertical-align: middle;\n    }\n\n    .dataframe tbody tr th {\n        vertical-align: top;\n    }\n\n    .dataframe thead th {\n        text-align: right;\n    }\n</style>\n<table border=\"1\" class=\"dataframe\">\n  <thead>\n    <tr style=\"text-align: right;\">\n      <th></th>\n      <th>emailsOpened</th>\n      <th>user</th>\n      <th>week</th>\n    </tr>\n  </thead>\n  <tbody>\n  </tbody>\n</table>\n</div>"
     },
     "execution_count": 7,
     "metadata": {},
     "output_type": "execute_result"
    }
   ],
   "source": [
    "emails[emails.emailsOpened < 1]"
   ],
   "metadata": {
    "collapsed": false,
    "pycharm": {
     "name": "#%%\n"
    }
   }
  },
  {
   "cell_type": "markdown",
   "source": [
    "There are two possibilities: either nulls are not reported or members always have at least one email event. Anyone who has worked with email data knows that it’s difficult to get people to open emails, so the hypothesis that members always open at least one email per week is quite unlikely. In this case, we can resolve this by looking at the history of just one user:"
   ],
   "metadata": {
    "collapsed": false
   }
  },
  {
   "cell_type": "code",
   "execution_count": 8,
   "outputs": [
    {
     "data": {
      "text/plain": "       emailsOpened   user                 week\n25464           1.0  998.0  2017-12-04 00:00:00\n25465           3.0  998.0  2017-12-11 00:00:00\n25466           3.0  998.0  2017-12-18 00:00:00\n25467           3.0  998.0  2018-01-01 00:00:00\n25468           3.0  998.0  2018-01-08 00:00:00\n25469           2.0  998.0  2018-01-15 00:00:00\n25470           3.0  998.0  2018-01-22 00:00:00\n25471           2.0  998.0  2018-01-29 00:00:00\n25472           3.0  998.0  2018-02-05 00:00:00\n25473           3.0  998.0  2018-02-12 00:00:00\n25474           3.0  998.0  2018-02-19 00:00:00\n25475           2.0  998.0  2018-02-26 00:00:00\n25476           2.0  998.0  2018-03-05 00:00:00\n25477           3.0  998.0  2018-03-12 00:00:00\n25478           2.0  998.0  2018-03-19 00:00:00\n25479           2.0  998.0  2018-03-26 00:00:00\n25480           3.0  998.0  2018-04-02 00:00:00\n25481           3.0  998.0  2018-04-09 00:00:00\n25482           3.0  998.0  2018-04-16 00:00:00\n25483           3.0  998.0  2018-04-30 00:00:00\n25484           3.0  998.0  2018-05-07 00:00:00\n25485           3.0  998.0  2018-05-14 00:00:00\n25486           3.0  998.0  2018-05-21 00:00:00\n25487           3.0  998.0  2018-05-28 00:00:00",
      "text/html": "<div>\n<style scoped>\n    .dataframe tbody tr th:only-of-type {\n        vertical-align: middle;\n    }\n\n    .dataframe tbody tr th {\n        vertical-align: top;\n    }\n\n    .dataframe thead th {\n        text-align: right;\n    }\n</style>\n<table border=\"1\" class=\"dataframe\">\n  <thead>\n    <tr style=\"text-align: right;\">\n      <th></th>\n      <th>emailsOpened</th>\n      <th>user</th>\n      <th>week</th>\n    </tr>\n  </thead>\n  <tbody>\n    <tr>\n      <th>25464</th>\n      <td>1.0</td>\n      <td>998.0</td>\n      <td>2017-12-04 00:00:00</td>\n    </tr>\n    <tr>\n      <th>25465</th>\n      <td>3.0</td>\n      <td>998.0</td>\n      <td>2017-12-11 00:00:00</td>\n    </tr>\n    <tr>\n      <th>25466</th>\n      <td>3.0</td>\n      <td>998.0</td>\n      <td>2017-12-18 00:00:00</td>\n    </tr>\n    <tr>\n      <th>25467</th>\n      <td>3.0</td>\n      <td>998.0</td>\n      <td>2018-01-01 00:00:00</td>\n    </tr>\n    <tr>\n      <th>25468</th>\n      <td>3.0</td>\n      <td>998.0</td>\n      <td>2018-01-08 00:00:00</td>\n    </tr>\n    <tr>\n      <th>25469</th>\n      <td>2.0</td>\n      <td>998.0</td>\n      <td>2018-01-15 00:00:00</td>\n    </tr>\n    <tr>\n      <th>25470</th>\n      <td>3.0</td>\n      <td>998.0</td>\n      <td>2018-01-22 00:00:00</td>\n    </tr>\n    <tr>\n      <th>25471</th>\n      <td>2.0</td>\n      <td>998.0</td>\n      <td>2018-01-29 00:00:00</td>\n    </tr>\n    <tr>\n      <th>25472</th>\n      <td>3.0</td>\n      <td>998.0</td>\n      <td>2018-02-05 00:00:00</td>\n    </tr>\n    <tr>\n      <th>25473</th>\n      <td>3.0</td>\n      <td>998.0</td>\n      <td>2018-02-12 00:00:00</td>\n    </tr>\n    <tr>\n      <th>25474</th>\n      <td>3.0</td>\n      <td>998.0</td>\n      <td>2018-02-19 00:00:00</td>\n    </tr>\n    <tr>\n      <th>25475</th>\n      <td>2.0</td>\n      <td>998.0</td>\n      <td>2018-02-26 00:00:00</td>\n    </tr>\n    <tr>\n      <th>25476</th>\n      <td>2.0</td>\n      <td>998.0</td>\n      <td>2018-03-05 00:00:00</td>\n    </tr>\n    <tr>\n      <th>25477</th>\n      <td>3.0</td>\n      <td>998.0</td>\n      <td>2018-03-12 00:00:00</td>\n    </tr>\n    <tr>\n      <th>25478</th>\n      <td>2.0</td>\n      <td>998.0</td>\n      <td>2018-03-19 00:00:00</td>\n    </tr>\n    <tr>\n      <th>25479</th>\n      <td>2.0</td>\n      <td>998.0</td>\n      <td>2018-03-26 00:00:00</td>\n    </tr>\n    <tr>\n      <th>25480</th>\n      <td>3.0</td>\n      <td>998.0</td>\n      <td>2018-04-02 00:00:00</td>\n    </tr>\n    <tr>\n      <th>25481</th>\n      <td>3.0</td>\n      <td>998.0</td>\n      <td>2018-04-09 00:00:00</td>\n    </tr>\n    <tr>\n      <th>25482</th>\n      <td>3.0</td>\n      <td>998.0</td>\n      <td>2018-04-16 00:00:00</td>\n    </tr>\n    <tr>\n      <th>25483</th>\n      <td>3.0</td>\n      <td>998.0</td>\n      <td>2018-04-30 00:00:00</td>\n    </tr>\n    <tr>\n      <th>25484</th>\n      <td>3.0</td>\n      <td>998.0</td>\n      <td>2018-05-07 00:00:00</td>\n    </tr>\n    <tr>\n      <th>25485</th>\n      <td>3.0</td>\n      <td>998.0</td>\n      <td>2018-05-14 00:00:00</td>\n    </tr>\n    <tr>\n      <th>25486</th>\n      <td>3.0</td>\n      <td>998.0</td>\n      <td>2018-05-21 00:00:00</td>\n    </tr>\n    <tr>\n      <th>25487</th>\n      <td>3.0</td>\n      <td>998.0</td>\n      <td>2018-05-28 00:00:00</td>\n    </tr>\n  </tbody>\n</table>\n</div>"
     },
     "execution_count": 8,
     "metadata": {},
     "output_type": "execute_result"
    }
   ],
   "source": [
    "emails[emails.user == 998]"
   ],
   "metadata": {
    "collapsed": false,
    "pycharm": {
     "name": "#%%\n"
    }
   }
  },
  {
   "cell_type": "markdown",
   "source": [
    "We can see that some weeks are missing. There aren’t any December 2017 email events after December 18, 2017.\n",
    "\n",
    "We can check this more mathematically by calculating how many weekly observations we should have between the first and last event for that member. First we calculate the length of the member’s tenure, in weeks"
   ],
   "metadata": {
    "collapsed": false
   }
  },
  {
   "cell_type": "code",
   "execution_count": 13,
   "outputs": [
    {
     "data": {
      "text/plain": "25.0"
     },
     "execution_count": 13,
     "metadata": {},
     "output_type": "execute_result"
    }
   ],
   "source": [
    "# get the number of weeks the user opened the emails + 1\n",
    "(max(emails[emails.user == 998].week) -\n",
    " min(emails[emails.user == 998].week)).days / 7"
   ],
   "metadata": {
    "collapsed": false,
    "pycharm": {
     "name": "#%%\n"
    }
   }
  },
  {
   "cell_type": "code",
   "execution_count": 15,
   "outputs": [
    {
     "data": {
      "text/plain": "(24, 3)"
     },
     "execution_count": 15,
     "metadata": {},
     "output_type": "execute_result"
    }
   ],
   "source": [
    "emails[emails.user == 998].shape"
   ],
   "metadata": {
    "collapsed": false,
    "pycharm": {
     "name": "#%%\n"
    }
   }
  },
  {
   "cell_type": "markdown",
   "source": [
    "Here we see 24 columns out of 26. There are non-recorded missing values"
   ],
   "metadata": {
    "collapsed": false
   }
  },
  {
   "cell_type": "markdown",
   "source": [
    "### Fill in the blanks\n",
    "\n",
    "It’s a lot easier to fill in all missing weeks for all members by exploiting Pandas’ indexing functionality, rather than writing our own solution. We can generate a MultiIndex for a Pandas data frame, which will create all combinations of weeks and members—that is, a Cartesian product."
   ],
   "metadata": {
    "collapsed": false
   }
  },
  {
   "cell_type": "code",
   "execution_count": 16,
   "outputs": [
    {
     "data": {
      "text/plain": "MultiIndex([('2018-04-09',   1.0),\n            ('2018-04-09',   3.0),\n            ('2018-04-09',   5.0),\n            ('2018-04-09',   6.0),\n            ('2018-04-09',   9.0),\n            ('2018-04-09',  10.0),\n            ('2018-04-09',  14.0),\n            ('2018-04-09',  16.0),\n            ('2018-04-09',  20.0),\n            ('2018-04-09',  21.0),\n            ...\n            ('2015-12-21', 973.0),\n            ('2015-12-21', 977.0),\n            ('2015-12-21', 982.0),\n            ('2015-12-21', 984.0),\n            ('2015-12-21', 987.0),\n            ('2015-12-21', 991.0),\n            ('2015-12-21', 992.0),\n            ('2015-12-21', 993.0),\n            ('2015-12-21', 995.0),\n            ('2015-12-21', 998.0)],\n           length=93247)"
     },
     "execution_count": 16,
     "metadata": {},
     "output_type": "execute_result"
    }
   ],
   "source": [
    "complete_idx = pd.MultiIndex.from_product(\n",
    "    (set(emails.week), set(emails.user))\n",
    ")\n",
    "\n",
    "complete_idx"
   ],
   "metadata": {
    "collapsed": false,
    "pycharm": {
     "name": "#%%\n"
    }
   }
  },
  {
   "cell_type": "markdown",
   "source": [
    "We use this index to reindex the original table and fill in the missing values—in this case with 0 on the assumption that nothing recorded means there was nothing to record. We also reset the index to make the member and week information available as columns, and then name those columns:"
   ],
   "metadata": {
    "collapsed": false
   }
  },
  {
   "cell_type": "code",
   "execution_count": 26,
   "outputs": [],
   "source": [
    "all_email = emails.set_index(['week', 'user'])\\\n",
    "            .reindex(complete_idx, fill_value=0)\\\n",
    "            .reset_index()\n",
    "\n",
    "all_email.columns = ['week', 'user', 'EmailsOpened']"
   ],
   "metadata": {
    "collapsed": false,
    "pycharm": {
     "name": "#%%\n"
    }
   }
  },
  {
   "cell_type": "code",
   "execution_count": 28,
   "outputs": [
    {
     "data": {
      "text/plain": "        week  user  EmailsOpened\n0 2018-04-09   1.0           3.0\n1 2018-04-09   3.0           1.0\n2 2018-04-09   5.0           1.0",
      "text/html": "<div>\n<style scoped>\n    .dataframe tbody tr th:only-of-type {\n        vertical-align: middle;\n    }\n\n    .dataframe tbody tr th {\n        vertical-align: top;\n    }\n\n    .dataframe thead th {\n        text-align: right;\n    }\n</style>\n<table border=\"1\" class=\"dataframe\">\n  <thead>\n    <tr style=\"text-align: right;\">\n      <th></th>\n      <th>week</th>\n      <th>user</th>\n      <th>EmailsOpened</th>\n    </tr>\n  </thead>\n  <tbody>\n    <tr>\n      <th>0</th>\n      <td>2018-04-09</td>\n      <td>1.0</td>\n      <td>3.0</td>\n    </tr>\n    <tr>\n      <th>1</th>\n      <td>2018-04-09</td>\n      <td>3.0</td>\n      <td>1.0</td>\n    </tr>\n    <tr>\n      <th>2</th>\n      <td>2018-04-09</td>\n      <td>5.0</td>\n      <td>1.0</td>\n    </tr>\n  </tbody>\n</table>\n</div>"
     },
     "execution_count": 28,
     "metadata": {},
     "output_type": "execute_result"
    }
   ],
   "source": [
    "all_email.head(3)"
   ],
   "metadata": {
    "collapsed": false,
    "pycharm": {
     "name": "#%%\n"
    }
   }
  },
  {
   "cell_type": "code",
   "execution_count": 20,
   "outputs": [
    {
     "data": {
      "text/plain": "week            67759\nmember          67759\nEmailsOpened    67759\ndtype: int64"
     },
     "execution_count": 20,
     "metadata": {},
     "output_type": "execute_result"
    }
   ],
   "source": [
    "all_email[all_email.EmailsOpened == 0].count()"
   ],
   "metadata": {
    "collapsed": false,
    "pycharm": {
     "name": "#%%\n"
    }
   }
  },
  {
   "cell_type": "code",
   "execution_count": 22,
   "outputs": [
    {
     "data": {
      "text/plain": "0.0    0.726661\n3.0    0.164617\n1.0    0.054372\n2.0    0.054350\nName: EmailsOpened, dtype: float64"
     },
     "execution_count": 22,
     "metadata": {},
     "output_type": "execute_result"
    }
   ],
   "source": [
    "all_email['EmailsOpened'].value_counts(normalize=True)"
   ],
   "metadata": {
    "collapsed": false,
    "pycharm": {
     "name": "#%%\n"
    }
   }
  },
  {
   "cell_type": "markdown",
   "source": [
    "Notice that we have a large number of zeros at the start. These are likely before the member joined the organization, so they would not have been on an email list. There are not too many kinds of analyses where we’d want to keep the member’s truly null weeks around—specifically those weeks before the member ever indicated opening an email. If we had the precise date a member started receiving emails, we would have an objective cutoff. As it is, we will let the data guide us. For each member we determine the start_date and end_date cutoffs by grouping the email DataFrame per member and selecting the maximum and minimum week values:"
   ],
   "metadata": {
    "collapsed": false
   }
  },
  {
   "cell_type": "code",
   "execution_count": 23,
   "outputs": [
    {
     "data": {
      "text/plain": "      user        min        max\n0      1.0 2015-06-29 2018-05-28\n1      3.0 2018-03-05 2018-04-23\n2      5.0 2017-06-05 2018-05-28\n3      6.0 2016-12-05 2018-05-28\n4      9.0 2016-07-18 2018-05-28\n..     ...        ...        ...\n534  991.0 2016-10-24 2016-10-24\n535  992.0 2015-02-09 2015-07-06\n536  993.0 2017-09-11 2018-05-28\n537  995.0 2016-09-05 2018-05-28\n538  998.0 2017-12-04 2018-05-28\n\n[539 rows x 3 columns]",
      "text/html": "<div>\n<style scoped>\n    .dataframe tbody tr th:only-of-type {\n        vertical-align: middle;\n    }\n\n    .dataframe tbody tr th {\n        vertical-align: top;\n    }\n\n    .dataframe thead th {\n        text-align: right;\n    }\n</style>\n<table border=\"1\" class=\"dataframe\">\n  <thead>\n    <tr style=\"text-align: right;\">\n      <th></th>\n      <th>user</th>\n      <th>min</th>\n      <th>max</th>\n    </tr>\n  </thead>\n  <tbody>\n    <tr>\n      <th>0</th>\n      <td>1.0</td>\n      <td>2015-06-29</td>\n      <td>2018-05-28</td>\n    </tr>\n    <tr>\n      <th>1</th>\n      <td>3.0</td>\n      <td>2018-03-05</td>\n      <td>2018-04-23</td>\n    </tr>\n    <tr>\n      <th>2</th>\n      <td>5.0</td>\n      <td>2017-06-05</td>\n      <td>2018-05-28</td>\n    </tr>\n    <tr>\n      <th>3</th>\n      <td>6.0</td>\n      <td>2016-12-05</td>\n      <td>2018-05-28</td>\n    </tr>\n    <tr>\n      <th>4</th>\n      <td>9.0</td>\n      <td>2016-07-18</td>\n      <td>2018-05-28</td>\n    </tr>\n    <tr>\n      <th>...</th>\n      <td>...</td>\n      <td>...</td>\n      <td>...</td>\n    </tr>\n    <tr>\n      <th>534</th>\n      <td>991.0</td>\n      <td>2016-10-24</td>\n      <td>2016-10-24</td>\n    </tr>\n    <tr>\n      <th>535</th>\n      <td>992.0</td>\n      <td>2015-02-09</td>\n      <td>2015-07-06</td>\n    </tr>\n    <tr>\n      <th>536</th>\n      <td>993.0</td>\n      <td>2017-09-11</td>\n      <td>2018-05-28</td>\n    </tr>\n    <tr>\n      <th>537</th>\n      <td>995.0</td>\n      <td>2016-09-05</td>\n      <td>2018-05-28</td>\n    </tr>\n    <tr>\n      <th>538</th>\n      <td>998.0</td>\n      <td>2017-12-04</td>\n      <td>2018-05-28</td>\n    </tr>\n  </tbody>\n</table>\n<p>539 rows × 3 columns</p>\n</div>"
     },
     "execution_count": 23,
     "metadata": {},
     "output_type": "execute_result"
    }
   ],
   "source": [
    "cutoff_dates = emails.groupby('user').week.agg(['min', 'max']).reset_index()\n",
    "cutoff_dates"
   ],
   "metadata": {
    "collapsed": false,
    "pycharm": {
     "name": "#%%\n"
    }
   }
  },
  {
   "cell_type": "code",
   "execution_count": 29,
   "outputs": [
    {
     "name": "stderr",
     "output_type": "stream",
     "text": [
      "C:\\Users\\dinar\\AppData\\Local\\Temp\\ipykernel_8492\\3377467453.py:7: UserWarning: Boolean Series key will be reindexed to match DataFrame index.\n",
      "  all_email[all_email.user == user][\n",
      "C:\\Users\\dinar\\AppData\\Local\\Temp\\ipykernel_8492\\3377467453.py:13: UserWarning: Boolean Series key will be reindexed to match DataFrame index.\n",
      "  all_email[all_email.user == user][\n"
     ]
    }
   ],
   "source": [
    "for _, row in cutoff_dates.iterrows():\n",
    "    user       = row['user']\n",
    "    start_date = row['min']\n",
    "    end_date   = row['max']\n",
    "\n",
    "    all_email.drop(\n",
    "        all_email[all_email.user == user][\n",
    "            all_email.week < start_date\n",
    "        ].index, inplace=True\n",
    "    )\n",
    "\n",
    "    all_email.drop(\n",
    "        all_email[all_email.user == user][\n",
    "            all_email.week > end_date\n",
    "        ].index, inplace=True\n",
    "    )"
   ],
   "metadata": {
    "collapsed": false,
    "pycharm": {
     "name": "#%%\n"
    }
   }
  },
  {
   "cell_type": "code",
   "execution_count": 30,
   "outputs": [
    {
     "data": {
      "text/plain": "3.0    15350\n0.0     6348\n1.0     5070\n2.0     5068\nName: EmailsOpened, dtype: int64"
     },
     "execution_count": 30,
     "metadata": {},
     "output_type": "execute_result"
    }
   ],
   "source": [
    "all_email.EmailsOpened.value_counts()"
   ],
   "metadata": {
    "collapsed": false,
    "pycharm": {
     "name": "#%%\n"
    }
   }
  },
  {
   "cell_type": "code",
   "execution_count": 32,
   "outputs": [
    {
     "data": {
      "text/plain": "                     amount  user\ntimestamp                        \n2017-11-12 11:13:44    25.0   0.0\n2015-08-25 19:01:45    50.0   0.0\n2015-03-26 12:03:47    25.0   0.0",
      "text/html": "<div>\n<style scoped>\n    .dataframe tbody tr th:only-of-type {\n        vertical-align: middle;\n    }\n\n    .dataframe tbody tr th {\n        vertical-align: top;\n    }\n\n    .dataframe thead th {\n        text-align: right;\n    }\n</style>\n<table border=\"1\" class=\"dataframe\">\n  <thead>\n    <tr style=\"text-align: right;\">\n      <th></th>\n      <th>amount</th>\n      <th>user</th>\n    </tr>\n    <tr>\n      <th>timestamp</th>\n      <th></th>\n      <th></th>\n    </tr>\n  </thead>\n  <tbody>\n    <tr>\n      <th>2017-11-12 11:13:44</th>\n      <td>25.0</td>\n      <td>0.0</td>\n    </tr>\n    <tr>\n      <th>2015-08-25 19:01:45</th>\n      <td>50.0</td>\n      <td>0.0</td>\n    </tr>\n    <tr>\n      <th>2015-03-26 12:03:47</th>\n      <td>25.0</td>\n      <td>0.0</td>\n    </tr>\n  </tbody>\n</table>\n</div>"
     },
     "execution_count": 32,
     "metadata": {},
     "output_type": "execute_result"
    }
   ],
   "source": [
    "donations.set_index('timestamp', inplace=True)\n",
    "donations.head(3)"
   ],
   "metadata": {
    "collapsed": false,
    "pycharm": {
     "name": "#%%\n"
    }
   }
  },
  {
   "cell_type": "code",
   "execution_count": 33,
   "outputs": [
    {
     "data": {
      "text/plain": "user   timestamp \n0.0    2015-03-30      25.0\n       2015-04-06       0.0\n       2015-04-13       0.0\n       2015-04-20       0.0\n       2015-04-27       0.0\n                      ...  \n995.0  2017-09-11       0.0\n       2017-09-18       0.0\n       2017-09-25       0.0\n       2017-10-02    1000.0\n998.0  2018-01-08      50.0\nName: amount, Length: 32352, dtype: float64"
     },
     "execution_count": 33,
     "metadata": {},
     "output_type": "execute_result"
    }
   ],
   "source": [
    "agg_don = donations.groupby('user').apply(\n",
    "          lambda x: x.amount.resample('W-MON').sum().dropna()\n",
    ")\n",
    "\n",
    "agg_don"
   ],
   "metadata": {
    "collapsed": false,
    "pycharm": {
     "name": "#%%\n"
    }
   }
  },
  {
   "cell_type": "code",
   "execution_count": 37,
   "outputs": [
    {
     "data": {
      "text/plain": "timestamp\n2015-03-30    25.0\n2015-04-06     0.0\n2015-04-13     0.0\n2015-04-20     0.0\n2015-04-27     0.0\n              ... \n2017-10-16     0.0\n2017-10-23     0.0\n2017-10-30     0.0\n2017-11-06     0.0\n2017-11-13    25.0\nName: amount, Length: 138, dtype: float64"
     },
     "execution_count": 37,
     "metadata": {},
     "output_type": "execute_result"
    }
   ],
   "source": [
    "id_zero = agg_don.loc[0.0]\n",
    "\n"
   ],
   "metadata": {
    "collapsed": false,
    "pycharm": {
     "name": "#%%\n"
    }
   }
  },
  {
   "cell_type": "code",
   "execution_count": null,
   "outputs": [],
   "source": [],
   "metadata": {
    "collapsed": false,
    "pycharm": {
     "name": "#%%\n"
    }
   }
  }
 ],
 "metadata": {
  "kernelspec": {
   "display_name": "Python 3",
   "language": "python",
   "name": "python3"
  },
  "language_info": {
   "codemirror_mode": {
    "name": "ipython",
    "version": 2
   },
   "file_extension": ".py",
   "mimetype": "text/x-python",
   "name": "python",
   "nbconvert_exporter": "python",
   "pygments_lexer": "ipython2",
   "version": "2.7.6"
  }
 },
 "nbformat": 4,
 "nbformat_minor": 0
}