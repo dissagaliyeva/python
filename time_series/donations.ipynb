{
 "cells": [
  {
   "cell_type": "code",
   "execution_count": 1,
   "metadata": {
    "collapsed": true
   },
   "outputs": [],
   "source": [
    "import numpy as np\n",
    "import pandas as pd"
   ]
  },
  {
   "cell_type": "code",
   "execution_count": 9,
   "outputs": [
    {
     "data": {
      "text/plain": "   amount           timestamp  user\n0    25.0 2017-11-12 11:13:44   0.0\n1    50.0 2015-08-25 19:01:45   0.0\n2    25.0 2015-03-26 12:03:47   0.0",
      "text/html": "<div>\n<style scoped>\n    .dataframe tbody tr th:only-of-type {\n        vertical-align: middle;\n    }\n\n    .dataframe tbody tr th {\n        vertical-align: top;\n    }\n\n    .dataframe thead th {\n        text-align: right;\n    }\n</style>\n<table border=\"1\" class=\"dataframe\">\n  <thead>\n    <tr style=\"text-align: right;\">\n      <th></th>\n      <th>amount</th>\n      <th>timestamp</th>\n      <th>user</th>\n    </tr>\n  </thead>\n  <tbody>\n    <tr>\n      <th>0</th>\n      <td>25.0</td>\n      <td>2017-11-12 11:13:44</td>\n      <td>0.0</td>\n    </tr>\n    <tr>\n      <th>1</th>\n      <td>50.0</td>\n      <td>2015-08-25 19:01:45</td>\n      <td>0.0</td>\n    </tr>\n    <tr>\n      <th>2</th>\n      <td>25.0</td>\n      <td>2015-03-26 12:03:47</td>\n      <td>0.0</td>\n    </tr>\n  </tbody>\n</table>\n</div>"
     },
     "execution_count": 9,
     "metadata": {},
     "output_type": "execute_result"
    }
   ],
   "source": [
    "donations = pd.read_csv('https://raw.githubusercontent.com/PracticalTimeSeriesAnalysis/BookRepo/master/Ch02/data/donations.csv', parse_dates=['timestamp'])\n",
    "donations.head(3)"
   ],
   "metadata": {
    "collapsed": false,
    "pycharm": {
     "name": "#%%\n"
    }
   }
  },
  {
   "cell_type": "code",
   "execution_count": 10,
   "outputs": [
    {
     "data": {
      "text/plain": "   emailsOpened  user       week\n0           3.0   1.0 2015-06-29\n1           2.0   1.0 2015-07-13\n2           2.0   1.0 2015-07-20",
      "text/html": "<div>\n<style scoped>\n    .dataframe tbody tr th:only-of-type {\n        vertical-align: middle;\n    }\n\n    .dataframe tbody tr th {\n        vertical-align: top;\n    }\n\n    .dataframe thead th {\n        text-align: right;\n    }\n</style>\n<table border=\"1\" class=\"dataframe\">\n  <thead>\n    <tr style=\"text-align: right;\">\n      <th></th>\n      <th>emailsOpened</th>\n      <th>user</th>\n      <th>week</th>\n    </tr>\n  </thead>\n  <tbody>\n    <tr>\n      <th>0</th>\n      <td>3.0</td>\n      <td>1.0</td>\n      <td>2015-06-29</td>\n    </tr>\n    <tr>\n      <th>1</th>\n      <td>2.0</td>\n      <td>1.0</td>\n      <td>2015-07-13</td>\n    </tr>\n    <tr>\n      <th>2</th>\n      <td>2.0</td>\n      <td>1.0</td>\n      <td>2015-07-20</td>\n    </tr>\n  </tbody>\n</table>\n</div>"
     },
     "execution_count": 10,
     "metadata": {},
     "output_type": "execute_result"
    }
   ],
   "source": [
    "emails = pd.read_csv('https://raw.githubusercontent.com/PracticalTimeSeriesAnalysis/BookRepo/master/Ch02/data/emails.csv', parse_dates=['week'])\n",
    "emails.head(3)"
   ],
   "metadata": {
    "collapsed": false,
    "pycharm": {
     "name": "#%%\n"
    }
   }
  },
  {
   "cell_type": "code",
   "execution_count": 11,
   "outputs": [
    {
     "data": {
      "text/plain": "   user userStats yearJoined\n0     0    silver 2014-01-01\n1     1    silver 2015-01-01\n2     2    silver 2016-01-01",
      "text/html": "<div>\n<style scoped>\n    .dataframe tbody tr th:only-of-type {\n        vertical-align: middle;\n    }\n\n    .dataframe tbody tr th {\n        vertical-align: top;\n    }\n\n    .dataframe thead th {\n        text-align: right;\n    }\n</style>\n<table border=\"1\" class=\"dataframe\">\n  <thead>\n    <tr style=\"text-align: right;\">\n      <th></th>\n      <th>user</th>\n      <th>userStats</th>\n      <th>yearJoined</th>\n    </tr>\n  </thead>\n  <tbody>\n    <tr>\n      <th>0</th>\n      <td>0</td>\n      <td>silver</td>\n      <td>2014-01-01</td>\n    </tr>\n    <tr>\n      <th>1</th>\n      <td>1</td>\n      <td>silver</td>\n      <td>2015-01-01</td>\n    </tr>\n    <tr>\n      <th>2</th>\n      <td>2</td>\n      <td>silver</td>\n      <td>2016-01-01</td>\n    </tr>\n  </tbody>\n</table>\n</div>"
     },
     "execution_count": 11,
     "metadata": {},
     "output_type": "execute_result"
    }
   ],
   "source": [
    "year_joined = pd.read_csv('https://raw.githubusercontent.com/PracticalTimeSeriesAnalysis/BookRepo/master/Ch02/data/year_joined.csv', parse_dates=['yearJoined'])\n",
    "year_joined.head(3)"
   ],
   "metadata": {
    "collapsed": false,
    "pycharm": {
     "name": "#%%\n"
    }
   }
  },
  {
   "cell_type": "code",
   "execution_count": 6,
   "outputs": [
    {
     "data": {
      "text/plain": "           yearJoined\nuserStats            \n1                1000",
      "text/html": "<div>\n<style scoped>\n    .dataframe tbody tr th:only-of-type {\n        vertical-align: middle;\n    }\n\n    .dataframe tbody tr th {\n        vertical-align: top;\n    }\n\n    .dataframe thead th {\n        text-align: right;\n    }\n</style>\n<table border=\"1\" class=\"dataframe\">\n  <thead>\n    <tr style=\"text-align: right;\">\n      <th></th>\n      <th>yearJoined</th>\n    </tr>\n    <tr>\n      <th>userStats</th>\n      <th></th>\n    </tr>\n  </thead>\n  <tbody>\n    <tr>\n      <th>1</th>\n      <td>1000</td>\n    </tr>\n  </tbody>\n</table>\n</div>"
     },
     "execution_count": 6,
     "metadata": {},
     "output_type": "execute_result"
    }
   ],
   "source": [
    "year_joined.groupby('user').count().groupby('userStats').count()"
   ],
   "metadata": {
    "collapsed": false,
    "pycharm": {
     "name": "#%%\n"
    }
   }
  },
  {
   "cell_type": "markdown",
   "source": [
    "### Verify & clean emailsOpened column"
   ],
   "metadata": {
    "collapsed": false,
    "pycharm": {
     "name": "#%% md\n"
    }
   }
  },
  {
   "cell_type": "code",
   "execution_count": 7,
   "outputs": [
    {
     "data": {
      "text/plain": "Empty DataFrame\nColumns: [emailsOpened, user, week]\nIndex: []",
      "text/html": "<div>\n<style scoped>\n    .dataframe tbody tr th:only-of-type {\n        vertical-align: middle;\n    }\n\n    .dataframe tbody tr th {\n        vertical-align: top;\n    }\n\n    .dataframe thead th {\n        text-align: right;\n    }\n</style>\n<table border=\"1\" class=\"dataframe\">\n  <thead>\n    <tr style=\"text-align: right;\">\n      <th></th>\n      <th>emailsOpened</th>\n      <th>user</th>\n      <th>week</th>\n    </tr>\n  </thead>\n  <tbody>\n  </tbody>\n</table>\n</div>"
     },
     "execution_count": 7,
     "metadata": {},
     "output_type": "execute_result"
    }
   ],
   "source": [
    "emails[emails.emailsOpened < 1]"
   ],
   "metadata": {
    "collapsed": false,
    "pycharm": {
     "name": "#%%\n"
    }
   }
  },
  {
   "cell_type": "markdown",
   "source": [
    "There are two possibilities: either nulls are not reported or members always have at least one email event. Anyone who has worked with email data knows that it’s difficult to get people to open emails, so the hypothesis that members always open at least one email per week is quite unlikely. In this case, we can resolve this by looking at the history of just one user:"
   ],
   "metadata": {
    "collapsed": false
   }
  },
  {
   "cell_type": "code",
   "execution_count": 8,
   "outputs": [
    {
     "data": {
      "text/plain": "       emailsOpened   user                 week\n25464           1.0  998.0  2017-12-04 00:00:00\n25465           3.0  998.0  2017-12-11 00:00:00\n25466           3.0  998.0  2017-12-18 00:00:00\n25467           3.0  998.0  2018-01-01 00:00:00\n25468           3.0  998.0  2018-01-08 00:00:00\n25469           2.0  998.0  2018-01-15 00:00:00\n25470           3.0  998.0  2018-01-22 00:00:00\n25471           2.0  998.0  2018-01-29 00:00:00\n25472           3.0  998.0  2018-02-05 00:00:00\n25473           3.0  998.0  2018-02-12 00:00:00\n25474           3.0  998.0  2018-02-19 00:00:00\n25475           2.0  998.0  2018-02-26 00:00:00\n25476           2.0  998.0  2018-03-05 00:00:00\n25477           3.0  998.0  2018-03-12 00:00:00\n25478           2.0  998.0  2018-03-19 00:00:00\n25479           2.0  998.0  2018-03-26 00:00:00\n25480           3.0  998.0  2018-04-02 00:00:00\n25481           3.0  998.0  2018-04-09 00:00:00\n25482           3.0  998.0  2018-04-16 00:00:00\n25483           3.0  998.0  2018-04-30 00:00:00\n25484           3.0  998.0  2018-05-07 00:00:00\n25485           3.0  998.0  2018-05-14 00:00:00\n25486           3.0  998.0  2018-05-21 00:00:00\n25487           3.0  998.0  2018-05-28 00:00:00",
      "text/html": "<div>\n<style scoped>\n    .dataframe tbody tr th:only-of-type {\n        vertical-align: middle;\n    }\n\n    .dataframe tbody tr th {\n        vertical-align: top;\n    }\n\n    .dataframe thead th {\n        text-align: right;\n    }\n</style>\n<table border=\"1\" class=\"dataframe\">\n  <thead>\n    <tr style=\"text-align: right;\">\n      <th></th>\n      <th>emailsOpened</th>\n      <th>user</th>\n      <th>week</th>\n    </tr>\n  </thead>\n  <tbody>\n    <tr>\n      <th>25464</th>\n      <td>1.0</td>\n      <td>998.0</td>\n      <td>2017-12-04 00:00:00</td>\n    </tr>\n    <tr>\n      <th>25465</th>\n      <td>3.0</td>\n      <td>998.0</td>\n      <td>2017-12-11 00:00:00</td>\n    </tr>\n    <tr>\n      <th>25466</th>\n      <td>3.0</td>\n      <td>998.0</td>\n      <td>2017-12-18 00:00:00</td>\n    </tr>\n    <tr>\n      <th>25467</th>\n      <td>3.0</td>\n      <td>998.0</td>\n      <td>2018-01-01 00:00:00</td>\n    </tr>\n    <tr>\n      <th>25468</th>\n      <td>3.0</td>\n      <td>998.0</td>\n      <td>2018-01-08 00:00:00</td>\n    </tr>\n    <tr>\n      <th>25469</th>\n      <td>2.0</td>\n      <td>998.0</td>\n      <td>2018-01-15 00:00:00</td>\n    </tr>\n    <tr>\n      <th>25470</th>\n      <td>3.0</td>\n      <td>998.0</td>\n      <td>2018-01-22 00:00:00</td>\n    </tr>\n    <tr>\n      <th>25471</th>\n      <td>2.0</td>\n      <td>998.0</td>\n      <td>2018-01-29 00:00:00</td>\n    </tr>\n    <tr>\n      <th>25472</th>\n      <td>3.0</td>\n      <td>998.0</td>\n      <td>2018-02-05 00:00:00</td>\n    </tr>\n    <tr>\n      <th>25473</th>\n      <td>3.0</td>\n      <td>998.0</td>\n      <td>2018-02-12 00:00:00</td>\n    </tr>\n    <tr>\n      <th>25474</th>\n      <td>3.0</td>\n      <td>998.0</td>\n      <td>2018-02-19 00:00:00</td>\n    </tr>\n    <tr>\n      <th>25475</th>\n      <td>2.0</td>\n      <td>998.0</td>\n      <td>2018-02-26 00:00:00</td>\n    </tr>\n    <tr>\n      <th>25476</th>\n      <td>2.0</td>\n      <td>998.0</td>\n      <td>2018-03-05 00:00:00</td>\n    </tr>\n    <tr>\n      <th>25477</th>\n      <td>3.0</td>\n      <td>998.0</td>\n      <td>2018-03-12 00:00:00</td>\n    </tr>\n    <tr>\n      <th>25478</th>\n      <td>2.0</td>\n      <td>998.0</td>\n      <td>2018-03-19 00:00:00</td>\n    </tr>\n    <tr>\n      <th>25479</th>\n      <td>2.0</td>\n      <td>998.0</td>\n      <td>2018-03-26 00:00:00</td>\n    </tr>\n    <tr>\n      <th>25480</th>\n      <td>3.0</td>\n      <td>998.0</td>\n      <td>2018-04-02 00:00:00</td>\n    </tr>\n    <tr>\n      <th>25481</th>\n      <td>3.0</td>\n      <td>998.0</td>\n      <td>2018-04-09 00:00:00</td>\n    </tr>\n    <tr>\n      <th>25482</th>\n      <td>3.0</td>\n      <td>998.0</td>\n      <td>2018-04-16 00:00:00</td>\n    </tr>\n    <tr>\n      <th>25483</th>\n      <td>3.0</td>\n      <td>998.0</td>\n      <td>2018-04-30 00:00:00</td>\n    </tr>\n    <tr>\n      <th>25484</th>\n      <td>3.0</td>\n      <td>998.0</td>\n      <td>2018-05-07 00:00:00</td>\n    </tr>\n    <tr>\n      <th>25485</th>\n      <td>3.0</td>\n      <td>998.0</td>\n      <td>2018-05-14 00:00:00</td>\n    </tr>\n    <tr>\n      <th>25486</th>\n      <td>3.0</td>\n      <td>998.0</td>\n      <td>2018-05-21 00:00:00</td>\n    </tr>\n    <tr>\n      <th>25487</th>\n      <td>3.0</td>\n      <td>998.0</td>\n      <td>2018-05-28 00:00:00</td>\n    </tr>\n  </tbody>\n</table>\n</div>"
     },
     "execution_count": 8,
     "metadata": {},
     "output_type": "execute_result"
    }
   ],
   "source": [
    "emails[emails.user == 998]"
   ],
   "metadata": {
    "collapsed": false,
    "pycharm": {
     "name": "#%%\n"
    }
   }
  },
  {
   "cell_type": "markdown",
   "source": [
    "We can see that some weeks are missing. There aren’t any December 2017 email events after December 18, 2017.\n",
    "\n",
    "We can check this more mathematically by calculating how many weekly observations we should have between the first and last event for that member. First we calculate the length of the member’s tenure, in weeks"
   ],
   "metadata": {
    "collapsed": false
   }
  },
  {
   "cell_type": "code",
   "execution_count": 13,
   "outputs": [
    {
     "data": {
      "text/plain": "25.0"
     },
     "execution_count": 13,
     "metadata": {},
     "output_type": "execute_result"
    }
   ],
   "source": [
    "# get the number of weeks the user opened the emails + 1\n",
    "(max(emails[emails.user == 998].week) -\n",
    " min(emails[emails.user == 998].week)).days / 7"
   ],
   "metadata": {
    "collapsed": false,
    "pycharm": {
     "name": "#%%\n"
    }
   }
  },
  {
   "cell_type": "code",
   "execution_count": 15,
   "outputs": [
    {
     "data": {
      "text/plain": "(24, 3)"
     },
     "execution_count": 15,
     "metadata": {},
     "output_type": "execute_result"
    }
   ],
   "source": [
    "emails[emails.user == 998].shape"
   ],
   "metadata": {
    "collapsed": false,
    "pycharm": {
     "name": "#%%\n"
    }
   }
  },
  {
   "cell_type": "markdown",
   "source": [
    "Here we see 24 columns out of 26. There are non-recorded missing values"
   ],
   "metadata": {
    "collapsed": false
   }
  },
  {
   "cell_type": "code",
   "execution_count": null,
   "outputs": [],
   "source": [],
   "metadata": {
    "collapsed": false,
    "pycharm": {
     "name": "#%%\n"
    }
   }
  }
 ],
 "metadata": {
  "kernelspec": {
   "display_name": "Python 3",
   "language": "python",
   "name": "python3"
  },
  "language_info": {
   "codemirror_mode": {
    "name": "ipython",
    "version": 2
   },
   "file_extension": ".py",
   "mimetype": "text/x-python",
   "name": "python",
   "nbconvert_exporter": "python",
   "pygments_lexer": "ipython2",
   "version": "2.7.6"
  }
 },
 "nbformat": 4,
 "nbformat_minor": 0
}