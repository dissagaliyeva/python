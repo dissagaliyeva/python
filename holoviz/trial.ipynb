{
 "cells": [
  {
   "cell_type": "code",
   "execution_count": 19,
   "id": "205857a6",
   "metadata": {},
   "outputs": [],
   "source": [
    "import pandas as pd\n",
    "import numpy as np\n",
    "import panel as pn\n",
    "import hvplot.pandas \n",
    "\n",
    "pn.extension()"
   ]
  },
  {
   "cell_type": "code",
   "execution_count": 7,
   "id": "1da63625",
   "metadata": {},
   "outputs": [
    {
     "data": {
      "text/html": [
       "<div>\n",
       "<style scoped>\n",
       "    .dataframe tbody tr th:only-of-type {\n",
       "        vertical-align: middle;\n",
       "    }\n",
       "\n",
       "    .dataframe tbody tr th {\n",
       "        vertical-align: top;\n",
       "    }\n",
       "\n",
       "    .dataframe thead th {\n",
       "        text-align: right;\n",
       "    }\n",
       "</style>\n",
       "<table border=\"1\" class=\"dataframe\">\n",
       "  <thead>\n",
       "    <tr style=\"text-align: right;\">\n",
       "      <th></th>\n",
       "      <th>iso_code</th>\n",
       "      <th>country</th>\n",
       "      <th>year</th>\n",
       "      <th>co2</th>\n",
       "      <th>co2_per_capita</th>\n",
       "      <th>trade_co2</th>\n",
       "      <th>cement_co2</th>\n",
       "      <th>cement_co2_per_capita</th>\n",
       "      <th>coal_co2</th>\n",
       "      <th>coal_co2_per_capita</th>\n",
       "      <th>...</th>\n",
       "      <th>ghg_excluding_lucf_per_capita</th>\n",
       "      <th>methane</th>\n",
       "      <th>methane_per_capita</th>\n",
       "      <th>nitrous_oxide</th>\n",
       "      <th>nitrous_oxide_per_capita</th>\n",
       "      <th>population</th>\n",
       "      <th>gdp</th>\n",
       "      <th>primary_energy_consumption</th>\n",
       "      <th>energy_per_capita</th>\n",
       "      <th>energy_per_gdp</th>\n",
       "    </tr>\n",
       "  </thead>\n",
       "  <tbody>\n",
       "    <tr>\n",
       "      <th>0</th>\n",
       "      <td>AFG</td>\n",
       "      <td>Afghanistan</td>\n",
       "      <td>1949</td>\n",
       "      <td>0.015</td>\n",
       "      <td>0.002</td>\n",
       "      <td>NaN</td>\n",
       "      <td>NaN</td>\n",
       "      <td>NaN</td>\n",
       "      <td>0.015</td>\n",
       "      <td>0.002</td>\n",
       "      <td>...</td>\n",
       "      <td>NaN</td>\n",
       "      <td>NaN</td>\n",
       "      <td>NaN</td>\n",
       "      <td>NaN</td>\n",
       "      <td>NaN</td>\n",
       "      <td>7624058.0</td>\n",
       "      <td>NaN</td>\n",
       "      <td>NaN</td>\n",
       "      <td>NaN</td>\n",
       "      <td>NaN</td>\n",
       "    </tr>\n",
       "    <tr>\n",
       "      <th>1</th>\n",
       "      <td>AFG</td>\n",
       "      <td>Afghanistan</td>\n",
       "      <td>1950</td>\n",
       "      <td>0.084</td>\n",
       "      <td>0.011</td>\n",
       "      <td>NaN</td>\n",
       "      <td>NaN</td>\n",
       "      <td>NaN</td>\n",
       "      <td>0.021</td>\n",
       "      <td>0.003</td>\n",
       "      <td>...</td>\n",
       "      <td>NaN</td>\n",
       "      <td>NaN</td>\n",
       "      <td>NaN</td>\n",
       "      <td>NaN</td>\n",
       "      <td>NaN</td>\n",
       "      <td>7752117.0</td>\n",
       "      <td>9.421400e+09</td>\n",
       "      <td>NaN</td>\n",
       "      <td>NaN</td>\n",
       "      <td>NaN</td>\n",
       "    </tr>\n",
       "    <tr>\n",
       "      <th>2</th>\n",
       "      <td>AFG</td>\n",
       "      <td>Afghanistan</td>\n",
       "      <td>1951</td>\n",
       "      <td>0.092</td>\n",
       "      <td>0.012</td>\n",
       "      <td>NaN</td>\n",
       "      <td>NaN</td>\n",
       "      <td>NaN</td>\n",
       "      <td>0.026</td>\n",
       "      <td>0.003</td>\n",
       "      <td>...</td>\n",
       "      <td>NaN</td>\n",
       "      <td>NaN</td>\n",
       "      <td>NaN</td>\n",
       "      <td>NaN</td>\n",
       "      <td>NaN</td>\n",
       "      <td>7840151.0</td>\n",
       "      <td>9.692280e+09</td>\n",
       "      <td>NaN</td>\n",
       "      <td>NaN</td>\n",
       "      <td>NaN</td>\n",
       "    </tr>\n",
       "  </tbody>\n",
       "</table>\n",
       "<p>3 rows × 60 columns</p>\n",
       "</div>"
      ],
      "text/plain": [
       "  iso_code      country  year    co2  co2_per_capita  trade_co2  cement_co2  \\\n",
       "0      AFG  Afghanistan  1949  0.015           0.002        NaN         NaN   \n",
       "1      AFG  Afghanistan  1950  0.084           0.011        NaN         NaN   \n",
       "2      AFG  Afghanistan  1951  0.092           0.012        NaN         NaN   \n",
       "\n",
       "   cement_co2_per_capita  coal_co2  coal_co2_per_capita  ...  \\\n",
       "0                    NaN     0.015                0.002  ...   \n",
       "1                    NaN     0.021                0.003  ...   \n",
       "2                    NaN     0.026                0.003  ...   \n",
       "\n",
       "   ghg_excluding_lucf_per_capita  methane  methane_per_capita  nitrous_oxide  \\\n",
       "0                            NaN      NaN                 NaN            NaN   \n",
       "1                            NaN      NaN                 NaN            NaN   \n",
       "2                            NaN      NaN                 NaN            NaN   \n",
       "\n",
       "   nitrous_oxide_per_capita  population           gdp  \\\n",
       "0                       NaN   7624058.0           NaN   \n",
       "1                       NaN   7752117.0  9.421400e+09   \n",
       "2                       NaN   7840151.0  9.692280e+09   \n",
       "\n",
       "   primary_energy_consumption  energy_per_capita  energy_per_gdp  \n",
       "0                         NaN                NaN             NaN  \n",
       "1                         NaN                NaN             NaN  \n",
       "2                         NaN                NaN             NaN  \n",
       "\n",
       "[3 rows x 60 columns]"
      ]
     },
     "execution_count": 7,
     "metadata": {},
     "output_type": "execute_result"
    }
   ],
   "source": [
    "# cache data for performance improvement \n",
    "\n",
    "if 'data' not in pn.state.cache.keys():\n",
    "    data = pd.read_csv('https://raw.githubusercontent.com/owid/co2-data/master/owid-co2-data.csv')\n",
    "    pn.state.cache['data'] = data.copy()\n",
    "    \n",
    "else:\n",
    "    data = pn.state.cache['data']\n",
    "    \n",
    "data.head(3)"
   ]
  },
  {
   "cell_type": "code",
   "execution_count": 8,
   "id": "9b9f7d23",
   "metadata": {},
   "outputs": [],
   "source": [
    "# minor data preprocessing\n",
    "\n",
    "data = data.fillna(0)\n",
    "data['gdp_per_capita'] = np.where(data['population'] != 0,\n",
    "                                  data['gdp'] / data['population'],\n",
    "                                  0)\n"
   ]
  },
  {
   "cell_type": "code",
   "execution_count": 22,
   "id": "e8768689",
   "metadata": {},
   "outputs": [],
   "source": [
    "# make dataframe pipeline interactive \n",
    "idf = data.interactive()"
   ]
  },
  {
   "cell_type": "markdown",
   "id": "c8728408",
   "metadata": {},
   "source": [
    "### CO2 emission over time by continent "
   ]
  },
  {
   "cell_type": "code",
   "execution_count": 20,
   "id": "7186f69e",
   "metadata": {},
   "outputs": [
    {
     "data": {},
     "metadata": {},
     "output_type": "display_data"
    },
    {
     "data": {
      "application/vnd.holoviews_exec.v0+json": "",
      "text/html": [
       "<div id='1068'>\n",
       "\n",
       "\n",
       "\n",
       "\n",
       "\n",
       "  <div class=\"bk-root\" id=\"8eb30019-be76-432a-9b39-cb46be650027\" data-root-id=\"1068\"></div>\n",
       "</div>\n",
       "<script type=\"application/javascript\">(function(root) {\n",
       "  function embed_document(root) {\n",
       "    var docs_json = {\"59a710ea-317e-48f8-8245-83121f494242\":{\"defs\":[{\"extends\":null,\"module\":null,\"name\":\"ReactiveHTML1\",\"overrides\":[],\"properties\":[]},{\"extends\":null,\"module\":null,\"name\":\"FlexBox1\",\"overrides\":[],\"properties\":[{\"default\":\"flex-start\",\"kind\":null,\"name\":\"align_content\"},{\"default\":\"flex-start\",\"kind\":null,\"name\":\"align_items\"},{\"default\":\"row\",\"kind\":null,\"name\":\"flex_direction\"},{\"default\":\"wrap\",\"kind\":null,\"name\":\"flex_wrap\"},{\"default\":\"flex-start\",\"kind\":null,\"name\":\"justify_content\"}]},{\"extends\":null,\"module\":null,\"name\":\"TemplateActions1\",\"overrides\":[],\"properties\":[{\"default\":0,\"kind\":null,\"name\":\"open_modal\"},{\"default\":0,\"kind\":null,\"name\":\"close_modal\"}]},{\"extends\":null,\"module\":null,\"name\":\"MaterialTemplateActions1\",\"overrides\":[],\"properties\":[{\"default\":0,\"kind\":null,\"name\":\"open_modal\"},{\"default\":0,\"kind\":null,\"name\":\"close_modal\"}]}],\"roots\":{\"references\":[{\"attributes\":{\"client_comm_id\":\"8f8150b873bc47a1ad228bd2b0c7487e\",\"comm_id\":\"5368dd95370b41d79248ce883e9d0a0e\",\"plot_id\":\"1068\"},\"id\":\"1069\",\"type\":\"panel.models.comm_manager.CommManager\"},{\"attributes\":{\"end\":2020,\"margin\":[5,10,5,10],\"start\":1750,\"step\":5,\"title\":\"Year slider\",\"value\":1850},\"id\":\"1068\",\"type\":\"Slider\"}],\"root_ids\":[\"1068\",\"1069\"]},\"title\":\"Bokeh Application\",\"version\":\"2.4.2\"}};\n",
       "    var render_items = [{\"docid\":\"59a710ea-317e-48f8-8245-83121f494242\",\"root_ids\":[\"1068\"],\"roots\":{\"1068\":\"8eb30019-be76-432a-9b39-cb46be650027\"}}];\n",
       "    root.Bokeh.embed.embed_items_notebook(docs_json, render_items);\n",
       "  }\n",
       "  if (root.Bokeh !== undefined && root.Bokeh.Panel !== undefined && ( root['Tabulator'] !== undefined)) {\n",
       "    embed_document(root);\n",
       "  } else {\n",
       "    var attempts = 0;\n",
       "    var timer = setInterval(function(root) {\n",
       "      if (root.Bokeh !== undefined && root.Bokeh.Panel !== undefined && (root['Tabulator'] !== undefined)) {\n",
       "        clearInterval(timer);\n",
       "        embed_document(root);\n",
       "      } else if (document.readyState == \"complete\") {\n",
       "        attempts++;\n",
       "        if (attempts > 200) {\n",
       "          clearInterval(timer);\n",
       "          console.log(\"Bokeh: ERROR: Unable to run BokehJS code because BokehJS library is missing\");\n",
       "        }\n",
       "      }\n",
       "    }, 25, root)\n",
       "  }\n",
       "})(window);</script>"
      ],
      "text/plain": [
       "IntSlider(end=2020, name='Year slider', start=1750, step=5, value=1850)"
      ]
     },
     "execution_count": 20,
     "metadata": {
      "application/vnd.holoviews_exec.v0+json": {
       "id": "1068"
      }
     },
     "output_type": "execute_result"
    }
   ],
   "source": [
    "# define panel widgets \n",
    "\n",
    "year_slider = pn.widgets.IntSlider(name='Year slider', \n",
    "                                   start=1750, \n",
    "                                   end=2020,\n",
    "                                   step=5, \n",
    "                                   value=1850)\n",
    "year_slider"
   ]
  },
  {
   "cell_type": "code",
   "execution_count": 11,
   "id": "4bbb0321",
   "metadata": {},
   "outputs": [],
   "source": [
    "# radio buttons for co2 measures \n",
    "\n",
    "yaxis_co2 = pn.widgets.RadioButtonGroup(\n",
    "            name='Y-axis',\n",
    "            options=['co2', 'co2_per_capita'],\n",
    "            button_type='success'\n",
    ")"
   ]
  },
  {
   "cell_type": "code",
   "execution_count": 24,
   "id": "907ce948",
   "metadata": {},
   "outputs": [
    {
     "data": {},
     "metadata": {},
     "output_type": "display_data"
    },
    {
     "data": {
      "application/vnd.holoviews_exec.v0+json": "",
      "text/html": [
       "<div id='1088'>\n",
       "\n",
       "\n",
       "\n",
       "\n",
       "\n",
       "  <div class=\"bk-root\" id=\"36b60a39-640f-4ee6-be15-aedf6ff718f5\" data-root-id=\"1088\"></div>\n",
       "</div>\n",
       "<script type=\"application/javascript\">(function(root) {\n",
       "  function embed_document(root) {\n",
       "    var docs_json = {\"bc69dee3-a164-4d02-9b29-0e6f4007dc59\":{\"defs\":[{\"extends\":null,\"module\":null,\"name\":\"ReactiveHTML1\",\"overrides\":[],\"properties\":[]},{\"extends\":null,\"module\":null,\"name\":\"FlexBox1\",\"overrides\":[],\"properties\":[{\"default\":\"flex-start\",\"kind\":null,\"name\":\"align_content\"},{\"default\":\"flex-start\",\"kind\":null,\"name\":\"align_items\"},{\"default\":\"row\",\"kind\":null,\"name\":\"flex_direction\"},{\"default\":\"wrap\",\"kind\":null,\"name\":\"flex_wrap\"},{\"default\":\"flex-start\",\"kind\":null,\"name\":\"justify_content\"}]},{\"extends\":null,\"module\":null,\"name\":\"TemplateActions1\",\"overrides\":[],\"properties\":[{\"default\":0,\"kind\":null,\"name\":\"open_modal\"},{\"default\":0,\"kind\":null,\"name\":\"close_modal\"}]},{\"extends\":null,\"module\":null,\"name\":\"MaterialTemplateActions1\",\"overrides\":[],\"properties\":[{\"default\":0,\"kind\":null,\"name\":\"open_modal\"},{\"default\":0,\"kind\":null,\"name\":\"close_modal\"}]}],\"roots\":{\"references\":[{\"attributes\":{\"children\":[{\"id\":\"1096\"}],\"margin\":[0,0,0,0],\"name\":\"Row06343\"},\"id\":\"1095\",\"type\":\"Row\"},{\"attributes\":{\"children\":[{\"id\":\"1092\"},{\"id\":\"1093\"}],\"margin\":[0,0,0,0],\"name\":\"Column06338\"},\"id\":\"1091\",\"type\":\"Column\"},{\"attributes\":{\"active\":1,\"button_type\":\"success\",\"labels\":[\"co2\",\"co2_per_capita\"],\"margin\":[5,10,5,10]},\"id\":\"1093\",\"type\":\"RadioButtonGroup\"},{\"attributes\":{\"client_comm_id\":\"1cc25026155945b3849748d6bff0c251\",\"comm_id\":\"ad3530356acc4e5485399ea1f1758ade\",\"plot_id\":\"1088\"},\"id\":\"1097\",\"type\":\"panel.models.comm_manager.CommManager\"},{\"attributes\":{\"children\":[{\"id\":\"1091\"},{\"id\":\"1094\"}],\"margin\":[0,0,0,0],\"name\":\"Row06421\"},\"id\":\"1090\",\"type\":\"Row\"},{\"attributes\":{\"margin\":[5,5,5,5],\"name\":\"DataFrame06418\",\"text\":\"&lt;table border=&quot;0&quot; class=&quot;dataframe panel-df&quot;&gt;\\n  &lt;thead&gt;\\n    &lt;tr style=&quot;text-align: right;&quot;&gt;\\n      &lt;th&gt;&lt;/th&gt;\\n      &lt;th&gt;country&lt;/th&gt;\\n      &lt;th&gt;year&lt;/th&gt;\\n      &lt;th&gt;co2_per_capita&lt;/th&gt;\\n    &lt;/tr&gt;\\n  &lt;/thead&gt;\\n  &lt;tbody&gt;\\n    &lt;tr&gt;\\n      &lt;th&gt;0&lt;/th&gt;\\n      &lt;td&gt;Africa&lt;/td&gt;\\n      &lt;td&gt;1895&lt;/td&gt;\\n      &lt;td&gt;0.664&lt;/td&gt;\\n    &lt;/tr&gt;\\n    &lt;tr&gt;\\n      &lt;th&gt;1&lt;/th&gt;\\n      &lt;td&gt;Asia&lt;/td&gt;\\n      &lt;td&gt;1895&lt;/td&gt;\\n      &lt;td&gt;0.065&lt;/td&gt;\\n    &lt;/tr&gt;\\n    &lt;tr&gt;\\n      &lt;th&gt;2&lt;/th&gt;\\n      &lt;td&gt;Europe&lt;/td&gt;\\n      &lt;td&gt;1895&lt;/td&gt;\\n      &lt;td&gt;2.481&lt;/td&gt;\\n    &lt;/tr&gt;\\n    &lt;tr&gt;\\n      &lt;th&gt;3&lt;/th&gt;\\n      &lt;td&gt;North America&lt;/td&gt;\\n      &lt;td&gt;1895&lt;/td&gt;\\n      &lt;td&gt;5.548&lt;/td&gt;\\n    &lt;/tr&gt;\\n    &lt;tr&gt;\\n      &lt;th&gt;4&lt;/th&gt;\\n      &lt;td&gt;Oceania&lt;/td&gt;\\n      &lt;td&gt;1895&lt;/td&gt;\\n      &lt;td&gt;1.513&lt;/td&gt;\\n    &lt;/tr&gt;\\n    &lt;tr&gt;\\n      &lt;th&gt;5&lt;/th&gt;\\n      &lt;td&gt;South America&lt;/td&gt;\\n      &lt;td&gt;1895&lt;/td&gt;\\n      &lt;td&gt;0.272&lt;/td&gt;\\n    &lt;/tr&gt;\\n    &lt;tr&gt;\\n      &lt;th&gt;6&lt;/th&gt;\\n      &lt;td&gt;World&lt;/td&gt;\\n      &lt;td&gt;1895&lt;/td&gt;\\n      &lt;td&gt;0.935&lt;/td&gt;\\n    &lt;/tr&gt;\\n  &lt;/tbody&gt;\\n&lt;/table&gt;\"},\"id\":\"1096\",\"type\":\"panel.models.markup.HTML\"},{\"attributes\":{\"children\":[{\"id\":\"1089\"}],\"margin\":[0,0,0,0],\"name\":\"Row06423\"},\"id\":\"1088\",\"type\":\"Row\"},{\"attributes\":{\"margin\":[5,5,5,5],\"name\":\"HSpacer06420\",\"sizing_mode\":\"stretch_width\"},\"id\":\"1094\",\"type\":\"Spacer\"},{\"attributes\":{\"children\":[{\"id\":\"1090\"},{\"id\":\"1095\"}],\"margin\":[0,0,0,0],\"name\":\"Column06422\"},\"id\":\"1089\",\"type\":\"Column\"},{\"attributes\":{\"end\":2020,\"margin\":[5,10,5,10],\"start\":1750,\"step\":5,\"title\":\"Year slider\",\"value\":1895},\"id\":\"1092\",\"type\":\"Slider\"}],\"root_ids\":[\"1088\",\"1097\"]},\"title\":\"Bokeh Application\",\"version\":\"2.4.2\"}};\n",
       "    var render_items = [{\"docid\":\"bc69dee3-a164-4d02-9b29-0e6f4007dc59\",\"root_ids\":[\"1088\"],\"roots\":{\"1088\":\"36b60a39-640f-4ee6-be15-aedf6ff718f5\"}}];\n",
       "    root.Bokeh.embed.embed_items_notebook(docs_json, render_items);\n",
       "  }\n",
       "  if (root.Bokeh !== undefined && root.Bokeh.Panel !== undefined && ( root['Tabulator'] !== undefined)) {\n",
       "    embed_document(root);\n",
       "  } else {\n",
       "    var attempts = 0;\n",
       "    var timer = setInterval(function(root) {\n",
       "      if (root.Bokeh !== undefined && root.Bokeh.Panel !== undefined && (root['Tabulator'] !== undefined)) {\n",
       "        clearInterval(timer);\n",
       "        embed_document(root);\n",
       "      } else if (document.readyState == \"complete\") {\n",
       "        attempts++;\n",
       "        if (attempts > 200) {\n",
       "          clearInterval(timer);\n",
       "          console.log(\"Bokeh: ERROR: Unable to run BokehJS code because BokehJS library is missing\");\n",
       "        }\n",
       "      }\n",
       "    }, 25, root)\n",
       "  }\n",
       "})(window);</script>"
      ],
      "text/plain": [
       "<hvplot.interactive.Interactive at 0x20f8fd5d730>"
      ]
     },
     "execution_count": 24,
     "metadata": {
      "application/vnd.holoviews_exec.v0+json": {
       "id": "1088"
      }
     },
     "output_type": "execute_result"
    }
   ],
   "source": [
    "STEP = 5\n",
    "\n",
    "continents = ['World', 'Asia', 'Oceania', 'Europe', 'Africa', \n",
    "              'North America', 'South America', 'Antarctica']\n",
    "\n",
    "co2_pipeline = (\n",
    "        idf[\n",
    "            (idf.year == year_slider) &\n",
    "            (idf.country.isin(continents))\n",
    "        ]\n",
    "        .groupby(['country', 'year'])[yaxis_co2].mean()\n",
    "        .to_frame()\n",
    "        .reset_index()\n",
    "        .sort_values(by='year')\n",
    "        .reset_index(drop=True)\n",
    ")\n",
    "\n",
    "co2_pipeline"
   ]
  },
  {
   "cell_type": "markdown",
   "id": "a0801a69",
   "metadata": {},
   "source": [
    "### Table - CO2 emission over time by continent\n"
   ]
  },
  {
   "cell_type": "code",
   "execution_count": 25,
   "id": "f58b59ec",
   "metadata": {},
   "outputs": [
    {
     "data": {},
     "metadata": {},
     "output_type": "display_data"
    },
    {
     "data": {
      "application/vnd.holoviews_exec.v0+json": "",
      "text/html": [
       "<div id='1142'>\n",
       "\n",
       "\n",
       "\n",
       "\n",
       "\n",
       "  <div class=\"bk-root\" id=\"7f95d601-5426-4fb3-a79b-00ab3489496c\" data-root-id=\"1142\"></div>\n",
       "</div>\n",
       "<script type=\"application/javascript\">(function(root) {\n",
       "  function embed_document(root) {\n",
       "    var docs_json = {\"9a0a65f7-3f16-4303-99e1-859941c68f9a\":{\"defs\":[{\"extends\":null,\"module\":null,\"name\":\"ReactiveHTML1\",\"overrides\":[],\"properties\":[]},{\"extends\":null,\"module\":null,\"name\":\"FlexBox1\",\"overrides\":[],\"properties\":[{\"default\":\"flex-start\",\"kind\":null,\"name\":\"align_content\"},{\"default\":\"flex-start\",\"kind\":null,\"name\":\"align_items\"},{\"default\":\"row\",\"kind\":null,\"name\":\"flex_direction\"},{\"default\":\"wrap\",\"kind\":null,\"name\":\"flex_wrap\"},{\"default\":\"flex-start\",\"kind\":null,\"name\":\"justify_content\"}]},{\"extends\":null,\"module\":null,\"name\":\"TemplateActions1\",\"overrides\":[],\"properties\":[{\"default\":0,\"kind\":null,\"name\":\"open_modal\"},{\"default\":0,\"kind\":null,\"name\":\"close_modal\"}]},{\"extends\":null,\"module\":null,\"name\":\"MaterialTemplateActions1\",\"overrides\":[],\"properties\":[{\"default\":0,\"kind\":null,\"name\":\"open_modal\"},{\"default\":0,\"kind\":null,\"name\":\"close_modal\"}]}],\"roots\":{\"references\":[{\"attributes\":{\"children\":[{\"id\":\"1143\"}],\"margin\":[0,0,0,0],\"name\":\"Row07873\"},\"id\":\"1142\",\"type\":\"Row\"},{\"attributes\":{},\"id\":\"1175\",\"type\":\"UnionRenderers\"},{\"attributes\":{\"data\":{\"co2\":{\"__ndarray__\":\"SOF6FK4XQEAfhetRuFppQGQ7308N25dAL90kBoGRnUC28/3UeClAQPyp8dJNYjpA2/l+arwBrUA=\",\"dtype\":\"float64\",\"order\":\"little\",\"shape\":[7]},\"country\":[\"Africa\",\"Asia\",\"Europe\",\"North America\",\"Oceania\",\"South America\",\"World\"],\"index\":[0,1,2,3,4,5,6],\"year\":[1925,1925,1925,1925,1925,1925,1925]},\"selected\":{\"id\":\"1151\"},\"selection_policy\":{\"id\":\"1175\"}},\"id\":\"1150\",\"type\":\"ColumnDataSource\"},{\"attributes\":{\"active\":0,\"button_type\":\"success\",\"labels\":[\"co2\",\"co2_per_capita\"],\"margin\":[5,10,5,10]},\"id\":\"1147\",\"type\":\"RadioButtonGroup\"},{\"attributes\":{\"children\":[{\"id\":\"1144\"},{\"id\":\"1149\"}],\"margin\":[0,0,0,0],\"name\":\"Column07872\"},\"id\":\"1143\",\"type\":\"Column\"},{\"attributes\":{},\"id\":\"1164\",\"type\":\"IntEditor\"},{\"attributes\":{},\"id\":\"1158\",\"type\":\"StringFormatter\"},{\"attributes\":{\"children\":[{\"id\":\"1173\"}],\"margin\":[0,0,0,0],\"name\":\"Row07794\"},\"id\":\"1149\",\"type\":\"Row\"},{\"attributes\":{\"children\":[{\"id\":\"1145\"},{\"id\":\"1148\"}],\"margin\":[0,0,0,0],\"name\":\"Row07871\"},\"id\":\"1144\",\"type\":\"Row\"},{\"attributes\":{\"editor\":{\"id\":\"1164\"},\"field\":\"year\",\"formatter\":{\"id\":\"1163\"},\"title\":\"year\",\"width\":0},\"id\":\"1165\",\"type\":\"TableColumn\"},{\"attributes\":{\"end\":2020,\"margin\":[5,10,5,10],\"start\":1750,\"step\":5,\"title\":\"Year slider\",\"value\":1925},\"id\":\"1146\",\"type\":\"Slider\"},{\"attributes\":{},\"id\":\"1159\",\"type\":\"StringEditor\"},{\"attributes\":{},\"id\":\"1152\",\"type\":\"NumberFormatter\"},{\"attributes\":{\"editor\":{\"id\":\"1154\"},\"field\":\"index\",\"formatter\":{\"id\":\"1152\"},\"title\":\"index\",\"width\":0},\"id\":\"1155\",\"type\":\"TableColumn\"},{\"attributes\":{\"editor\":{\"id\":\"1159\"},\"field\":\"country\",\"formatter\":{\"id\":\"1158\"},\"title\":\"country\",\"width\":0},\"id\":\"1160\",\"type\":\"TableColumn\"},{\"attributes\":{},\"id\":\"1169\",\"type\":\"NumberEditor\"},{\"attributes\":{\"children\":[{\"id\":\"1146\"},{\"id\":\"1147\"}],\"margin\":[0,0,0,0],\"name\":\"Column07789\"},\"id\":\"1145\",\"type\":\"Column\"},{\"attributes\":{\"format\":\"0,0.0[00000]\"},\"id\":\"1168\",\"type\":\"NumberFormatter\"},{\"attributes\":{\"margin\":[5,5,5,5],\"name\":\"HSpacer07870\",\"sizing_mode\":\"stretch_width\"},\"id\":\"1148\",\"type\":\"Spacer\"},{\"attributes\":{\"columns\":[{\"id\":\"1155\"},{\"id\":\"1160\"},{\"id\":\"1165\"},{\"id\":\"1170\"}],\"configuration\":{\"columns\":[{\"field\":\"index\"},{\"field\":\"country\"},{\"field\":\"year\"},{\"field\":\"co2\"}],\"dataTree\":false,\"selectable\":true},\"height\":330,\"indexes\":[\"index\"],\"layout\":\"fit_data_table\",\"margin\":[5,10,5,10],\"max_page\":1,\"name\":\"\",\"page\":1,\"page_size\":10,\"pagination\":\"remote\",\"selectable_rows\":null,\"sizing_mode\":\"stretch_width\",\"source\":{\"id\":\"1150\"}},\"id\":\"1173\",\"type\":\"panel.models.tabulator.DataTabulator\"},{\"attributes\":{},\"id\":\"1154\",\"type\":\"CellEditor\"},{\"attributes\":{\"indices\":[]},\"id\":\"1151\",\"type\":\"Selection\"},{\"attributes\":{\"client_comm_id\":\"80258b5c452b48868bedd4b3a1f6e060\",\"comm_id\":\"40be46fd3a8a47ffbc8bb0882a81cc9f\",\"plot_id\":\"1142\"},\"id\":\"1181\",\"type\":\"panel.models.comm_manager.CommManager\"},{\"attributes\":{},\"id\":\"1163\",\"type\":\"NumberFormatter\"},{\"attributes\":{\"editor\":{\"id\":\"1169\"},\"field\":\"co2\",\"formatter\":{\"id\":\"1168\"},\"title\":\"co2\",\"width\":0},\"id\":\"1170\",\"type\":\"TableColumn\"}],\"root_ids\":[\"1142\",\"1181\"]},\"title\":\"Bokeh Application\",\"version\":\"2.4.2\"}};\n",
       "    var render_items = [{\"docid\":\"9a0a65f7-3f16-4303-99e1-859941c68f9a\",\"root_ids\":[\"1142\"],\"roots\":{\"1142\":\"7f95d601-5426-4fb3-a79b-00ab3489496c\"}}];\n",
       "    root.Bokeh.embed.embed_items_notebook(docs_json, render_items);\n",
       "  }\n",
       "  if (root.Bokeh !== undefined && root.Bokeh.Panel !== undefined && ( root['Tabulator'] !== undefined)) {\n",
       "    embed_document(root);\n",
       "  } else {\n",
       "    var attempts = 0;\n",
       "    var timer = setInterval(function(root) {\n",
       "      if (root.Bokeh !== undefined && root.Bokeh.Panel !== undefined && (root['Tabulator'] !== undefined)) {\n",
       "        clearInterval(timer);\n",
       "        embed_document(root);\n",
       "      } else if (document.readyState == \"complete\") {\n",
       "        attempts++;\n",
       "        if (attempts > 200) {\n",
       "          clearInterval(timer);\n",
       "          console.log(\"Bokeh: ERROR: Unable to run BokehJS code because BokehJS library is missing\");\n",
       "        }\n",
       "      }\n",
       "    }, 25, root)\n",
       "  }\n",
       "})(window);</script>"
      ],
      "text/plain": [
       "<hvplot.interactive.Interactive at 0x20f900519d0>"
      ]
     },
     "execution_count": 25,
     "metadata": {
      "application/vnd.holoviews_exec.v0+json": {
       "id": "1142"
      }
     },
     "output_type": "execute_result"
    }
   ],
   "source": [
    "co2_table = co2_pipeline.pipe(pn.widgets.Tabulator, \n",
    "                              pagination='remote',\n",
    "                              page_size=10, \n",
    "                              sizing_mode='stretch_width')\n",
    "co2_table"
   ]
  },
  {
   "cell_type": "markdown",
   "id": "31ef8118",
   "metadata": {},
   "source": [
    "### CO2 vs GDP scatterplot\n"
   ]
  },
  {
   "cell_type": "code",
   "execution_count": 28,
   "id": "76c55e89",
   "metadata": {},
   "outputs": [],
   "source": [
    "co2_vs_gdp_scatterplot_pipeline = (\n",
    "    idf[\n",
    "        (idf.year == year_slider) &\n",
    "        (~ (idf.country.isin(continents)))\n",
    "    ]\n",
    "    .groupby(['country', 'year', 'gdp_per_capita'])['co2'].mean()\n",
    "    .to_frame()\n",
    "    .reset_index()\n",
    "    .sort_values(by='year')  \n",
    "    .reset_index(drop=True)\n",
    ")"
   ]
  },
  {
   "cell_type": "code",
   "execution_count": 29,
   "id": "8fa5eaa7",
   "metadata": {},
   "outputs": [
    {
     "data": {},
     "metadata": {},
     "output_type": "display_data"
    },
    {
     "data": {
      "application/vnd.holoviews_exec.v0+json": "",
      "text/html": [
       "<div id='1575'>\n",
       "\n",
       "\n",
       "\n",
       "\n",
       "\n",
       "  <div class=\"bk-root\" id=\"57e3c795-930b-48ec-8802-330e843f9573\" data-root-id=\"1575\"></div>\n",
       "</div>\n",
       "<script type=\"application/javascript\">(function(root) {\n",
       "  function embed_document(root) {\n",
       "    var docs_json = {\"83baf606-d101-4c55-bf4c-55374e4fe47b\":{\"defs\":[{\"extends\":null,\"module\":null,\"name\":\"ReactiveHTML1\",\"overrides\":[],\"properties\":[]},{\"extends\":null,\"module\":null,\"name\":\"FlexBox1\",\"overrides\":[],\"properties\":[{\"default\":\"flex-start\",\"kind\":null,\"name\":\"align_content\"},{\"default\":\"flex-start\",\"kind\":null,\"name\":\"align_items\"},{\"default\":\"row\",\"kind\":null,\"name\":\"flex_direction\"},{\"default\":\"wrap\",\"kind\":null,\"name\":\"flex_wrap\"},{\"default\":\"flex-start\",\"kind\":null,\"name\":\"justify_content\"}]},{\"extends\":null,\"module\":null,\"name\":\"TemplateActions1\",\"overrides\":[],\"properties\":[{\"default\":0,\"kind\":null,\"name\":\"open_modal\"},{\"default\":0,\"kind\":null,\"name\":\"close_modal\"}]},{\"extends\":null,\"module\":null,\"name\":\"MaterialTemplateActions1\",\"overrides\":[],\"properties\":[{\"default\":0,\"kind\":null,\"name\":\"open_modal\"},{\"default\":0,\"kind\":null,\"name\":\"close_modal\"}]}],\"roots\":{\"references\":[{\"attributes\":{\"client_comm_id\":\"66680e4ed2c346c98922752bf2661a07\",\"comm_id\":\"542e173fd5794fc095b039b82fd17356\",\"plot_id\":\"1575\"},\"id\":\"1583\",\"type\":\"panel.models.comm_manager.CommManager\"},{\"attributes\":{\"children\":[{\"id\":\"1576\"}],\"margin\":[0,0,0,0],\"name\":\"Row11787\"},\"id\":\"1575\",\"type\":\"Row\"},{\"attributes\":{\"children\":[{\"id\":\"1577\"},{\"id\":\"1581\"}],\"margin\":[0,0,0,0],\"name\":\"Column11786\"},\"id\":\"1576\",\"type\":\"Column\"},{\"attributes\":{\"margin\":[5,5,5,5],\"name\":\"DataFrame11782\",\"text\":\"&lt;table border=&quot;0&quot; class=&quot;dataframe panel-df&quot;&gt;\\n  &lt;thead&gt;\\n    &lt;tr style=&quot;text-align: right;&quot;&gt;\\n      &lt;th&gt;&lt;/th&gt;\\n      &lt;th&gt;country&lt;/th&gt;\\n      &lt;th&gt;year&lt;/th&gt;\\n      &lt;th&gt;gdp_per_capita&lt;/th&gt;\\n      &lt;th&gt;co2&lt;/th&gt;\\n    &lt;/tr&gt;\\n  &lt;/thead&gt;\\n  &lt;tbody&gt;\\n    &lt;tr&gt;\\n      &lt;th&gt;0&lt;/th&gt;\\n      &lt;td&gt;Afghanistan&lt;/td&gt;\\n      &lt;td&gt;2010&lt;/td&gt;\\n      &lt;td&gt;1624.073831&lt;/td&gt;\\n      &lt;td&gt;8.398&lt;/td&gt;\\n    &lt;/tr&gt;\\n    &lt;tr&gt;\\n      &lt;th&gt;1&lt;/th&gt;\\n      &lt;td&gt;Netherlands&lt;/td&gt;\\n      &lt;td&gt;2010&lt;/td&gt;\\n      &lt;td&gt;43634.996938&lt;/td&gt;\\n      &lt;td&gt;181.538&lt;/td&gt;\\n    &lt;/tr&gt;\\n    &lt;tr&gt;\\n      &lt;th&gt;2&lt;/th&gt;\\n      &lt;td&gt;New Caledonia&lt;/td&gt;\\n      &lt;td&gt;2010&lt;/td&gt;\\n      &lt;td&gt;0.000000&lt;/td&gt;\\n      &lt;td&gt;3.557&lt;/td&gt;\\n    &lt;/tr&gt;\\n    &lt;tr&gt;\\n      &lt;th&gt;3&lt;/th&gt;\\n      &lt;td&gt;New Zealand&lt;/td&gt;\\n      &lt;td&gt;2010&lt;/td&gt;\\n      &lt;td&gt;31035.007406&lt;/td&gt;\\n      &lt;td&gt;35.031&lt;/td&gt;\\n    &lt;/tr&gt;\\n    &lt;tr&gt;\\n      &lt;th&gt;4&lt;/th&gt;\\n      &lt;td&gt;Nicaragua&lt;/td&gt;\\n      &lt;td&gt;2010&lt;/td&gt;\\n      &lt;td&gt;3768.966055&lt;/td&gt;\\n      &lt;td&gt;4.468&lt;/td&gt;\\n    &lt;/tr&gt;\\n    &lt;tr&gt;\\n      &lt;th&gt;5&lt;/th&gt;\\n      &lt;td&gt;Niger&lt;/td&gt;\\n      &lt;td&gt;2010&lt;/td&gt;\\n      &lt;td&gt;770.955878&lt;/td&gt;\\n      &lt;td&gt;1.170&lt;/td&gt;\\n    &lt;/tr&gt;\\n    &lt;tr&gt;\\n      &lt;th&gt;6&lt;/th&gt;\\n      &lt;td&gt;Nigeria&lt;/td&gt;\\n      &lt;td&gt;2010&lt;/td&gt;\\n      &lt;td&gt;5110.736056&lt;/td&gt;\\n      &lt;td&gt;112.314&lt;/td&gt;\\n    &lt;/tr&gt;\\n    &lt;tr&gt;\\n      &lt;th&gt;7&lt;/th&gt;\\n      &lt;td&gt;Niue&lt;/td&gt;\\n      &lt;td&gt;2010&lt;/td&gt;\\n      &lt;td&gt;0.000000&lt;/td&gt;\\n      &lt;td&gt;0.004&lt;/td&gt;\\n    &lt;/tr&gt;\\n    &lt;tr&gt;\\n      &lt;th&gt;8&lt;/th&gt;\\n      &lt;td&gt;North America (excl. USA)&lt;/td&gt;\\n      &lt;td&gt;2010&lt;/td&gt;\\n      &lt;td&gt;0.000000&lt;/td&gt;\\n      &lt;td&gt;1199.981&lt;/td&gt;\\n    &lt;/tr&gt;\\n    &lt;tr&gt;\\n      &lt;th&gt;9&lt;/th&gt;\\n      &lt;td&gt;North Korea&lt;/td&gt;\\n      &lt;td&gt;2010&lt;/td&gt;\\n      &lt;td&gt;1735.537786&lt;/td&gt;\\n      &lt;td&gt;50.023&lt;/td&gt;\\n    &lt;/tr&gt;\\n    &lt;tr&gt;\\n      &lt;th&gt;10&lt;/th&gt;\\n      &lt;td&gt;North Macedonia&lt;/td&gt;\\n      &lt;td&gt;2010&lt;/td&gt;\\n      &lt;td&gt;11087.427155&lt;/td&gt;\\n      &lt;td&gt;8.500&lt;/td&gt;\\n    &lt;/tr&gt;\\n    &lt;tr&gt;\\n      &lt;th&gt;11&lt;/th&gt;\\n      &lt;td&gt;Norway&lt;/td&gt;\\n      &lt;td&gt;2010&lt;/td&gt;\\n      &lt;td&gt;78540.206338&lt;/td&gt;\\n      &lt;td&gt;45.697&lt;/td&gt;\\n    &lt;/tr&gt;\\n    &lt;tr&gt;\\n      &lt;th&gt;12&lt;/th&gt;\\n      &lt;td&gt;Oman&lt;/td&gt;\\n      &lt;td&gt;2010&lt;/td&gt;\\n      &lt;td&gt;45183.481044&lt;/td&gt;\\n      &lt;td&gt;46.915&lt;/td&gt;\\n    &lt;/tr&gt;\\n    &lt;tr&gt;\\n      &lt;th&gt;13&lt;/th&gt;\\n      &lt;td&gt;Pakistan&lt;/td&gt;\\n      &lt;td&gt;2010&lt;/td&gt;\\n      &lt;td&gt;4489.256787&lt;/td&gt;\\n      &lt;td&gt;154.145&lt;/td&gt;\\n    &lt;/tr&gt;\\n    &lt;tr&gt;\\n      &lt;th&gt;14&lt;/th&gt;\\n      &lt;td&gt;Palau&lt;/td&gt;\\n      &lt;td&gt;2010&lt;/td&gt;\\n      &lt;td&gt;0.000000&lt;/td&gt;\\n      &lt;td&gt;0.209&lt;/td&gt;\\n    &lt;/tr&gt;\\n    &lt;tr&gt;\\n      &lt;th&gt;15&lt;/th&gt;\\n      &lt;td&gt;Palestine&lt;/td&gt;\\n      &lt;td&gt;2010&lt;/td&gt;\\n      &lt;td&gt;4381.835188&lt;/td&gt;\\n      &lt;td&gt;2.034&lt;/td&gt;\\n    &lt;/tr&gt;\\n    &lt;tr&gt;\\n      &lt;th&gt;16&lt;/th&gt;\\n      &lt;td&gt;Panama&lt;/td&gt;\\n      &lt;td&gt;2010&lt;/td&gt;\\n      &lt;td&gt;14204.302356&lt;/td&gt;\\n      &lt;td&gt;9.072&lt;/td&gt;\\n    &lt;/tr&gt;\\n    &lt;tr&gt;\\n      &lt;th&gt;17&lt;/th&gt;\\n      &lt;td&gt;Panama Canal Zone&lt;/td&gt;\\n      &lt;td&gt;2010&lt;/td&gt;\\n      &lt;td&gt;0.000000&lt;/td&gt;\\n      &lt;td&gt;0.000&lt;/td&gt;\\n    &lt;/tr&gt;\\n    &lt;tr&gt;\\n      &lt;th&gt;18&lt;/th&gt;\\n      &lt;td&gt;Papua New Guinea&lt;/td&gt;\\n      &lt;td&gt;2010&lt;/td&gt;\\n      &lt;td&gt;0.000000&lt;/td&gt;\\n      &lt;td&gt;4.661&lt;/td&gt;\\n    &lt;/tr&gt;\\n    &lt;tr&gt;\\n      &lt;th&gt;19&lt;/th&gt;\\n      &lt;td&gt;Paraguay&lt;/td&gt;\\n      &lt;td&gt;2010&lt;/td&gt;\\n      &lt;td&gt;7360.526072&lt;/td&gt;\\n      &lt;td&gt;5.022&lt;/td&gt;\\n    &lt;/tr&gt;\\n    &lt;tr&gt;\\n      &lt;th&gt;20&lt;/th&gt;\\n      &lt;td&gt;Peru&lt;/td&gt;\\n      &lt;td&gt;2010&lt;/td&gt;\\n      &lt;td&gt;9497.063242&lt;/td&gt;\\n      &lt;td&gt;57.173&lt;/td&gt;\\n    &lt;/tr&gt;\\n    &lt;tr&gt;\\n      &lt;th&gt;21&lt;/th&gt;\\n      &lt;td&gt;Philippines&lt;/td&gt;\\n      &lt;td&gt;2010&lt;/td&gt;\\n      &lt;td&gt;5974.835192&lt;/td&gt;\\n      &lt;td&gt;82.953&lt;/td&gt;\\n    &lt;/tr&gt;\\n    &lt;tr&gt;\\n      &lt;th&gt;22&lt;/th&gt;\\n      &lt;td&gt;Poland&lt;/td&gt;\\n      &lt;td&gt;2010&lt;/td&gt;\\n      &lt;td&gt;20667.711713&lt;/td&gt;\\n      &lt;td&gt;334.888&lt;/td&gt;\\n    &lt;/tr&gt;\\n    &lt;tr&gt;\\n      &lt;th&gt;23&lt;/th&gt;\\n      &lt;td&gt;Portugal&lt;/td&gt;\\n      &lt;td&gt;2010&lt;/td&gt;\\n      &lt;td&gt;25253.949793&lt;/td&gt;\\n      &lt;td&gt;53.017&lt;/td&gt;\\n    &lt;/tr&gt;\\n    &lt;tr&gt;\\n      &lt;th&gt;24&lt;/th&gt;\\n      &lt;td&gt;Puerto Rico&lt;/td&gt;\\n      &lt;td&gt;2010&lt;/td&gt;\\n      &lt;td&gt;34513.656776&lt;/td&gt;\\n      &lt;td&gt;0.000&lt;/td&gt;\\n    &lt;/tr&gt;\\n    &lt;tr&gt;\\n      &lt;th&gt;25&lt;/th&gt;\\n      &lt;td&gt;Qatar&lt;/td&gt;\\n      &lt;td&gt;2010&lt;/td&gt;\\n      &lt;td&gt;126270.025248&lt;/td&gt;\\n      &lt;td&gt;71.920&lt;/td&gt;\\n    &lt;/tr&gt;\\n    &lt;tr&gt;\\n      &lt;th&gt;26&lt;/th&gt;\\n      &lt;td&gt;Nepal&lt;/td&gt;\\n      &lt;td&gt;2010&lt;/td&gt;\\n      &lt;td&gt;2124.451567&lt;/td&gt;\\n      &lt;td&gt;4.824&lt;/td&gt;\\n    &lt;/tr&gt;\\n    &lt;tr&gt;\\n      &lt;th&gt;27&lt;/th&gt;\\n      &lt;td&gt;Nauru&lt;/td&gt;\\n      &lt;td&gt;2010&lt;/td&gt;\\n      &lt;td&gt;0.000000&lt;/td&gt;\\n      &lt;td&gt;0.044&lt;/td&gt;\\n    &lt;/tr&gt;\\n    &lt;tr&gt;\\n      &lt;th&gt;28&lt;/th&gt;\\n      &lt;td&gt;Namibia&lt;/td&gt;\\n      &lt;td&gt;2010&lt;/td&gt;\\n      &lt;td&gt;8211.410553&lt;/td&gt;\\n      &lt;td&gt;3.085&lt;/td&gt;\\n    &lt;/tr&gt;\\n    &lt;tr&gt;\\n      &lt;th&gt;29&lt;/th&gt;\\n      &lt;td&gt;Myanmar&lt;/td&gt;\\n      &lt;td&gt;2010&lt;/td&gt;\\n      &lt;td&gt;3749.427220&lt;/td&gt;\\n      &lt;td&gt;13.083&lt;/td&gt;\\n    &lt;/tr&gt;\\n    &lt;tr&gt;\\n      &lt;th&gt;30&lt;/th&gt;\\n      &lt;td&gt;Lesotho&lt;/td&gt;\\n      &lt;td&gt;2010&lt;/td&gt;\\n      &lt;td&gt;2226.252399&lt;/td&gt;\\n      &lt;td&gt;2.275&lt;/td&gt;\\n    &lt;/tr&gt;\\n    &lt;tr&gt;\\n      &lt;th&gt;31&lt;/th&gt;\\n      &lt;td&gt;Liberia&lt;/td&gt;\\n      &lt;td&gt;2010&lt;/td&gt;\\n      &lt;td&gt;837.912069&lt;/td&gt;\\n      &lt;td&gt;0.761&lt;/td&gt;\\n    &lt;/tr&gt;\\n    &lt;tr&gt;\\n      &lt;th&gt;32&lt;/th&gt;\\n      &lt;td&gt;Libya&lt;/td&gt;\\n      &lt;td&gt;2010&lt;/td&gt;\\n      &lt;td&gt;30257.921837&lt;/td&gt;\\n      &lt;td&gt;60.653&lt;/td&gt;\\n    &lt;/tr&gt;\\n    &lt;tr&gt;\\n      &lt;th&gt;33&lt;/th&gt;\\n      &lt;td&gt;Liechtenstein&lt;/td&gt;\\n      &lt;td&gt;2010&lt;/td&gt;\\n      &lt;td&gt;0.000000&lt;/td&gt;\\n      &lt;td&gt;0.191&lt;/td&gt;\\n    &lt;/tr&gt;\\n    &lt;tr&gt;\\n      &lt;th&gt;34&lt;/th&gt;\\n      &lt;td&gt;Lithuania&lt;/td&gt;\\n      &lt;td&gt;2010&lt;/td&gt;\\n      &lt;td&gt;18490.152790&lt;/td&gt;\\n      &lt;td&gt;13.945&lt;/td&gt;\\n    &lt;/tr&gt;\\n    &lt;tr&gt;\\n      &lt;th&gt;35&lt;/th&gt;\\n      &lt;td&gt;Luxembourg&lt;/td&gt;\\n      &lt;td&gt;2010&lt;/td&gt;\\n      &lt;td&gt;54144.335917&lt;/td&gt;\\n      &lt;td&gt;11.207&lt;/td&gt;\\n    &lt;/tr&gt;\\n    &lt;tr&gt;\\n      &lt;th&gt;36&lt;/th&gt;\\n      &lt;td&gt;Macao&lt;/td&gt;\\n      &lt;td&gt;2010&lt;/td&gt;\\n      &lt;td&gt;0.000000&lt;/td&gt;\\n      &lt;td&gt;1.235&lt;/td&gt;\\n    &lt;/tr&gt;\\n    &lt;tr&gt;\\n      &lt;th&gt;37&lt;/th&gt;\\n      &lt;td&gt;Madagascar&lt;/td&gt;\\n      &lt;td&gt;2010&lt;/td&gt;\\n      &lt;td&gt;1330.157112&lt;/td&gt;\\n      &lt;td&gt;1.872&lt;/td&gt;\\n    &lt;/tr&gt;\\n    &lt;tr&gt;\\n      &lt;th&gt;38&lt;/th&gt;\\n      &lt;td&gt;Malawi&lt;/td&gt;\\n      &lt;td&gt;2010&lt;/td&gt;\\n      &lt;td&gt;1161.364416&lt;/td&gt;\\n      &lt;td&gt;1.025&lt;/td&gt;\\n    &lt;/tr&gt;\\n    &lt;tr&gt;\\n      &lt;th&gt;39&lt;/th&gt;\\n      &lt;td&gt;Malaysia&lt;/td&gt;\\n      &lt;td&gt;2010&lt;/td&gt;\\n      &lt;td&gt;18227.860125&lt;/td&gt;\\n      &lt;td&gt;215.935&lt;/td&gt;\\n    &lt;/tr&gt;\\n    &lt;tr&gt;\\n      &lt;th&gt;40&lt;/th&gt;\\n      &lt;td&gt;Maldives&lt;/td&gt;\\n      &lt;td&gt;2010&lt;/td&gt;\\n      &lt;td&gt;0.000000&lt;/td&gt;\\n      &lt;td&gt;0.934&lt;/td&gt;\\n    &lt;/tr&gt;\\n    &lt;tr&gt;\\n      &lt;th&gt;41&lt;/th&gt;\\n      &lt;td&gt;Mali&lt;/td&gt;\\n      &lt;td&gt;2010&lt;/td&gt;\\n      &lt;td&gt;1332.597325&lt;/td&gt;\\n      &lt;td&gt;2.088&lt;/td&gt;\\n    &lt;/tr&gt;\\n    &lt;tr&gt;\\n      &lt;th&gt;42&lt;/th&gt;\\n      &lt;td&gt;Reunion&lt;/td&gt;\\n      &lt;td&gt;2010&lt;/td&gt;\\n      &lt;td&gt;0.000000&lt;/td&gt;\\n      &lt;td&gt;4.486&lt;/td&gt;\\n    &lt;/tr&gt;\\n    &lt;tr&gt;\\n      &lt;th&gt;43&lt;/th&gt;\\n      &lt;td&gt;Malta&lt;/td&gt;\\n      &lt;td&gt;2010&lt;/td&gt;\\n      &lt;td&gt;23775.252088&lt;/td&gt;\\n      &lt;td&gt;2.580&lt;/td&gt;\\n    &lt;/tr&gt;\\n    &lt;tr&gt;\\n      &lt;th&gt;44&lt;/th&gt;\\n      &lt;td&gt;Martinique&lt;/td&gt;\\n      &lt;td&gt;2010&lt;/td&gt;\\n      &lt;td&gt;0.000000&lt;/td&gt;\\n      &lt;td&gt;2.296&lt;/td&gt;\\n    &lt;/tr&gt;\\n    &lt;tr&gt;\\n      &lt;th&gt;45&lt;/th&gt;\\n      &lt;td&gt;Mauritania&lt;/td&gt;\\n      &lt;td&gt;2010&lt;/td&gt;\\n      &lt;td&gt;2735.879430&lt;/td&gt;\\n      &lt;td&gt;1.960&lt;/td&gt;\\n    &lt;/tr&gt;\\n    &lt;tr&gt;\\n      &lt;th&gt;46&lt;/th&gt;\\n      &lt;td&gt;Mauritius&lt;/td&gt;\\n      &lt;td&gt;2010&lt;/td&gt;\\n      &lt;td&gt;16870.981798&lt;/td&gt;\\n      &lt;td&gt;3.913&lt;/td&gt;\\n    &lt;/tr&gt;\\n    &lt;tr&gt;\\n      &lt;th&gt;47&lt;/th&gt;\\n      &lt;td&gt;Mayotte&lt;/td&gt;\\n      &lt;td&gt;2010&lt;/td&gt;\\n      &lt;td&gt;0.000000&lt;/td&gt;\\n      &lt;td&gt;0.299&lt;/td&gt;\\n    &lt;/tr&gt;\\n    &lt;tr&gt;\\n      &lt;th&gt;48&lt;/th&gt;\\n      &lt;td&gt;Mexico&lt;/td&gt;\\n      &lt;td&gt;2010&lt;/td&gt;\\n      &lt;td&gt;14354.616114&lt;/td&gt;\\n      &lt;td&gt;463.783&lt;/td&gt;\\n    &lt;/tr&gt;\\n    &lt;tr&gt;\\n      &lt;th&gt;49&lt;/th&gt;\\n      &lt;td&gt;Micronesia (country)&lt;/td&gt;\\n      &lt;td&gt;2010&lt;/td&gt;\\n      &lt;td&gt;0.000000&lt;/td&gt;\\n      &lt;td&gt;0.103&lt;/td&gt;\\n    &lt;/tr&gt;\\n    &lt;tr&gt;\\n      &lt;th&gt;...&lt;/th&gt;\\n      &lt;td&gt;...&lt;/td&gt;\\n      &lt;td&gt;...&lt;/td&gt;\\n      &lt;td&gt;...&lt;/td&gt;\\n      &lt;td&gt;...&lt;/td&gt;\\n    &lt;/tr&gt;\\n    &lt;tr&gt;\\n      &lt;th&gt;185&lt;/th&gt;\\n      &lt;td&gt;India&lt;/td&gt;\\n      &lt;td&gt;2010&lt;/td&gt;\\n      &lt;td&gt;4305.758484&lt;/td&gt;\\n      &lt;td&gt;1677.888&lt;/td&gt;\\n    &lt;/tr&gt;\\n    &lt;tr&gt;\\n      &lt;th&gt;186&lt;/th&gt;\\n      &lt;td&gt;Indonesia&lt;/td&gt;\\n      &lt;td&gt;2010&lt;/td&gt;\\n      &lt;td&gt;8335.730130&lt;/td&gt;\\n      &lt;td&gt;451.931&lt;/td&gt;\\n    &lt;/tr&gt;\\n    &lt;tr&gt;\\n      &lt;th&gt;187&lt;/th&gt;\\n      &lt;td&gt;International transport&lt;/td&gt;\\n      &lt;td&gt;2010&lt;/td&gt;\\n      &lt;td&gt;0.000000&lt;/td&gt;\\n      &lt;td&gt;1086.420&lt;/td&gt;\\n    &lt;/tr&gt;\\n    &lt;tr&gt;\\n      &lt;th&gt;188&lt;/th&gt;\\n      &lt;td&gt;Iran&lt;/td&gt;\\n      &lt;td&gt;2010&lt;/td&gt;\\n      &lt;td&gt;17846.599519&lt;/td&gt;\\n      &lt;td&gt;569.772&lt;/td&gt;\\n    &lt;/tr&gt;\\n    &lt;tr&gt;\\n      &lt;th&gt;189&lt;/th&gt;\\n      &lt;td&gt;Iraq&lt;/td&gt;\\n      &lt;td&gt;2010&lt;/td&gt;\\n      &lt;td&gt;10696.406413&lt;/td&gt;\\n      &lt;td&gt;110.066&lt;/td&gt;\\n    &lt;/tr&gt;\\n    &lt;tr&gt;\\n      &lt;th&gt;190&lt;/th&gt;\\n      &lt;td&gt;Ireland&lt;/td&gt;\\n      &lt;td&gt;2010&lt;/td&gt;\\n      &lt;td&gt;48606.003475&lt;/td&gt;\\n      &lt;td&gt;41.794&lt;/td&gt;\\n    &lt;/tr&gt;\\n    &lt;tr&gt;\\n      &lt;th&gt;191&lt;/th&gt;\\n      &lt;td&gt;Israel&lt;/td&gt;\\n      &lt;td&gt;2010&lt;/td&gt;\\n      &lt;td&gt;28780.060909&lt;/td&gt;\\n      &lt;td&gt;68.287&lt;/td&gt;\\n    &lt;/tr&gt;\\n    &lt;tr&gt;\\n      &lt;th&gt;192&lt;/th&gt;\\n      &lt;td&gt;Italy&lt;/td&gt;\\n      &lt;td&gt;2010&lt;/td&gt;\\n      &lt;td&gt;34752.399320&lt;/td&gt;\\n      &lt;td&gt;436.154&lt;/td&gt;\\n    &lt;/tr&gt;\\n    &lt;tr&gt;\\n      &lt;th&gt;193&lt;/th&gt;\\n      &lt;td&gt;Jamaica&lt;/td&gt;\\n      &lt;td&gt;2010&lt;/td&gt;\\n      &lt;td&gt;6742.308169&lt;/td&gt;\\n      &lt;td&gt;7.677&lt;/td&gt;\\n    &lt;/tr&gt;\\n    &lt;tr&gt;\\n      &lt;th&gt;194&lt;/th&gt;\\n      &lt;td&gt;Japan&lt;/td&gt;\\n      &lt;td&gt;2010&lt;/td&gt;\\n      &lt;td&gt;34735.290477&lt;/td&gt;\\n      &lt;td&gt;1214.816&lt;/td&gt;\\n    &lt;/tr&gt;\\n    &lt;tr&gt;\\n      &lt;th&gt;195&lt;/th&gt;\\n      &lt;td&gt;Jordan&lt;/td&gt;\\n      &lt;td&gt;2010&lt;/td&gt;\\n      &lt;td&gt;10612.599788&lt;/td&gt;\\n      &lt;td&gt;20.615&lt;/td&gt;\\n    &lt;/tr&gt;\\n    &lt;tr&gt;\\n      &lt;th&gt;196&lt;/th&gt;\\n      &lt;td&gt;Kazakhstan&lt;/td&gt;\\n      &lt;td&gt;2010&lt;/td&gt;\\n      &lt;td&gt;20515.706928&lt;/td&gt;\\n      &lt;td&gt;249.067&lt;/td&gt;\\n    &lt;/tr&gt;\\n    &lt;tr&gt;\\n      &lt;th&gt;197&lt;/th&gt;\\n      &lt;td&gt;Kenya&lt;/td&gt;\\n      &lt;td&gt;2010&lt;/td&gt;\\n      &lt;td&gt;2571.717951&lt;/td&gt;\\n      &lt;td&gt;11.745&lt;/td&gt;\\n    &lt;/tr&gt;\\n    &lt;tr&gt;\\n      &lt;th&gt;198&lt;/th&gt;\\n      &lt;td&gt;Kiribati&lt;/td&gt;\\n      &lt;td&gt;2010&lt;/td&gt;\\n      &lt;td&gt;0.000000&lt;/td&gt;\\n      &lt;td&gt;0.059&lt;/td&gt;\\n    &lt;/tr&gt;\\n    &lt;tr&gt;\\n      &lt;th&gt;199&lt;/th&gt;\\n      &lt;td&gt;Kosovo&lt;/td&gt;\\n      &lt;td&gt;2010&lt;/td&gt;\\n      &lt;td&gt;0.000000&lt;/td&gt;\\n      &lt;td&gt;8.372&lt;/td&gt;\\n    &lt;/tr&gt;\\n    &lt;tr&gt;\\n      &lt;th&gt;200&lt;/th&gt;\\n      &lt;td&gt;Kuwait&lt;/td&gt;\\n      &lt;td&gt;2010&lt;/td&gt;\\n      &lt;td&gt;70399.061285&lt;/td&gt;\\n      &lt;td&gt;89.272&lt;/td&gt;\\n    &lt;/tr&gt;\\n    &lt;tr&gt;\\n      &lt;th&gt;201&lt;/th&gt;\\n      &lt;td&gt;Kuwaiti Oil Fires&lt;/td&gt;\\n      &lt;td&gt;2010&lt;/td&gt;\\n      &lt;td&gt;0.000000&lt;/td&gt;\\n      &lt;td&gt;0.000&lt;/td&gt;\\n    &lt;/tr&gt;\\n    &lt;tr&gt;\\n      &lt;th&gt;202&lt;/th&gt;\\n      &lt;td&gt;Kyrgyzstan&lt;/td&gt;\\n      &lt;td&gt;2010&lt;/td&gt;\\n      &lt;td&gt;3879.767233&lt;/td&gt;\\n      &lt;td&gt;6.314&lt;/td&gt;\\n    &lt;/tr&gt;\\n    &lt;tr&gt;\\n      &lt;th&gt;203&lt;/th&gt;\\n      &lt;td&gt;Guinea&lt;/td&gt;\\n      &lt;td&gt;2010&lt;/td&gt;\\n      &lt;td&gt;1212.915056&lt;/td&gt;\\n      &lt;td&gt;2.484&lt;/td&gt;\\n    &lt;/tr&gt;\\n    &lt;tr&gt;\\n      &lt;th&gt;204&lt;/th&gt;\\n      &lt;td&gt;Guatemala&lt;/td&gt;\\n      &lt;td&gt;2010&lt;/td&gt;\\n      &lt;td&gt;6586.871065&lt;/td&gt;\\n      &lt;td&gt;11.098&lt;/td&gt;\\n    &lt;/tr&gt;\\n    &lt;tr&gt;\\n      &lt;th&gt;205&lt;/th&gt;\\n      &lt;td&gt;Guadeloupe&lt;/td&gt;\\n      &lt;td&gt;2010&lt;/td&gt;\\n      &lt;td&gt;0.000000&lt;/td&gt;\\n      &lt;td&gt;2.505&lt;/td&gt;\\n    &lt;/tr&gt;\\n    &lt;tr&gt;\\n      &lt;th&gt;206&lt;/th&gt;\\n      &lt;td&gt;Grenada&lt;/td&gt;\\n      &lt;td&gt;2010&lt;/td&gt;\\n      &lt;td&gt;0.000000&lt;/td&gt;\\n      &lt;td&gt;0.260&lt;/td&gt;\\n    &lt;/tr&gt;\\n    &lt;tr&gt;\\n      &lt;th&gt;207&lt;/th&gt;\\n      &lt;td&gt;EU-28&lt;/td&gt;\\n      &lt;td&gt;2010&lt;/td&gt;\\n      &lt;td&gt;0.000000&lt;/td&gt;\\n      &lt;td&gt;3937.444&lt;/td&gt;\\n    &lt;/tr&gt;\\n    &lt;tr&gt;\\n      &lt;th&gt;208&lt;/th&gt;\\n      &lt;td&gt;Ecuador&lt;/td&gt;\\n      &lt;td&gt;2010&lt;/td&gt;\\n      &lt;td&gt;9190.200558&lt;/td&gt;\\n      &lt;td&gt;34.826&lt;/td&gt;\\n    &lt;/tr&gt;\\n    &lt;tr&gt;\\n      &lt;th&gt;209&lt;/th&gt;\\n      &lt;td&gt;Egypt&lt;/td&gt;\\n      &lt;td&gt;2010&lt;/td&gt;\\n      &lt;td&gt;10815.355968&lt;/td&gt;\\n      &lt;td&gt;200.841&lt;/td&gt;\\n    &lt;/tr&gt;\\n    &lt;tr&gt;\\n      &lt;th&gt;210&lt;/th&gt;\\n      &lt;td&gt;El Salvador&lt;/td&gt;\\n      &lt;td&gt;2010&lt;/td&gt;\\n      &lt;td&gt;7093.087010&lt;/td&gt;\\n      &lt;td&gt;6.319&lt;/td&gt;\\n    &lt;/tr&gt;\\n    &lt;tr&gt;\\n      &lt;th&gt;211&lt;/th&gt;\\n      &lt;td&gt;Equatorial Guinea&lt;/td&gt;\\n      &lt;td&gt;2010&lt;/td&gt;\\n      &lt;td&gt;29001.177576&lt;/td&gt;\\n      &lt;td&gt;6.804&lt;/td&gt;\\n    &lt;/tr&gt;\\n    &lt;tr&gt;\\n      &lt;th&gt;212&lt;/th&gt;\\n      &lt;td&gt;Eritrea&lt;/td&gt;\\n      &lt;td&gt;2010&lt;/td&gt;\\n      &lt;td&gt;0.000000&lt;/td&gt;\\n      &lt;td&gt;0.497&lt;/td&gt;\\n    &lt;/tr&gt;\\n    &lt;tr&gt;\\n      &lt;th&gt;213&lt;/th&gt;\\n      &lt;td&gt;Estonia&lt;/td&gt;\\n      &lt;td&gt;2010&lt;/td&gt;\\n      &lt;td&gt;20232.725436&lt;/td&gt;\\n      &lt;td&gt;18.995&lt;/td&gt;\\n    &lt;/tr&gt;\\n    &lt;tr&gt;\\n      &lt;th&gt;214&lt;/th&gt;\\n      &lt;td&gt;Eswatini&lt;/td&gt;\\n      &lt;td&gt;2010&lt;/td&gt;\\n      &lt;td&gt;6885.795159&lt;/td&gt;\\n      &lt;td&gt;0.997&lt;/td&gt;\\n    &lt;/tr&gt;\\n    &lt;tr&gt;\\n      &lt;th&gt;215&lt;/th&gt;\\n      &lt;td&gt;Ethiopia&lt;/td&gt;\\n      &lt;td&gt;2010&lt;/td&gt;\\n      &lt;td&gt;1074.266032&lt;/td&gt;\\n      &lt;td&gt;6.337&lt;/td&gt;\\n    &lt;/tr&gt;\\n    &lt;tr&gt;\\n      &lt;th&gt;216&lt;/th&gt;\\n      &lt;td&gt;Europe (excl. EU-27)&lt;/td&gt;\\n      &lt;td&gt;2010&lt;/td&gt;\\n      &lt;td&gt;0.000000&lt;/td&gt;\\n      &lt;td&gt;2681.276&lt;/td&gt;\\n    &lt;/tr&gt;\\n    &lt;tr&gt;\\n      &lt;th&gt;217&lt;/th&gt;\\n      &lt;td&gt;Europe (excl. EU-28)&lt;/td&gt;\\n      &lt;td&gt;2010&lt;/td&gt;\\n      &lt;td&gt;0.000000&lt;/td&gt;\\n      &lt;td&gt;2169.645&lt;/td&gt;\\n    &lt;/tr&gt;\\n    &lt;tr&gt;\\n      &lt;th&gt;218&lt;/th&gt;\\n      &lt;td&gt;Faeroe Islands&lt;/td&gt;\\n      &lt;td&gt;2010&lt;/td&gt;\\n      &lt;td&gt;0.000000&lt;/td&gt;\\n      &lt;td&gt;0.630&lt;/td&gt;\\n    &lt;/tr&gt;\\n    &lt;tr&gt;\\n      &lt;th&gt;219&lt;/th&gt;\\n      &lt;td&gt;Dominican Republic&lt;/td&gt;\\n      &lt;td&gt;2010&lt;/td&gt;\\n      &lt;td&gt;11063.337736&lt;/td&gt;\\n      &lt;td&gt;20.553&lt;/td&gt;\\n    &lt;/tr&gt;\\n    &lt;tr&gt;\\n      &lt;th&gt;220&lt;/th&gt;\\n      &lt;td&gt;Fiji&lt;/td&gt;\\n      &lt;td&gt;2010&lt;/td&gt;\\n      &lt;td&gt;0.000000&lt;/td&gt;\\n      &lt;td&gt;1.202&lt;/td&gt;\\n    &lt;/tr&gt;\\n    &lt;tr&gt;\\n      &lt;th&gt;221&lt;/th&gt;\\n      &lt;td&gt;France&lt;/td&gt;\\n      &lt;td&gt;2010&lt;/td&gt;\\n      &lt;td&gt;37234.575387&lt;/td&gt;\\n      &lt;td&gt;376.576&lt;/td&gt;\\n    &lt;/tr&gt;\\n    &lt;tr&gt;\\n      &lt;th&gt;222&lt;/th&gt;\\n      &lt;td&gt;French Equatorial Africa&lt;/td&gt;\\n      &lt;td&gt;2010&lt;/td&gt;\\n      &lt;td&gt;0.000000&lt;/td&gt;\\n      &lt;td&gt;0.000&lt;/td&gt;\\n    &lt;/tr&gt;\\n    &lt;tr&gt;\\n      &lt;th&gt;223&lt;/th&gt;\\n      &lt;td&gt;French Guiana&lt;/td&gt;\\n      &lt;td&gt;2010&lt;/td&gt;\\n      &lt;td&gt;0.000000&lt;/td&gt;\\n      &lt;td&gt;0.712&lt;/td&gt;\\n    &lt;/tr&gt;\\n    &lt;tr&gt;\\n      &lt;th&gt;224&lt;/th&gt;\\n      &lt;td&gt;French Polynesia&lt;/td&gt;\\n      &lt;td&gt;2010&lt;/td&gt;\\n      &lt;td&gt;0.000000&lt;/td&gt;\\n      &lt;td&gt;0.802&lt;/td&gt;\\n    &lt;/tr&gt;\\n    &lt;tr&gt;\\n      &lt;th&gt;225&lt;/th&gt;\\n      &lt;td&gt;French West Africa&lt;/td&gt;\\n      &lt;td&gt;2010&lt;/td&gt;\\n      &lt;td&gt;0.000000&lt;/td&gt;\\n      &lt;td&gt;0.000&lt;/td&gt;\\n    &lt;/tr&gt;\\n    &lt;tr&gt;\\n      &lt;th&gt;226&lt;/th&gt;\\n      &lt;td&gt;Gabon&lt;/td&gt;\\n      &lt;td&gt;2010&lt;/td&gt;\\n      &lt;td&gt;14706.424681&lt;/td&gt;\\n      &lt;td&gt;4.783&lt;/td&gt;\\n    &lt;/tr&gt;\\n    &lt;tr&gt;\\n      &lt;th&gt;227&lt;/th&gt;\\n      &lt;td&gt;Gambia&lt;/td&gt;\\n      &lt;td&gt;2010&lt;/td&gt;\\n      &lt;td&gt;1734.964000&lt;/td&gt;\\n      &lt;td&gt;0.432&lt;/td&gt;\\n    &lt;/tr&gt;\\n    &lt;tr&gt;\\n      &lt;th&gt;228&lt;/th&gt;\\n      &lt;td&gt;Georgia&lt;/td&gt;\\n      &lt;td&gt;2010&lt;/td&gt;\\n      &lt;td&gt;10090.000035&lt;/td&gt;\\n      &lt;td&gt;6.208&lt;/td&gt;\\n    &lt;/tr&gt;\\n    &lt;tr&gt;\\n      &lt;th&gt;229&lt;/th&gt;\\n      &lt;td&gt;Germany&lt;/td&gt;\\n      &lt;td&gt;2010&lt;/td&gt;\\n      &lt;td&gt;41530.592429&lt;/td&gt;\\n      &lt;td&gt;832.949&lt;/td&gt;\\n    &lt;/tr&gt;\\n    &lt;tr&gt;\\n      &lt;th&gt;230&lt;/th&gt;\\n      &lt;td&gt;Ghana&lt;/td&gt;\\n      &lt;td&gt;2010&lt;/td&gt;\\n      &lt;td&gt;2778.038757&lt;/td&gt;\\n      &lt;td&gt;9.710&lt;/td&gt;\\n    &lt;/tr&gt;\\n    &lt;tr&gt;\\n      &lt;th&gt;231&lt;/th&gt;\\n      &lt;td&gt;Greece&lt;/td&gt;\\n      &lt;td&gt;2010&lt;/td&gt;\\n      &lt;td&gt;26908.177065&lt;/td&gt;\\n      &lt;td&gt;97.361&lt;/td&gt;\\n    &lt;/tr&gt;\\n    &lt;tr&gt;\\n      &lt;th&gt;232&lt;/th&gt;\\n      &lt;td&gt;Greenland&lt;/td&gt;\\n      &lt;td&gt;2010&lt;/td&gt;\\n      &lt;td&gt;0.000000&lt;/td&gt;\\n      &lt;td&gt;0.679&lt;/td&gt;\\n    &lt;/tr&gt;\\n    &lt;tr&gt;\\n      &lt;th&gt;233&lt;/th&gt;\\n      &lt;td&gt;Finland&lt;/td&gt;\\n      &lt;td&gt;2010&lt;/td&gt;\\n      &lt;td&gt;37598.064908&lt;/td&gt;\\n      &lt;td&gt;64.103&lt;/td&gt;\\n    &lt;/tr&gt;\\n    &lt;tr&gt;\\n      &lt;th&gt;234&lt;/th&gt;\\n      &lt;td&gt;Zimbabwe&lt;/td&gt;\\n      &lt;td&gt;2010&lt;/td&gt;\\n      &lt;td&gt;1411.148561&lt;/td&gt;\\n      &lt;td&gt;7.878&lt;/td&gt;\\n    &lt;/tr&gt;\\n  &lt;/tbody&gt;\\n&lt;/table&gt;\"},\"id\":\"1582\",\"type\":\"panel.models.markup.HTML\"},{\"attributes\":{\"children\":[{\"id\":\"1579\"}],\"margin\":[0,0,0,0],\"name\":\"Column11702\"},\"id\":\"1578\",\"type\":\"Column\"},{\"attributes\":{\"margin\":[5,5,5,5],\"name\":\"HSpacer11784\",\"sizing_mode\":\"stretch_width\"},\"id\":\"1580\",\"type\":\"Spacer\"},{\"attributes\":{\"end\":2020,\"margin\":[5,10,5,10],\"start\":1750,\"step\":5,\"title\":\"Year slider\",\"value\":2010},\"id\":\"1579\",\"type\":\"Slider\"},{\"attributes\":{\"children\":[{\"id\":\"1582\"}],\"margin\":[0,0,0,0],\"name\":\"Row11707\"},\"id\":\"1581\",\"type\":\"Row\"},{\"attributes\":{\"children\":[{\"id\":\"1578\"},{\"id\":\"1580\"}],\"margin\":[0,0,0,0],\"name\":\"Row11785\"},\"id\":\"1577\",\"type\":\"Row\"}],\"root_ids\":[\"1575\",\"1583\"]},\"title\":\"Bokeh Application\",\"version\":\"2.4.2\"}};\n",
       "    var render_items = [{\"docid\":\"83baf606-d101-4c55-bf4c-55374e4fe47b\",\"root_ids\":[\"1575\"],\"roots\":{\"1575\":\"57e3c795-930b-48ec-8802-330e843f9573\"}}];\n",
       "    root.Bokeh.embed.embed_items_notebook(docs_json, render_items);\n",
       "  }\n",
       "  if (root.Bokeh !== undefined && root.Bokeh.Panel !== undefined && ( root['Tabulator'] !== undefined)) {\n",
       "    embed_document(root);\n",
       "  } else {\n",
       "    var attempts = 0;\n",
       "    var timer = setInterval(function(root) {\n",
       "      if (root.Bokeh !== undefined && root.Bokeh.Panel !== undefined && (root['Tabulator'] !== undefined)) {\n",
       "        clearInterval(timer);\n",
       "        embed_document(root);\n",
       "      } else if (document.readyState == \"complete\") {\n",
       "        attempts++;\n",
       "        if (attempts > 200) {\n",
       "          clearInterval(timer);\n",
       "          console.log(\"Bokeh: ERROR: Unable to run BokehJS code because BokehJS library is missing\");\n",
       "        }\n",
       "      }\n",
       "    }, 25, root)\n",
       "  }\n",
       "})(window);</script>"
      ],
      "text/plain": [
       "<hvplot.interactive.Interactive at 0x20f93ef27f0>"
      ]
     },
     "execution_count": 29,
     "metadata": {
      "application/vnd.holoviews_exec.v0+json": {
       "id": "1575"
      }
     },
     "output_type": "execute_result"
    }
   ],
   "source": [
    "co2_vs_gdp_scatterplot_pipeline"
   ]
  },
  {
   "cell_type": "code",
   "execution_count": 30,
   "id": "84914e70",
   "metadata": {},
   "outputs": [
    {
     "data": {},
     "metadata": {},
     "output_type": "display_data"
    },
    {
     "data": {},
     "metadata": {},
     "output_type": "display_data"
    },
    {
     "data": {
      "application/vnd.holoviews_exec.v0+json": "",
      "text/html": [
       "<div id='1584'>\n",
       "\n",
       "\n",
       "\n",
       "\n",
       "\n",
       "  <div class=\"bk-root\" id=\"f7681720-8247-4f2a-bf37-9d1044233d37\" data-root-id=\"1584\"></div>\n",
       "</div>\n",
       "<script type=\"application/javascript\">(function(root) {\n",
       "  function embed_document(root) {\n",
       "    var docs_json = {\"24db1abb-739e-451f-99a0-2c4a237fa38c\":{\"defs\":[{\"extends\":null,\"module\":null,\"name\":\"ReactiveHTML1\",\"overrides\":[],\"properties\":[]},{\"extends\":null,\"module\":null,\"name\":\"FlexBox1\",\"overrides\":[],\"properties\":[{\"default\":\"flex-start\",\"kind\":null,\"name\":\"align_content\"},{\"default\":\"flex-start\",\"kind\":null,\"name\":\"align_items\"},{\"default\":\"row\",\"kind\":null,\"name\":\"flex_direction\"},{\"default\":\"wrap\",\"kind\":null,\"name\":\"flex_wrap\"},{\"default\":\"flex-start\",\"kind\":null,\"name\":\"justify_content\"}]},{\"extends\":null,\"module\":null,\"name\":\"TemplateActions1\",\"overrides\":[],\"properties\":[{\"default\":0,\"kind\":null,\"name\":\"open_modal\"},{\"default\":0,\"kind\":null,\"name\":\"close_modal\"}]},{\"extends\":null,\"module\":null,\"name\":\"MaterialTemplateActions1\",\"overrides\":[],\"properties\":[{\"default\":0,\"kind\":null,\"name\":\"open_modal\"},{\"default\":0,\"kind\":null,\"name\":\"close_modal\"}]}],\"roots\":{\"references\":[{\"attributes\":{\"children\":[{\"id\":\"1586\"},{\"id\":\"1590\"}],\"margin\":[0,0,0,0],\"name\":\"Column12147\"},\"id\":\"1585\",\"type\":\"Column\"},{\"attributes\":{\"source\":{\"id\":\"1631\"}},\"id\":\"1638\",\"type\":\"CDSView\"},{\"attributes\":{\"client_comm_id\":\"1cdd5c4c670642efbe04069725de7d24\",\"comm_id\":\"96e32eefddd347ebbc1861ad4179377b\",\"plot_id\":\"1584\"},\"id\":\"1793\",\"type\":\"panel.models.comm_manager.CommManager\"},{\"attributes\":{\"children\":[{\"id\":\"1587\"},{\"id\":\"1589\"}],\"margin\":[0,0,0,0],\"name\":\"Row12146\"},\"id\":\"1586\",\"type\":\"Row\"},{\"attributes\":{\"coordinates\":null,\"data_source\":{\"id\":\"1640\"},\"glyph\":{\"id\":\"1643\"},\"group\":null,\"hover_glyph\":null,\"muted_glyph\":{\"id\":\"1645\"},\"nonselection_glyph\":{\"id\":\"1644\"},\"selection_glyph\":{\"id\":\"1648\"},\"view\":{\"id\":\"1647\"}},\"id\":\"1646\",\"type\":\"GlyphRenderer\"},{\"attributes\":{\"children\":[{\"id\":\"1588\"}],\"margin\":[0,0,0,0],\"name\":\"Column11962\"},\"id\":\"1587\",\"type\":\"Column\"},{\"attributes\":{\"axis_label\":\"gdp_per_capita\",\"coordinates\":null,\"formatter\":{\"id\":\"1626\"},\"group\":null,\"major_label_policy\":{\"id\":\"1627\"},\"ticker\":{\"id\":\"1605\"}},\"id\":\"1604\",\"type\":\"LinearAxis\"},{\"attributes\":{\"end\":138897.02777261595,\"reset_end\":138897.02777261595,\"reset_start\":-12627.00252478327,\"start\":-12627.00252478327,\"tags\":[[[\"gdp_per_capita\",\"gdp_per_capita\",null]]]},\"id\":\"1591\",\"type\":\"Range1d\"},{\"attributes\":{\"end\":2020,\"margin\":[5,10,5,10],\"start\":1750,\"step\":5,\"title\":\"Year slider\",\"value\":2010},\"id\":\"1588\",\"type\":\"Slider\"},{\"attributes\":{\"source\":{\"id\":\"1640\"}},\"id\":\"1647\",\"type\":\"CDSView\"},{\"attributes\":{\"margin\":[5,5,5,5],\"name\":\"HSpacer12145\",\"sizing_mode\":\"stretch_width\"},\"id\":\"1589\",\"type\":\"Spacer\"},{\"attributes\":{\"callback\":null,\"renderers\":[{\"id\":\"1637\"},{\"id\":\"1646\"}],\"tags\":[\"hv_created\"],\"tooltips\":[[\"Variable\",\"@{Variable}\"],[\"gdp_per_capita\",\"@{gdp_per_capita}\"],[\"value\",\"@{value}\"]]},\"id\":\"1593\",\"type\":\"HoverTool\"},{\"attributes\":{},\"id\":\"1658\",\"type\":\"UnionRenderers\"},{\"attributes\":{\"children\":[{\"id\":\"1595\"}],\"margin\":[0,0,0,0],\"name\":\"Row11967\"},\"id\":\"1590\",\"type\":\"Row\"},{\"attributes\":{},\"id\":\"1632\",\"type\":\"Selection\"},{\"attributes\":{},\"id\":\"1602\",\"type\":\"LinearScale\"},{\"attributes\":{},\"id\":\"1600\",\"type\":\"LinearScale\"},{\"attributes\":{\"below\":[{\"id\":\"1604\"}],\"center\":[{\"id\":\"1607\"},{\"id\":\"1611\"}],\"height\":500,\"left\":[{\"id\":\"1608\"}],\"margin\":[5,5,5,5],\"min_border_bottom\":10,\"min_border_left\":10,\"min_border_right\":10,\"min_border_top\":10,\"renderers\":[{\"id\":\"1637\"},{\"id\":\"1646\"}],\"sizing_mode\":\"fixed\",\"title\":{\"id\":\"1596\"},\"toolbar\":{\"id\":\"1618\"},\"width\":500,\"x_range\":{\"id\":\"1591\"},\"x_scale\":{\"id\":\"1600\"},\"y_range\":{\"id\":\"1592\"},\"y_scale\":{\"id\":\"1602\"}},\"id\":\"1595\",\"subtype\":\"Figure\",\"type\":\"Plot\"},{\"attributes\":{\"tools\":[{\"id\":\"1593\"},{\"id\":\"1612\"},{\"id\":\"1613\"},{\"id\":\"1614\"},{\"id\":\"1615\"},{\"id\":\"1616\"}]},\"id\":\"1618\",\"type\":\"Toolbar\"},{\"attributes\":{},\"id\":\"1626\",\"type\":\"BasicTickFormatter\"},{\"attributes\":{\"angle\":{\"value\":0.0},\"fill_alpha\":{\"value\":0.7},\"fill_color\":{\"value\":\"#30a2da\"},\"hatch_alpha\":{\"value\":0.7},\"hatch_color\":{\"value\":\"#30a2da\"},\"hatch_scale\":{\"value\":12.0},\"hatch_weight\":{\"value\":1.0},\"line_alpha\":{\"value\":0.7},\"line_cap\":{\"value\":\"butt\"},\"line_color\":{\"value\":\"#30a2da\"},\"line_dash\":{\"value\":[]},\"line_dash_offset\":{\"value\":0},\"line_join\":{\"value\":\"bevel\"},\"line_width\":{\"value\":1},\"marker\":{\"value\":\"circle\"},\"size\":{\"value\":8.94427190999916},\"x\":{\"field\":\"gdp_per_capita\"},\"y\":{\"field\":\"value\"}},\"id\":\"1639\",\"type\":\"Scatter\"},{\"attributes\":{},\"id\":\"1627\",\"type\":\"AllLabels\"},{\"attributes\":{\"fill_alpha\":{\"value\":0.7},\"fill_color\":{\"value\":\"#30a2da\"},\"hatch_alpha\":{\"value\":0.7},\"hatch_color\":{\"value\":\"#30a2da\"},\"line_alpha\":{\"value\":0.7},\"line_color\":{\"value\":\"#30a2da\"},\"size\":{\"value\":8.94427190999916},\"x\":{\"field\":\"gdp_per_capita\"},\"y\":{\"field\":\"value\"}},\"id\":\"1634\",\"type\":\"Scatter\"},{\"attributes\":{},\"id\":\"1630\",\"type\":\"AllLabels\"},{\"attributes\":{\"end\":9478.3183,\"reset_end\":9478.3183,\"reset_start\":-861.6653000000001,\"start\":-861.6653000000001,\"tags\":[[[\"value\",\"value\",null]]]},\"id\":\"1592\",\"type\":\"Range1d\"},{\"attributes\":{\"coordinates\":null,\"group\":null,\"text_color\":\"black\",\"text_font_size\":\"12pt\"},\"id\":\"1596\",\"type\":\"Title\"},{\"attributes\":{\"axis\":{\"id\":\"1604\"},\"coordinates\":null,\"grid_line_color\":null,\"group\":null,\"ticker\":null},\"id\":\"1607\",\"type\":\"Grid\"},{\"attributes\":{\"data\":{\"Variable\":[\"co2\",\"co2\",\"co2\",\"co2\",\"co2\",\"co2\",\"co2\",\"co2\",\"co2\",\"co2\",\"co2\",\"co2\",\"co2\",\"co2\",\"co2\",\"co2\",\"co2\",\"co2\",\"co2\",\"co2\",\"co2\",\"co2\",\"co2\",\"co2\",\"co2\",\"co2\",\"co2\",\"co2\",\"co2\",\"co2\",\"co2\",\"co2\",\"co2\",\"co2\",\"co2\",\"co2\",\"co2\",\"co2\",\"co2\",\"co2\",\"co2\",\"co2\",\"co2\",\"co2\",\"co2\",\"co2\",\"co2\",\"co2\",\"co2\",\"co2\",\"co2\",\"co2\",\"co2\",\"co2\",\"co2\",\"co2\",\"co2\",\"co2\",\"co2\",\"co2\",\"co2\",\"co2\",\"co2\",\"co2\",\"co2\",\"co2\",\"co2\",\"co2\",\"co2\",\"co2\",\"co2\",\"co2\",\"co2\",\"co2\",\"co2\",\"co2\",\"co2\",\"co2\",\"co2\",\"co2\",\"co2\",\"co2\",\"co2\",\"co2\",\"co2\",\"co2\",\"co2\",\"co2\",\"co2\",\"co2\",\"co2\",\"co2\",\"co2\",\"co2\",\"co2\",\"co2\",\"co2\",\"co2\",\"co2\",\"co2\",\"co2\",\"co2\",\"co2\",\"co2\",\"co2\",\"co2\",\"co2\",\"co2\",\"co2\",\"co2\",\"co2\",\"co2\",\"co2\",\"co2\",\"co2\",\"co2\",\"co2\",\"co2\",\"co2\",\"co2\",\"co2\",\"co2\",\"co2\",\"co2\",\"co2\",\"co2\",\"co2\",\"co2\",\"co2\",\"co2\",\"co2\",\"co2\",\"co2\",\"co2\",\"co2\",\"co2\",\"co2\",\"co2\",\"co2\",\"co2\",\"co2\",\"co2\",\"co2\",\"co2\",\"co2\",\"co2\",\"co2\",\"co2\",\"co2\",\"co2\",\"co2\",\"co2\",\"co2\",\"co2\",\"co2\",\"co2\",\"co2\",\"co2\",\"co2\",\"co2\",\"co2\",\"co2\",\"co2\",\"co2\",\"co2\",\"co2\",\"co2\",\"co2\",\"co2\",\"co2\",\"co2\",\"co2\",\"co2\",\"co2\",\"co2\",\"co2\",\"co2\",\"co2\",\"co2\",\"co2\",\"co2\",\"co2\",\"co2\",\"co2\",\"co2\",\"co2\",\"co2\",\"co2\",\"co2\",\"co2\",\"co2\",\"co2\",\"co2\",\"co2\",\"co2\",\"co2\",\"co2\",\"co2\",\"co2\",\"co2\",\"co2\",\"co2\",\"co2\",\"co2\",\"co2\",\"co2\",\"co2\",\"co2\",\"co2\",\"co2\",\"co2\",\"co2\",\"co2\",\"co2\",\"co2\",\"co2\",\"co2\",\"co2\",\"co2\",\"co2\",\"co2\",\"co2\",\"co2\",\"co2\",\"co2\",\"co2\",\"co2\",\"co2\",\"co2\",\"co2\",\"co2\",\"co2\",\"co2\",\"co2\",\"co2\"],\"gdp_per_capita\":{\"__ndarray__\":\"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\",\"dtype\":\"float64\",\"order\":\"little\",\"shape\":[235]},\"value\":{\"__ndarray__\":\"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\",\"dtype\":\"float64\",\"order\":\"little\",\"shape\":[235]}},\"selected\":{\"id\":\"1641\"},\"selection_policy\":{\"id\":\"1658\"}},\"id\":\"1640\",\"type\":\"ColumnDataSource\"},{\"attributes\":{\"fill_alpha\":{\"value\":0.7},\"fill_color\":{\"value\":\"#30a2da\"},\"hatch_alpha\":{\"value\":0.1},\"hatch_color\":{\"value\":\"#30a2da\"},\"line_alpha\":{\"value\":0.7},\"line_color\":{\"value\":\"#30a2da\"},\"size\":{\"value\":8.94427190999916},\"x\":{\"field\":\"gdp_per_capita\"},\"y\":{\"field\":\"value\"}},\"id\":\"1635\",\"type\":\"Scatter\"},{\"attributes\":{},\"id\":\"1609\",\"type\":\"BasicTicker\"},{\"attributes\":{\"fill_alpha\":{\"value\":0.7},\"fill_color\":{\"value\":\"#fc4f30\"},\"hatch_alpha\":{\"value\":0.1},\"hatch_color\":{\"value\":\"#fc4f30\"},\"line_alpha\":{\"value\":0.7},\"line_color\":{\"value\":\"#fc4f30\"},\"size\":{\"value\":8.94427190999916},\"x\":{\"field\":\"gdp_per_capita\"},\"y\":{\"field\":\"value\"}},\"id\":\"1644\",\"type\":\"Scatter\"},{\"attributes\":{\"fill_alpha\":{\"value\":0.7},\"fill_color\":{\"value\":\"#fc4f30\"},\"hatch_alpha\":{\"value\":0.7},\"hatch_color\":{\"value\":\"#fc4f30\"},\"line_alpha\":{\"value\":0.7},\"line_color\":{\"value\":\"#fc4f30\"},\"size\":{\"value\":8.94427190999916},\"x\":{\"field\":\"gdp_per_capita\"},\"y\":{\"field\":\"value\"}},\"id\":\"1643\",\"type\":\"Scatter\"},{\"attributes\":{},\"id\":\"1605\",\"type\":\"BasicTicker\"},{\"attributes\":{\"children\":[{\"id\":\"1585\"}],\"margin\":[0,0,0,0],\"name\":\"Row12148\"},\"id\":\"1584\",\"type\":\"Row\"},{\"attributes\":{\"axis\":{\"id\":\"1608\"},\"coordinates\":null,\"dimension\":1,\"grid_line_color\":null,\"group\":null,\"ticker\":null},\"id\":\"1611\",\"type\":\"Grid\"},{\"attributes\":{},\"id\":\"1641\",\"type\":\"Selection\"},{\"attributes\":{\"axis_label\":\"\",\"coordinates\":null,\"formatter\":{\"id\":\"1629\"},\"group\":null,\"major_label_policy\":{\"id\":\"1630\"},\"ticker\":{\"id\":\"1609\"}},\"id\":\"1608\",\"type\":\"LinearAxis\"},{\"attributes\":{},\"id\":\"1629\",\"type\":\"BasicTickFormatter\"},{\"attributes\":{\"fill_alpha\":{\"value\":0.2},\"fill_color\":{\"value\":\"#fc4f30\"},\"hatch_alpha\":{\"value\":0.2},\"hatch_color\":{\"value\":\"#fc4f30\"},\"line_alpha\":{\"value\":0.2},\"line_color\":{\"value\":\"#fc4f30\"},\"size\":{\"value\":8.94427190999916},\"x\":{\"field\":\"gdp_per_capita\"},\"y\":{\"field\":\"value\"}},\"id\":\"1645\",\"type\":\"Scatter\"},{\"attributes\":{},\"id\":\"1656\",\"type\":\"UnionRenderers\"},{\"attributes\":{\"data\":{\"Variable\":[\"year\",\"year\",\"year\",\"year\",\"year\",\"year\",\"year\",\"year\",\"year\",\"year\",\"year\",\"year\",\"year\",\"year\",\"year\",\"year\",\"year\",\"year\",\"year\",\"year\",\"year\",\"year\",\"year\",\"year\",\"year\",\"year\",\"year\",\"year\",\"year\",\"year\",\"year\",\"year\",\"year\",\"year\",\"year\",\"year\",\"year\",\"year\",\"year\",\"year\",\"year\",\"year\",\"year\",\"year\",\"year\",\"year\",\"year\",\"year\",\"year\",\"year\",\"year\",\"year\",\"year\",\"year\",\"year\",\"year\",\"year\",\"year\",\"year\",\"year\",\"year\",\"year\",\"year\",\"year\",\"year\",\"year\",\"year\",\"year\",\"year\",\"year\",\"year\",\"year\",\"year\",\"year\",\"year\",\"year\",\"year\",\"year\",\"year\",\"year\",\"year\",\"year\",\"year\",\"year\",\"year\",\"year\",\"year\",\"year\",\"year\",\"year\",\"year\",\"year\",\"year\",\"year\",\"year\",\"year\",\"year\",\"year\",\"year\",\"year\",\"year\",\"year\",\"year\",\"year\",\"year\",\"year\",\"year\",\"year\",\"year\",\"year\",\"year\",\"year\",\"year\",\"year\",\"year\",\"year\",\"year\",\"year\",\"year\",\"year\",\"year\",\"year\",\"year\",\"year\",\"year\",\"year\",\"year\",\"year\",\"year\",\"year\",\"year\",\"year\",\"year\",\"year\",\"year\",\"year\",\"year\",\"year\",\"year\",\"year\",\"year\",\"year\",\"year\",\"year\",\"year\",\"year\",\"year\",\"year\",\"year\",\"year\",\"year\",\"year\",\"year\",\"year\",\"year\",\"year\",\"year\",\"year\",\"year\",\"year\",\"year\",\"year\",\"year\",\"year\",\"year\",\"year\",\"year\",\"year\",\"year\",\"year\",\"year\",\"year\",\"year\",\"year\",\"year\",\"year\",\"year\",\"year\",\"year\",\"year\",\"year\",\"year\",\"year\",\"year\",\"year\",\"year\",\"year\",\"year\",\"year\",\"year\",\"year\",\"year\",\"year\",\"year\",\"year\",\"year\",\"year\",\"year\",\"year\",\"year\",\"year\",\"year\",\"year\",\"year\",\"year\",\"year\",\"year\",\"year\",\"year\",\"year\",\"year\",\"year\",\"year\",\"year\",\"year\",\"year\",\"year\",\"year\",\"year\",\"year\",\"year\",\"year\",\"year\",\"year\",\"year\",\"year\",\"year\",\"year\",\"year\",\"year\",\"year\",\"year\",\"year\",\"year\",\"year\"],\"gdp_per_capita\":{\"__ndarray__\":\"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\",\"dtype\":\"float64\",\"order\":\"little\",\"shape\":[235]},\"value\":[2010,2010,2010,2010,2010,2010,2010,2010,2010,2010,2010,2010,2010,2010,2010,2010,2010,2010,2010,2010,2010,2010,2010,2010,2010,2010,2010,2010,2010,2010,2010,2010,2010,2010,2010,2010,2010,2010,2010,2010,2010,2010,2010,2010,2010,2010,2010,2010,2010,2010,2010,2010,2010,2010,2010,2010,2010,2010,2010,2010,2010,2010,2010,2010,2010,2010,2010,2010,2010,2010,2010,2010,2010,2010,2010,2010,2010,2010,2010,2010,2010,2010,2010,2010,2010,2010,2010,2010,2010,2010,2010,2010,2010,2010,2010,2010,2010,2010,2010,2010,2010,2010,2010,2010,2010,2010,2010,2010,2010,2010,2010,2010,2010,2010,2010,2010,2010,2010,2010,2010,2010,2010,2010,2010,2010,2010,2010,2010,2010,2010,2010,2010,2010,2010,2010,2010,2010,2010,2010,2010,2010,2010,2010,2010,2010,2010,2010,2010,2010,2010,2010,2010,2010,2010,2010,2010,2010,2010,2010,2010,2010,2010,2010,2010,2010,2010,2010,2010,2010,2010,2010,2010,2010,2010,2010,2010,2010,2010,2010,2010,2010,2010,2010,2010,2010,2010,2010,2010,2010,2010,2010,2010,2010,2010,2010,2010,2010,2010,2010,2010,2010,2010,2010,2010,2010,2010,2010,2010,2010,2010,2010,2010,2010,2010,2010,2010,2010,2010,2010,2010,2010,2010,2010,2010,2010,2010,2010,2010,2010,2010,2010,2010,2010,2010,2010]},\"selected\":{\"id\":\"1632\"},\"selection_policy\":{\"id\":\"1656\"}},\"id\":\"1631\",\"type\":\"ColumnDataSource\"},{\"attributes\":{},\"id\":\"1613\",\"type\":\"PanTool\"},{\"attributes\":{},\"id\":\"1616\",\"type\":\"ResetTool\"},{\"attributes\":{\"fill_alpha\":{\"value\":0.2},\"fill_color\":{\"value\":\"#30a2da\"},\"hatch_alpha\":{\"value\":0.2},\"hatch_color\":{\"value\":\"#30a2da\"},\"line_alpha\":{\"value\":0.2},\"line_color\":{\"value\":\"#30a2da\"},\"size\":{\"value\":8.94427190999916},\"x\":{\"field\":\"gdp_per_capita\"},\"y\":{\"field\":\"value\"}},\"id\":\"1636\",\"type\":\"Scatter\"},{\"attributes\":{\"bottom_units\":\"screen\",\"coordinates\":null,\"fill_alpha\":0.5,\"fill_color\":\"lightgrey\",\"group\":null,\"left_units\":\"screen\",\"level\":\"overlay\",\"line_alpha\":1.0,\"line_color\":\"black\",\"line_dash\":[4,4],\"line_width\":2,\"right_units\":\"screen\",\"syncable\":false,\"top_units\":\"screen\"},\"id\":\"1617\",\"type\":\"BoxAnnotation\"},{\"attributes\":{},\"id\":\"1612\",\"type\":\"SaveTool\"},{\"attributes\":{\"angle\":{\"value\":0.0},\"fill_alpha\":{\"value\":0.7},\"fill_color\":{\"value\":\"#fc4f30\"},\"hatch_alpha\":{\"value\":0.7},\"hatch_color\":{\"value\":\"#fc4f30\"},\"hatch_scale\":{\"value\":12.0},\"hatch_weight\":{\"value\":1.0},\"line_alpha\":{\"value\":0.7},\"line_cap\":{\"value\":\"butt\"},\"line_color\":{\"value\":\"#fc4f30\"},\"line_dash\":{\"value\":[]},\"line_dash_offset\":{\"value\":0},\"line_join\":{\"value\":\"bevel\"},\"line_width\":{\"value\":1},\"marker\":{\"value\":\"circle\"},\"size\":{\"value\":8.94427190999916},\"x\":{\"field\":\"gdp_per_capita\"},\"y\":{\"field\":\"value\"}},\"id\":\"1648\",\"type\":\"Scatter\"},{\"attributes\":{},\"id\":\"1614\",\"type\":\"WheelZoomTool\"},{\"attributes\":{\"coordinates\":null,\"data_source\":{\"id\":\"1631\"},\"glyph\":{\"id\":\"1634\"},\"group\":null,\"hover_glyph\":null,\"muted_glyph\":{\"id\":\"1636\"},\"nonselection_glyph\":{\"id\":\"1635\"},\"selection_glyph\":{\"id\":\"1639\"},\"view\":{\"id\":\"1638\"}},\"id\":\"1637\",\"type\":\"GlyphRenderer\"},{\"attributes\":{\"overlay\":{\"id\":\"1617\"}},\"id\":\"1615\",\"type\":\"BoxZoomTool\"}],\"root_ids\":[\"1584\",\"1793\"]},\"title\":\"Bokeh Application\",\"version\":\"2.4.2\"}};\n",
       "    var render_items = [{\"docid\":\"24db1abb-739e-451f-99a0-2c4a237fa38c\",\"root_ids\":[\"1584\"],\"roots\":{\"1584\":\"f7681720-8247-4f2a-bf37-9d1044233d37\"}}];\n",
       "    root.Bokeh.embed.embed_items_notebook(docs_json, render_items);\n",
       "  }\n",
       "  if (root.Bokeh !== undefined && root.Bokeh.Panel !== undefined && ( root['Tabulator'] !== undefined)) {\n",
       "    embed_document(root);\n",
       "  } else {\n",
       "    var attempts = 0;\n",
       "    var timer = setInterval(function(root) {\n",
       "      if (root.Bokeh !== undefined && root.Bokeh.Panel !== undefined && (root['Tabulator'] !== undefined)) {\n",
       "        clearInterval(timer);\n",
       "        embed_document(root);\n",
       "      } else if (document.readyState == \"complete\") {\n",
       "        attempts++;\n",
       "        if (attempts > 200) {\n",
       "          clearInterval(timer);\n",
       "          console.log(\"Bokeh: ERROR: Unable to run BokehJS code because BokehJS library is missing\");\n",
       "        }\n",
       "      }\n",
       "    }, 25, root)\n",
       "  }\n",
       "})(window);</script>"
      ],
      "text/plain": [
       "<hvplot.interactive.Interactive at 0x20f90cdfb50>"
      ]
     },
     "execution_count": 30,
     "metadata": {
      "application/vnd.holoviews_exec.v0+json": {
       "id": "1584"
      }
     },
     "output_type": "execute_result"
    }
   ],
   "source": [
    "co2_vs_gdp_scatterplot = co2_vs_gdp_scatterplot_pipeline.hvplot(\n",
    "        x = 'gdp_per_capita',\n",
    "        by='country',\n",
    "        size=80,\n",
    "        kind='scatter',\n",
    "        alpha=0.7,\n",
    "        legend=False,\n",
    "        height=500,\n",
    "        width=500\n",
    ")\n",
    "\n",
    "co2_vs_gdp_scatterplot"
   ]
  },
  {
   "cell_type": "code",
   "execution_count": null,
   "id": "1e85a408",
   "metadata": {},
   "outputs": [],
   "source": []
  }
 ],
 "metadata": {
  "kernelspec": {
   "display_name": "Python 3 (ipykernel)",
   "language": "python",
   "name": "python3"
  },
  "language_info": {
   "codemirror_mode": {
    "name": "ipython",
    "version": 3
   },
   "file_extension": ".py",
   "mimetype": "text/x-python",
   "name": "python",
   "nbconvert_exporter": "python",
   "pygments_lexer": "ipython3",
   "version": "3.9.7"
  }
 },
 "nbformat": 4,
 "nbformat_minor": 5
}
