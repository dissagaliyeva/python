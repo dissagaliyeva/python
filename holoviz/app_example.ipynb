{
 "cells": [
  {
   "cell_type": "code",
   "execution_count": 15,
   "id": "205857a6",
   "metadata": {},
   "outputs": [],
   "source": [
    "import pandas as pd\n",
    "import numpy as np\n",
    "import panel as pn\n",
    "import hvplot.pandas \n",
    "\n",
    "pn.extension()"
   ]
  },
  {
   "cell_type": "code",
   "execution_count": 16,
   "id": "1da63625",
   "metadata": {},
   "outputs": [
    {
     "data": {
      "text/html": [
       "<div>\n",
       "<style scoped>\n",
       "    .dataframe tbody tr th:only-of-type {\n",
       "        vertical-align: middle;\n",
       "    }\n",
       "\n",
       "    .dataframe tbody tr th {\n",
       "        vertical-align: top;\n",
       "    }\n",
       "\n",
       "    .dataframe thead th {\n",
       "        text-align: right;\n",
       "    }\n",
       "</style>\n",
       "<table border=\"1\" class=\"dataframe\">\n",
       "  <thead>\n",
       "    <tr style=\"text-align: right;\">\n",
       "      <th></th>\n",
       "      <th>iso_code</th>\n",
       "      <th>country</th>\n",
       "      <th>year</th>\n",
       "      <th>co2</th>\n",
       "      <th>co2_per_capita</th>\n",
       "      <th>trade_co2</th>\n",
       "      <th>cement_co2</th>\n",
       "      <th>cement_co2_per_capita</th>\n",
       "      <th>coal_co2</th>\n",
       "      <th>coal_co2_per_capita</th>\n",
       "      <th>...</th>\n",
       "      <th>ghg_excluding_lucf_per_capita</th>\n",
       "      <th>methane</th>\n",
       "      <th>methane_per_capita</th>\n",
       "      <th>nitrous_oxide</th>\n",
       "      <th>nitrous_oxide_per_capita</th>\n",
       "      <th>population</th>\n",
       "      <th>gdp</th>\n",
       "      <th>primary_energy_consumption</th>\n",
       "      <th>energy_per_capita</th>\n",
       "      <th>energy_per_gdp</th>\n",
       "    </tr>\n",
       "  </thead>\n",
       "  <tbody>\n",
       "    <tr>\n",
       "      <th>0</th>\n",
       "      <td>AFG</td>\n",
       "      <td>Afghanistan</td>\n",
       "      <td>1949</td>\n",
       "      <td>0.015</td>\n",
       "      <td>0.002</td>\n",
       "      <td>NaN</td>\n",
       "      <td>NaN</td>\n",
       "      <td>NaN</td>\n",
       "      <td>0.015</td>\n",
       "      <td>0.002</td>\n",
       "      <td>...</td>\n",
       "      <td>NaN</td>\n",
       "      <td>NaN</td>\n",
       "      <td>NaN</td>\n",
       "      <td>NaN</td>\n",
       "      <td>NaN</td>\n",
       "      <td>7624058.0</td>\n",
       "      <td>NaN</td>\n",
       "      <td>NaN</td>\n",
       "      <td>NaN</td>\n",
       "      <td>NaN</td>\n",
       "    </tr>\n",
       "    <tr>\n",
       "      <th>1</th>\n",
       "      <td>AFG</td>\n",
       "      <td>Afghanistan</td>\n",
       "      <td>1950</td>\n",
       "      <td>0.084</td>\n",
       "      <td>0.011</td>\n",
       "      <td>NaN</td>\n",
       "      <td>NaN</td>\n",
       "      <td>NaN</td>\n",
       "      <td>0.021</td>\n",
       "      <td>0.003</td>\n",
       "      <td>...</td>\n",
       "      <td>NaN</td>\n",
       "      <td>NaN</td>\n",
       "      <td>NaN</td>\n",
       "      <td>NaN</td>\n",
       "      <td>NaN</td>\n",
       "      <td>7752117.0</td>\n",
       "      <td>9.421400e+09</td>\n",
       "      <td>NaN</td>\n",
       "      <td>NaN</td>\n",
       "      <td>NaN</td>\n",
       "    </tr>\n",
       "    <tr>\n",
       "      <th>2</th>\n",
       "      <td>AFG</td>\n",
       "      <td>Afghanistan</td>\n",
       "      <td>1951</td>\n",
       "      <td>0.092</td>\n",
       "      <td>0.012</td>\n",
       "      <td>NaN</td>\n",
       "      <td>NaN</td>\n",
       "      <td>NaN</td>\n",
       "      <td>0.026</td>\n",
       "      <td>0.003</td>\n",
       "      <td>...</td>\n",
       "      <td>NaN</td>\n",
       "      <td>NaN</td>\n",
       "      <td>NaN</td>\n",
       "      <td>NaN</td>\n",
       "      <td>NaN</td>\n",
       "      <td>7840151.0</td>\n",
       "      <td>9.692280e+09</td>\n",
       "      <td>NaN</td>\n",
       "      <td>NaN</td>\n",
       "      <td>NaN</td>\n",
       "    </tr>\n",
       "  </tbody>\n",
       "</table>\n",
       "<p>3 rows × 60 columns</p>\n",
       "</div>"
      ],
      "text/plain": [
       "  iso_code      country  year    co2  co2_per_capita  trade_co2  cement_co2  \\\n",
       "0      AFG  Afghanistan  1949  0.015           0.002        NaN         NaN   \n",
       "1      AFG  Afghanistan  1950  0.084           0.011        NaN         NaN   \n",
       "2      AFG  Afghanistan  1951  0.092           0.012        NaN         NaN   \n",
       "\n",
       "   cement_co2_per_capita  coal_co2  coal_co2_per_capita  ...  \\\n",
       "0                    NaN     0.015                0.002  ...   \n",
       "1                    NaN     0.021                0.003  ...   \n",
       "2                    NaN     0.026                0.003  ...   \n",
       "\n",
       "   ghg_excluding_lucf_per_capita  methane  methane_per_capita  nitrous_oxide  \\\n",
       "0                            NaN      NaN                 NaN            NaN   \n",
       "1                            NaN      NaN                 NaN            NaN   \n",
       "2                            NaN      NaN                 NaN            NaN   \n",
       "\n",
       "   nitrous_oxide_per_capita  population           gdp  \\\n",
       "0                       NaN   7624058.0           NaN   \n",
       "1                       NaN   7752117.0  9.421400e+09   \n",
       "2                       NaN   7840151.0  9.692280e+09   \n",
       "\n",
       "   primary_energy_consumption  energy_per_capita  energy_per_gdp  \n",
       "0                         NaN                NaN             NaN  \n",
       "1                         NaN                NaN             NaN  \n",
       "2                         NaN                NaN             NaN  \n",
       "\n",
       "[3 rows x 60 columns]"
      ]
     },
     "execution_count": 16,
     "metadata": {},
     "output_type": "execute_result"
    }
   ],
   "source": [
    "# cache data for performance improvement \n",
    "\n",
    "if 'data' not in pn.state.cache.keys():\n",
    "    data = pd.read_csv('https://raw.githubusercontent.com/owid/co2-data/master/owid-co2-data.csv')\n",
    "    pn.state.cache['data'] = data.copy()\n",
    "    \n",
    "else:\n",
    "    data = pn.state.cache['data']\n",
    "    \n",
    "data.head(3)"
   ]
  },
  {
   "cell_type": "code",
   "execution_count": 17,
   "id": "9b9f7d23",
   "metadata": {},
   "outputs": [],
   "source": [
    "# minor data preprocessing\n",
    "\n",
    "data = data.fillna(0)\n",
    "data['gdp_per_capita'] = np.where(data['population'] != 0,\n",
    "                                  data['gdp'] / data['population'],\n",
    "                                  0)\n"
   ]
  },
  {
   "cell_type": "code",
   "execution_count": 18,
   "id": "e8768689",
   "metadata": {},
   "outputs": [],
   "source": [
    "# make dataframe pipeline interactive \n",
    "idf = data.interactive()"
   ]
  },
  {
   "cell_type": "markdown",
   "id": "c8728408",
   "metadata": {},
   "source": [
    "### CO2 emission over time by continent "
   ]
  },
  {
   "cell_type": "code",
   "execution_count": 19,
   "id": "7186f69e",
   "metadata": {},
   "outputs": [
    {
     "data": {},
     "metadata": {},
     "output_type": "display_data"
    },
    {
     "data": {
      "application/vnd.holoviews_exec.v0+json": "",
      "text/html": [
       "<div id='1354'>\n",
       "\n",
       "\n",
       "\n",
       "\n",
       "\n",
       "  <div class=\"bk-root\" id=\"028d189d-ca9b-4717-beb5-808f7fa07356\" data-root-id=\"1354\"></div>\n",
       "</div>\n",
       "<script type=\"application/javascript\">(function(root) {\n",
       "  function embed_document(root) {\n",
       "    var docs_json = {\"006343e3-4dc7-433b-8627-e84970848e30\":{\"defs\":[{\"extends\":null,\"module\":null,\"name\":\"ReactiveHTML1\",\"overrides\":[],\"properties\":[]},{\"extends\":null,\"module\":null,\"name\":\"FlexBox1\",\"overrides\":[],\"properties\":[{\"default\":\"flex-start\",\"kind\":null,\"name\":\"align_content\"},{\"default\":\"flex-start\",\"kind\":null,\"name\":\"align_items\"},{\"default\":\"row\",\"kind\":null,\"name\":\"flex_direction\"},{\"default\":\"wrap\",\"kind\":null,\"name\":\"flex_wrap\"},{\"default\":\"flex-start\",\"kind\":null,\"name\":\"justify_content\"}]},{\"extends\":null,\"module\":null,\"name\":\"TemplateActions1\",\"overrides\":[],\"properties\":[{\"default\":0,\"kind\":null,\"name\":\"open_modal\"},{\"default\":0,\"kind\":null,\"name\":\"close_modal\"}]},{\"extends\":null,\"module\":null,\"name\":\"MaterialTemplateActions1\",\"overrides\":[],\"properties\":[{\"default\":0,\"kind\":null,\"name\":\"open_modal\"},{\"default\":0,\"kind\":null,\"name\":\"close_modal\"}]}],\"roots\":{\"references\":[{\"attributes\":{\"client_comm_id\":\"27fa763cc85145cca378a958be426d68\",\"comm_id\":\"4b7177d392f54922a7bfc612035ad9d5\",\"plot_id\":\"1354\"},\"id\":\"1355\",\"type\":\"panel.models.comm_manager.CommManager\"},{\"attributes\":{\"end\":2020,\"margin\":[5,10,5,10],\"start\":1750,\"step\":5,\"title\":\"Year slider\",\"value\":1850},\"id\":\"1354\",\"type\":\"Slider\"}],\"root_ids\":[\"1354\",\"1355\"]},\"title\":\"Bokeh Application\",\"version\":\"2.4.2\"}};\n",
       "    var render_items = [{\"docid\":\"006343e3-4dc7-433b-8627-e84970848e30\",\"root_ids\":[\"1354\"],\"roots\":{\"1354\":\"028d189d-ca9b-4717-beb5-808f7fa07356\"}}];\n",
       "    root.Bokeh.embed.embed_items_notebook(docs_json, render_items);\n",
       "  }\n",
       "  if (root.Bokeh !== undefined && root.Bokeh.Panel !== undefined) {\n",
       "    embed_document(root);\n",
       "  } else {\n",
       "    var attempts = 0;\n",
       "    var timer = setInterval(function(root) {\n",
       "      if (root.Bokeh !== undefined && root.Bokeh.Panel !== undefined) {\n",
       "        clearInterval(timer);\n",
       "        embed_document(root);\n",
       "      } else if (document.readyState == \"complete\") {\n",
       "        attempts++;\n",
       "        if (attempts > 200) {\n",
       "          clearInterval(timer);\n",
       "          console.log(\"Bokeh: ERROR: Unable to run BokehJS code because BokehJS library is missing\");\n",
       "        }\n",
       "      }\n",
       "    }, 25, root)\n",
       "  }\n",
       "})(window);</script>"
      ],
      "text/plain": [
       "IntSlider(end=2020, name='Year slider', start=1750, step=5, value=1850)"
      ]
     },
     "execution_count": 19,
     "metadata": {
      "application/vnd.holoviews_exec.v0+json": {
       "id": "1354"
      }
     },
     "output_type": "execute_result"
    }
   ],
   "source": [
    "# define panel widgets \n",
    "\n",
    "year_slider = pn.widgets.IntSlider(name='Year slider', \n",
    "                                   start=1750, \n",
    "                                   end=2020,\n",
    "                                   step=5, \n",
    "                                   value=1850)\n",
    "year_slider"
   ]
  },
  {
   "cell_type": "code",
   "execution_count": 20,
   "id": "4bbb0321",
   "metadata": {},
   "outputs": [],
   "source": [
    "# radio buttons for co2 measures \n",
    "\n",
    "yaxis_co2 = pn.widgets.RadioButtonGroup(\n",
    "            name='Y-axis',\n",
    "            options=['co2', 'co2_per_capita'],\n",
    "            button_type='success'\n",
    ")"
   ]
  },
  {
   "cell_type": "code",
   "execution_count": 21,
   "id": "907ce948",
   "metadata": {},
   "outputs": [
    {
     "data": {},
     "metadata": {},
     "output_type": "display_data"
    },
    {
     "data": {
      "application/vnd.holoviews_exec.v0+json": "",
      "text/html": [
       "<div id='1356'>\n",
       "\n",
       "\n",
       "\n",
       "\n",
       "\n",
       "  <div class=\"bk-root\" id=\"21891daf-5571-46ec-9377-9e26fba8624f\" data-root-id=\"1356\"></div>\n",
       "</div>\n",
       "<script type=\"application/javascript\">(function(root) {\n",
       "  function embed_document(root) {\n",
       "    var docs_json = {\"7ce649e0-5af7-441e-918d-532ccc3a274b\":{\"defs\":[{\"extends\":null,\"module\":null,\"name\":\"ReactiveHTML1\",\"overrides\":[],\"properties\":[]},{\"extends\":null,\"module\":null,\"name\":\"FlexBox1\",\"overrides\":[],\"properties\":[{\"default\":\"flex-start\",\"kind\":null,\"name\":\"align_content\"},{\"default\":\"flex-start\",\"kind\":null,\"name\":\"align_items\"},{\"default\":\"row\",\"kind\":null,\"name\":\"flex_direction\"},{\"default\":\"wrap\",\"kind\":null,\"name\":\"flex_wrap\"},{\"default\":\"flex-start\",\"kind\":null,\"name\":\"justify_content\"}]},{\"extends\":null,\"module\":null,\"name\":\"TemplateActions1\",\"overrides\":[],\"properties\":[{\"default\":0,\"kind\":null,\"name\":\"open_modal\"},{\"default\":0,\"kind\":null,\"name\":\"close_modal\"}]},{\"extends\":null,\"module\":null,\"name\":\"MaterialTemplateActions1\",\"overrides\":[],\"properties\":[{\"default\":0,\"kind\":null,\"name\":\"open_modal\"},{\"default\":0,\"kind\":null,\"name\":\"close_modal\"}]}],\"roots\":{\"references\":[{\"attributes\":{\"children\":[{\"id\":\"1364\"}],\"margin\":[0,0,0,0],\"name\":\"Row06642\"},\"id\":\"1363\",\"type\":\"Row\"},{\"attributes\":{\"end\":2020,\"margin\":[5,10,5,10],\"start\":1750,\"step\":5,\"title\":\"Year slider\",\"value\":1850},\"id\":\"1360\",\"type\":\"Slider\"},{\"attributes\":{\"children\":[{\"id\":\"1358\"},{\"id\":\"1363\"}],\"margin\":[0,0,0,0],\"name\":\"Column06721\"},\"id\":\"1357\",\"type\":\"Column\"},{\"attributes\":{\"children\":[{\"id\":\"1357\"}],\"margin\":[0,0,0,0],\"name\":\"Row06722\"},\"id\":\"1356\",\"type\":\"Row\"},{\"attributes\":{\"client_comm_id\":\"c48163c3851b4b08beb59b076074338b\",\"comm_id\":\"37e0544e585244f9a3cceccbd013434f\",\"plot_id\":\"1356\"},\"id\":\"1365\",\"type\":\"panel.models.comm_manager.CommManager\"},{\"attributes\":{\"children\":[{\"id\":\"1359\"},{\"id\":\"1362\"}],\"margin\":[0,0,0,0],\"name\":\"Row06720\"},\"id\":\"1358\",\"type\":\"Row\"},{\"attributes\":{\"children\":[{\"id\":\"1360\"},{\"id\":\"1361\"}],\"margin\":[0,0,0,0],\"name\":\"Column06637\"},\"id\":\"1359\",\"type\":\"Column\"},{\"attributes\":{\"margin\":[5,5,5,5],\"name\":\"DataFrame06717\",\"text\":\"&lt;table border=&quot;0&quot; class=&quot;dataframe panel-df&quot;&gt;\\n  &lt;thead&gt;\\n    &lt;tr style=&quot;text-align: right;&quot;&gt;\\n      &lt;th&gt;&lt;/th&gt;\\n      &lt;th&gt;country&lt;/th&gt;\\n      &lt;th&gt;year&lt;/th&gt;\\n      &lt;th&gt;co2&lt;/th&gt;\\n    &lt;/tr&gt;\\n  &lt;/thead&gt;\\n  &lt;tbody&gt;\\n    &lt;tr&gt;\\n      &lt;th&gt;0&lt;/th&gt;\\n      &lt;td&gt;Asia&lt;/td&gt;\\n      &lt;td&gt;1850&lt;/td&gt;\\n      &lt;td&gt;0.015&lt;/td&gt;\\n    &lt;/tr&gt;\\n    &lt;tr&gt;\\n      &lt;th&gt;1&lt;/th&gt;\\n      &lt;td&gt;Europe&lt;/td&gt;\\n      &lt;td&gt;1850&lt;/td&gt;\\n      &lt;td&gt;177.030&lt;/td&gt;\\n    &lt;/tr&gt;\\n    &lt;tr&gt;\\n      &lt;th&gt;2&lt;/th&gt;\\n      &lt;td&gt;North America&lt;/td&gt;\\n      &lt;td&gt;1850&lt;/td&gt;\\n      &lt;td&gt;19.852&lt;/td&gt;\\n    &lt;/tr&gt;\\n    &lt;tr&gt;\\n      &lt;th&gt;3&lt;/th&gt;\\n      &lt;td&gt;World&lt;/td&gt;\\n      &lt;td&gt;1850&lt;/td&gt;\\n      &lt;td&gt;196.896&lt;/td&gt;\\n    &lt;/tr&gt;\\n  &lt;/tbody&gt;\\n&lt;/table&gt;\"},\"id\":\"1364\",\"type\":\"panel.models.markup.HTML\"},{\"attributes\":{\"margin\":[5,5,5,5],\"name\":\"HSpacer06719\",\"sizing_mode\":\"stretch_width\"},\"id\":\"1362\",\"type\":\"Spacer\"},{\"attributes\":{\"active\":0,\"button_type\":\"success\",\"labels\":[\"co2\",\"co2_per_capita\"],\"margin\":[5,10,5,10]},\"id\":\"1361\",\"type\":\"RadioButtonGroup\"}],\"root_ids\":[\"1356\",\"1365\"]},\"title\":\"Bokeh Application\",\"version\":\"2.4.2\"}};\n",
       "    var render_items = [{\"docid\":\"7ce649e0-5af7-441e-918d-532ccc3a274b\",\"root_ids\":[\"1356\"],\"roots\":{\"1356\":\"21891daf-5571-46ec-9377-9e26fba8624f\"}}];\n",
       "    root.Bokeh.embed.embed_items_notebook(docs_json, render_items);\n",
       "  }\n",
       "  if (root.Bokeh !== undefined && root.Bokeh.Panel !== undefined) {\n",
       "    embed_document(root);\n",
       "  } else {\n",
       "    var attempts = 0;\n",
       "    var timer = setInterval(function(root) {\n",
       "      if (root.Bokeh !== undefined && root.Bokeh.Panel !== undefined) {\n",
       "        clearInterval(timer);\n",
       "        embed_document(root);\n",
       "      } else if (document.readyState == \"complete\") {\n",
       "        attempts++;\n",
       "        if (attempts > 200) {\n",
       "          clearInterval(timer);\n",
       "          console.log(\"Bokeh: ERROR: Unable to run BokehJS code because BokehJS library is missing\");\n",
       "        }\n",
       "      }\n",
       "    }, 25, root)\n",
       "  }\n",
       "})(window);</script>"
      ],
      "text/plain": [
       "<hvplot.interactive.Interactive at 0x20c5cc0c5b0>"
      ]
     },
     "execution_count": 21,
     "metadata": {
      "application/vnd.holoviews_exec.v0+json": {
       "id": "1356"
      }
     },
     "output_type": "execute_result"
    }
   ],
   "source": [
    "STEP = 5\n",
    "\n",
    "continents = ['World', 'Asia', 'Oceania', 'Europe', 'Africa', \n",
    "              'North America', 'South America', 'Antarctica']\n",
    "\n",
    "co2_pipeline = (\n",
    "        idf[\n",
    "            (idf.year == year_slider) &\n",
    "            (idf.country.isin(continents))\n",
    "        ]\n",
    "        .groupby(['country', 'year'])[yaxis_co2].mean()\n",
    "        .to_frame()\n",
    "        .reset_index()\n",
    "        .sort_values(by='year')\n",
    "        .reset_index(drop=True)\n",
    ")\n",
    "\n",
    "co2_pipeline"
   ]
  },
  {
   "cell_type": "markdown",
   "id": "a0801a69",
   "metadata": {},
   "source": [
    "### Table - CO2 emission over time by continent\n"
   ]
  },
  {
   "cell_type": "code",
   "execution_count": 22,
   "id": "f58b59ec",
   "metadata": {},
   "outputs": [
    {
     "data": {},
     "metadata": {},
     "output_type": "display_data"
    },
    {
     "data": {
      "application/vnd.holoviews_exec.v0+json": "",
      "text/html": [
       "<div id='1366'>\n",
       "\n",
       "\n",
       "\n",
       "\n",
       "\n",
       "  <div class=\"bk-root\" id=\"8a407ed4-486c-49f5-8365-592825f43b95\" data-root-id=\"1366\"></div>\n",
       "</div>\n",
       "<script type=\"application/javascript\">(function(root) {\n",
       "  function embed_document(root) {\n",
       "    var docs_json = {\"98200089-739e-450a-8046-68b09cd25bda\":{\"defs\":[{\"extends\":null,\"module\":null,\"name\":\"ReactiveHTML1\",\"overrides\":[],\"properties\":[]},{\"extends\":null,\"module\":null,\"name\":\"FlexBox1\",\"overrides\":[],\"properties\":[{\"default\":\"flex-start\",\"kind\":null,\"name\":\"align_content\"},{\"default\":\"flex-start\",\"kind\":null,\"name\":\"align_items\"},{\"default\":\"row\",\"kind\":null,\"name\":\"flex_direction\"},{\"default\":\"wrap\",\"kind\":null,\"name\":\"flex_wrap\"},{\"default\":\"flex-start\",\"kind\":null,\"name\":\"justify_content\"}]},{\"extends\":null,\"module\":null,\"name\":\"TemplateActions1\",\"overrides\":[],\"properties\":[{\"default\":0,\"kind\":null,\"name\":\"open_modal\"},{\"default\":0,\"kind\":null,\"name\":\"close_modal\"}]},{\"extends\":null,\"module\":null,\"name\":\"MaterialTemplateActions1\",\"overrides\":[],\"properties\":[{\"default\":0,\"kind\":null,\"name\":\"open_modal\"},{\"default\":0,\"kind\":null,\"name\":\"close_modal\"}]}],\"roots\":{\"references\":[{\"attributes\":{\"format\":\"0,0.0[00000]\"},\"id\":\"1392\",\"type\":\"NumberFormatter\"},{\"attributes\":{},\"id\":\"1382\",\"type\":\"StringFormatter\"},{\"attributes\":{\"margin\":[5,5,5,5],\"name\":\"HSpacer06881\",\"sizing_mode\":\"stretch_width\"},\"id\":\"1372\",\"type\":\"Spacer\"},{\"attributes\":{},\"id\":\"1383\",\"type\":\"StringEditor\"},{\"attributes\":{\"end\":2020,\"margin\":[5,10,5,10],\"start\":1750,\"step\":5,\"title\":\"Year slider\",\"value\":1850},\"id\":\"1370\",\"type\":\"Slider\"},{\"attributes\":{\"editor\":{\"id\":\"1383\"},\"field\":\"country\",\"formatter\":{\"id\":\"1382\"},\"title\":\"country\",\"width\":0},\"id\":\"1384\",\"type\":\"TableColumn\"},{\"attributes\":{\"children\":[{\"id\":\"1369\"},{\"id\":\"1372\"}],\"margin\":[0,0,0,0],\"name\":\"Row06882\"},\"id\":\"1368\",\"type\":\"Row\"},{\"attributes\":{\"active\":0,\"button_type\":\"success\",\"labels\":[\"co2\",\"co2_per_capita\"],\"margin\":[5,10,5,10]},\"id\":\"1371\",\"type\":\"RadioButtonGroup\"},{\"attributes\":{},\"id\":\"1393\",\"type\":\"NumberEditor\"},{\"attributes\":{\"children\":[{\"id\":\"1397\"}],\"margin\":[0,0,0,0],\"name\":\"Row06805\"},\"id\":\"1373\",\"type\":\"Row\"},{\"attributes\":{\"indices\":[]},\"id\":\"1375\",\"type\":\"Selection\"},{\"attributes\":{\"children\":[{\"id\":\"1368\"},{\"id\":\"1373\"}],\"margin\":[0,0,0,0],\"name\":\"Column06883\"},\"id\":\"1367\",\"type\":\"Column\"},{\"attributes\":{},\"id\":\"1387\",\"type\":\"NumberFormatter\"},{\"attributes\":{\"data\":{\"co2\":{\"__ndarray__\":\"uB6F61G4jj8pXI/C9SBmQCcxCKwc2jNA6SYxCKycaEA=\",\"dtype\":\"float64\",\"order\":\"little\",\"shape\":[4]},\"country\":[\"Asia\",\"Europe\",\"North America\",\"World\"],\"index\":[0,1,2,3],\"year\":[1850,1850,1850,1850]},\"selected\":{\"id\":\"1375\"},\"selection_policy\":{\"id\":\"1399\"}},\"id\":\"1374\",\"type\":\"ColumnDataSource\"},{\"attributes\":{\"children\":[{\"id\":\"1367\"}],\"margin\":[0,0,0,0],\"name\":\"Row06884\"},\"id\":\"1366\",\"type\":\"Row\"},{\"attributes\":{},\"id\":\"1388\",\"type\":\"IntEditor\"},{\"attributes\":{},\"id\":\"1378\",\"type\":\"CellEditor\"},{\"attributes\":{\"editor\":{\"id\":\"1388\"},\"field\":\"year\",\"formatter\":{\"id\":\"1387\"},\"title\":\"year\",\"width\":0},\"id\":\"1389\",\"type\":\"TableColumn\"},{\"attributes\":{\"columns\":[{\"id\":\"1379\"},{\"id\":\"1384\"},{\"id\":\"1389\"},{\"id\":\"1394\"}],\"configuration\":{\"columns\":[{\"field\":\"index\"},{\"field\":\"country\"},{\"field\":\"year\"},{\"field\":\"co2\"}],\"dataTree\":false,\"selectable\":true},\"height\":330,\"indexes\":[\"index\"],\"layout\":\"fit_data_table\",\"margin\":[5,10,5,10],\"max_page\":1,\"name\":\"\",\"page\":1,\"page_size\":10,\"pagination\":\"remote\",\"selectable_rows\":null,\"sizing_mode\":\"stretch_width\",\"source\":{\"id\":\"1374\"}},\"id\":\"1397\",\"type\":\"panel.models.tabulator.DataTabulator\"},{\"attributes\":{\"client_comm_id\":\"66a862f800ea45d585ca090637a08028\",\"comm_id\":\"4da7fc2cd92d49368f7246ab313c562b\",\"plot_id\":\"1366\"},\"id\":\"1405\",\"type\":\"panel.models.comm_manager.CommManager\"},{\"attributes\":{},\"id\":\"1399\",\"type\":\"UnionRenderers\"},{\"attributes\":{\"editor\":{\"id\":\"1378\"},\"field\":\"index\",\"formatter\":{\"id\":\"1376\"},\"title\":\"index\",\"width\":0},\"id\":\"1379\",\"type\":\"TableColumn\"},{\"attributes\":{},\"id\":\"1376\",\"type\":\"NumberFormatter\"},{\"attributes\":{\"editor\":{\"id\":\"1393\"},\"field\":\"co2\",\"formatter\":{\"id\":\"1392\"},\"title\":\"co2\",\"width\":0},\"id\":\"1394\",\"type\":\"TableColumn\"},{\"attributes\":{\"children\":[{\"id\":\"1370\"},{\"id\":\"1371\"}],\"margin\":[0,0,0,0],\"name\":\"Column06800\"},\"id\":\"1369\",\"type\":\"Column\"}],\"root_ids\":[\"1366\",\"1405\"]},\"title\":\"Bokeh Application\",\"version\":\"2.4.2\"}};\n",
       "    var render_items = [{\"docid\":\"98200089-739e-450a-8046-68b09cd25bda\",\"root_ids\":[\"1366\"],\"roots\":{\"1366\":\"8a407ed4-486c-49f5-8365-592825f43b95\"}}];\n",
       "    root.Bokeh.embed.embed_items_notebook(docs_json, render_items);\n",
       "  }\n",
       "  if (root.Bokeh !== undefined && root.Bokeh.Panel !== undefined) {\n",
       "    embed_document(root);\n",
       "  } else {\n",
       "    var attempts = 0;\n",
       "    var timer = setInterval(function(root) {\n",
       "      if (root.Bokeh !== undefined && root.Bokeh.Panel !== undefined) {\n",
       "        clearInterval(timer);\n",
       "        embed_document(root);\n",
       "      } else if (document.readyState == \"complete\") {\n",
       "        attempts++;\n",
       "        if (attempts > 200) {\n",
       "          clearInterval(timer);\n",
       "          console.log(\"Bokeh: ERROR: Unable to run BokehJS code because BokehJS library is missing\");\n",
       "        }\n",
       "      }\n",
       "    }, 25, root)\n",
       "  }\n",
       "})(window);</script>"
      ],
      "text/plain": [
       "<hvplot.interactive.Interactive at 0x20c79fd0cd0>"
      ]
     },
     "execution_count": 22,
     "metadata": {
      "application/vnd.holoviews_exec.v0+json": {
       "id": "1366"
      }
     },
     "output_type": "execute_result"
    }
   ],
   "source": [
    "co2_table = co2_pipeline.pipe(pn.widgets.Tabulator, \n",
    "                              pagination='remote',\n",
    "                              page_size=10, \n",
    "                              sizing_mode='stretch_width')\n",
    "co2_table"
   ]
  },
  {
   "cell_type": "markdown",
   "id": "31ef8118",
   "metadata": {},
   "source": [
    "### CO2 vs GDP scatterplot\n"
   ]
  },
  {
   "cell_type": "code",
   "execution_count": 23,
   "id": "76c55e89",
   "metadata": {},
   "outputs": [],
   "source": [
    "co2_vs_gdp_scatterplot_pipeline = (\n",
    "    idf[\n",
    "        (idf.year == year_slider) &\n",
    "        (~ (idf.country.isin(continents)))\n",
    "    ]\n",
    "    .groupby(['country', 'year', 'gdp_per_capita'])['co2'].mean()\n",
    "    .to_frame()\n",
    "    .reset_index()\n",
    "    .sort_values(by='year')  \n",
    "    .reset_index(drop=True)\n",
    ")"
   ]
  },
  {
   "cell_type": "code",
   "execution_count": 24,
   "id": "8fa5eaa7",
   "metadata": {},
   "outputs": [
    {
     "data": {},
     "metadata": {},
     "output_type": "display_data"
    },
    {
     "data": {
      "application/vnd.holoviews_exec.v0+json": "",
      "text/html": [
       "<div id='1416'>\n",
       "\n",
       "\n",
       "\n",
       "\n",
       "\n",
       "  <div class=\"bk-root\" id=\"7bf42f2e-48ca-4434-8422-750296db4902\" data-root-id=\"1416\"></div>\n",
       "</div>\n",
       "<script type=\"application/javascript\">(function(root) {\n",
       "  function embed_document(root) {\n",
       "    var docs_json = {\"f851c8ae-db50-4033-8e67-55dd4dd007e4\":{\"defs\":[{\"extends\":null,\"module\":null,\"name\":\"ReactiveHTML1\",\"overrides\":[],\"properties\":[]},{\"extends\":null,\"module\":null,\"name\":\"FlexBox1\",\"overrides\":[],\"properties\":[{\"default\":\"flex-start\",\"kind\":null,\"name\":\"align_content\"},{\"default\":\"flex-start\",\"kind\":null,\"name\":\"align_items\"},{\"default\":\"row\",\"kind\":null,\"name\":\"flex_direction\"},{\"default\":\"wrap\",\"kind\":null,\"name\":\"flex_wrap\"},{\"default\":\"flex-start\",\"kind\":null,\"name\":\"justify_content\"}]},{\"extends\":null,\"module\":null,\"name\":\"TemplateActions1\",\"overrides\":[],\"properties\":[{\"default\":0,\"kind\":null,\"name\":\"open_modal\"},{\"default\":0,\"kind\":null,\"name\":\"close_modal\"}]},{\"extends\":null,\"module\":null,\"name\":\"MaterialTemplateActions1\",\"overrides\":[],\"properties\":[{\"default\":0,\"kind\":null,\"name\":\"open_modal\"},{\"default\":0,\"kind\":null,\"name\":\"close_modal\"}]}],\"roots\":{\"references\":[{\"attributes\":{\"children\":[{\"id\":\"1423\"}],\"margin\":[0,0,0,0],\"name\":\"Row07827\"},\"id\":\"1422\",\"type\":\"Row\"},{\"attributes\":{\"margin\":[5,5,5,5],\"name\":\"DataFrame07902\",\"text\":\"&lt;table border=&quot;0&quot; class=&quot;dataframe panel-df&quot;&gt;\\n  &lt;thead&gt;\\n    &lt;tr style=&quot;text-align: right;&quot;&gt;\\n      &lt;th&gt;&lt;/th&gt;\\n      &lt;th&gt;country&lt;/th&gt;\\n      &lt;th&gt;year&lt;/th&gt;\\n      &lt;th&gt;gdp_per_capita&lt;/th&gt;\\n      &lt;th&gt;co2&lt;/th&gt;\\n    &lt;/tr&gt;\\n  &lt;/thead&gt;\\n  &lt;tbody&gt;\\n    &lt;tr&gt;\\n      &lt;th&gt;0&lt;/th&gt;\\n      &lt;td&gt;Armenia&lt;/td&gt;\\n      &lt;td&gt;1850&lt;/td&gt;\\n      &lt;td&gt;0.000000&lt;/td&gt;\\n      &lt;td&gt;0.000&lt;/td&gt;\\n    &lt;/tr&gt;\\n    &lt;tr&gt;\\n      &lt;th&gt;1&lt;/th&gt;\\n      &lt;td&gt;Latvia&lt;/td&gt;\\n      &lt;td&gt;1850&lt;/td&gt;\\n      &lt;td&gt;0.000000&lt;/td&gt;\\n      &lt;td&gt;0.001&lt;/td&gt;\\n    &lt;/tr&gt;\\n    &lt;tr&gt;\\n      &lt;th&gt;2&lt;/th&gt;\\n      &lt;td&gt;Lithuania&lt;/td&gt;\\n      &lt;td&gt;1850&lt;/td&gt;\\n      &lt;td&gt;0.000000&lt;/td&gt;\\n      &lt;td&gt;0.001&lt;/td&gt;\\n    &lt;/tr&gt;\\n    &lt;tr&gt;\\n      &lt;th&gt;3&lt;/th&gt;\\n      &lt;td&gt;Moldova&lt;/td&gt;\\n      &lt;td&gt;1850&lt;/td&gt;\\n      &lt;td&gt;0.000000&lt;/td&gt;\\n      &lt;td&gt;0.001&lt;/td&gt;\\n    &lt;/tr&gt;\\n    &lt;tr&gt;\\n      &lt;th&gt;4&lt;/th&gt;\\n      &lt;td&gt;Netherlands&lt;/td&gt;\\n      &lt;td&gt;1850&lt;/td&gt;\\n      &lt;td&gt;3779.333040&lt;/td&gt;\\n      &lt;td&gt;3.136&lt;/td&gt;\\n    &lt;/tr&gt;\\n    &lt;tr&gt;\\n      &lt;th&gt;5&lt;/th&gt;\\n      &lt;td&gt;North America (excl. USA)&lt;/td&gt;\\n      &lt;td&gt;1850&lt;/td&gt;\\n      &lt;td&gt;0.000000&lt;/td&gt;\\n      &lt;td&gt;0.059&lt;/td&gt;\\n    &lt;/tr&gt;\\n    &lt;tr&gt;\\n      &lt;th&gt;6&lt;/th&gt;\\n      &lt;td&gt;Norway&lt;/td&gt;\\n      &lt;td&gt;1850&lt;/td&gt;\\n      &lt;td&gt;1620.608671&lt;/td&gt;\\n      &lt;td&gt;0.139&lt;/td&gt;\\n    &lt;/tr&gt;\\n    &lt;tr&gt;\\n      &lt;th&gt;7&lt;/th&gt;\\n      &lt;td&gt;Kyrgyzstan&lt;/td&gt;\\n      &lt;td&gt;1850&lt;/td&gt;\\n      &lt;td&gt;0.000000&lt;/td&gt;\\n      &lt;td&gt;0.001&lt;/td&gt;\\n    &lt;/tr&gt;\\n    &lt;tr&gt;\\n      &lt;th&gt;8&lt;/th&gt;\\n      &lt;td&gt;Poland&lt;/td&gt;\\n      &lt;td&gt;1850&lt;/td&gt;\\n      &lt;td&gt;981.556624&lt;/td&gt;\\n      &lt;td&gt;3.202&lt;/td&gt;\\n    &lt;/tr&gt;\\n    &lt;tr&gt;\\n      &lt;th&gt;9&lt;/th&gt;\\n      &lt;td&gt;Spain&lt;/td&gt;\\n      &lt;td&gt;1850&lt;/td&gt;\\n      &lt;td&gt;1707.725842&lt;/td&gt;\\n      &lt;td&gt;0.495&lt;/td&gt;\\n    &lt;/tr&gt;\\n    &lt;tr&gt;\\n      &lt;th&gt;10&lt;/th&gt;\\n      &lt;td&gt;Sweden&lt;/td&gt;\\n      &lt;td&gt;1850&lt;/td&gt;\\n      &lt;td&gt;1715.194706&lt;/td&gt;\\n      &lt;td&gt;0.202&lt;/td&gt;\\n    &lt;/tr&gt;\\n    &lt;tr&gt;\\n      &lt;th&gt;11&lt;/th&gt;\\n      &lt;td&gt;Tajikistan&lt;/td&gt;\\n      &lt;td&gt;1850&lt;/td&gt;\\n      &lt;td&gt;0.000000&lt;/td&gt;\\n      &lt;td&gt;0.000&lt;/td&gt;\\n    &lt;/tr&gt;\\n    &lt;tr&gt;\\n      &lt;th&gt;12&lt;/th&gt;\\n      &lt;td&gt;Turkmenistan&lt;/td&gt;\\n      &lt;td&gt;1850&lt;/td&gt;\\n      &lt;td&gt;0.000000&lt;/td&gt;\\n      &lt;td&gt;0.001&lt;/td&gt;\\n    &lt;/tr&gt;\\n    &lt;tr&gt;\\n      &lt;th&gt;13&lt;/th&gt;\\n      &lt;td&gt;Ukraine&lt;/td&gt;\\n      &lt;td&gt;1850&lt;/td&gt;\\n      &lt;td&gt;0.000000&lt;/td&gt;\\n      &lt;td&gt;0.022&lt;/td&gt;\\n    &lt;/tr&gt;\\n    &lt;tr&gt;\\n      &lt;th&gt;14&lt;/th&gt;\\n      &lt;td&gt;United Kingdom&lt;/td&gt;\\n      &lt;td&gt;1850&lt;/td&gt;\\n      &lt;td&gt;4320.317135&lt;/td&gt;\\n      &lt;td&gt;122.605&lt;/td&gt;\\n    &lt;/tr&gt;\\n    &lt;tr&gt;\\n      &lt;th&gt;15&lt;/th&gt;\\n      &lt;td&gt;Russia&lt;/td&gt;\\n      &lt;td&gt;1850&lt;/td&gt;\\n      &lt;td&gt;0.000000&lt;/td&gt;\\n      &lt;td&gt;0.069&lt;/td&gt;\\n    &lt;/tr&gt;\\n    &lt;tr&gt;\\n      &lt;th&gt;16&lt;/th&gt;\\n      &lt;td&gt;Kazakhstan&lt;/td&gt;\\n      &lt;td&gt;1850&lt;/td&gt;\\n      &lt;td&gt;0.000000&lt;/td&gt;\\n      &lt;td&gt;0.008&lt;/td&gt;\\n    &lt;/tr&gt;\\n    &lt;tr&gt;\\n      &lt;th&gt;17&lt;/th&gt;\\n      &lt;td&gt;Ireland&lt;/td&gt;\\n      &lt;td&gt;1850&lt;/td&gt;\\n      &lt;td&gt;0.000000&lt;/td&gt;\\n      &lt;td&gt;0.396&lt;/td&gt;\\n    &lt;/tr&gt;\\n    &lt;tr&gt;\\n      &lt;th&gt;18&lt;/th&gt;\\n      &lt;td&gt;Hungary&lt;/td&gt;\\n      &lt;td&gt;1850&lt;/td&gt;\\n      &lt;td&gt;0.000000&lt;/td&gt;\\n      &lt;td&gt;0.000&lt;/td&gt;\\n    &lt;/tr&gt;\\n    &lt;tr&gt;\\n      &lt;th&gt;19&lt;/th&gt;\\n      &lt;td&gt;Asia (excl. China &amp;amp; India)&lt;/td&gt;\\n      &lt;td&gt;1850&lt;/td&gt;\\n      &lt;td&gt;0.000000&lt;/td&gt;\\n      &lt;td&gt;0.015&lt;/td&gt;\\n    &lt;/tr&gt;\\n    &lt;tr&gt;\\n      &lt;th&gt;20&lt;/th&gt;\\n      &lt;td&gt;Austria&lt;/td&gt;\\n      &lt;td&gt;1850&lt;/td&gt;\\n      &lt;td&gt;2628.530685&lt;/td&gt;\\n      &lt;td&gt;2.327&lt;/td&gt;\\n    &lt;/tr&gt;\\n    &lt;tr&gt;\\n      &lt;th&gt;21&lt;/th&gt;\\n      &lt;td&gt;Azerbaijan&lt;/td&gt;\\n      &lt;td&gt;1850&lt;/td&gt;\\n      &lt;td&gt;0.000000&lt;/td&gt;\\n      &lt;td&gt;0.002&lt;/td&gt;\\n    &lt;/tr&gt;\\n    &lt;tr&gt;\\n      &lt;th&gt;22&lt;/th&gt;\\n      &lt;td&gt;Belarus&lt;/td&gt;\\n      &lt;td&gt;1850&lt;/td&gt;\\n      &lt;td&gt;0.000000&lt;/td&gt;\\n      &lt;td&gt;0.003&lt;/td&gt;\\n    &lt;/tr&gt;\\n    &lt;tr&gt;\\n      &lt;th&gt;23&lt;/th&gt;\\n      &lt;td&gt;Belgium&lt;/td&gt;\\n      &lt;td&gt;1850&lt;/td&gt;\\n      &lt;td&gt;2947.938536&lt;/td&gt;\\n      &lt;td&gt;9.332&lt;/td&gt;\\n    &lt;/tr&gt;\\n    &lt;tr&gt;\\n      &lt;th&gt;24&lt;/th&gt;\\n      &lt;td&gt;Canada&lt;/td&gt;\\n      &lt;td&gt;1850&lt;/td&gt;\\n      &lt;td&gt;2127.321066&lt;/td&gt;\\n      &lt;td&gt;0.059&lt;/td&gt;\\n    &lt;/tr&gt;\\n    &lt;tr&gt;\\n      &lt;th&gt;25&lt;/th&gt;\\n      &lt;td&gt;Denmark&lt;/td&gt;\\n      &lt;td&gt;1850&lt;/td&gt;\\n      &lt;td&gt;2812.603782&lt;/td&gt;\\n      &lt;td&gt;0.341&lt;/td&gt;\\n    &lt;/tr&gt;\\n    &lt;tr&gt;\\n      &lt;th&gt;26&lt;/th&gt;\\n      &lt;td&gt;EU-27&lt;/td&gt;\\n      &lt;td&gt;1850&lt;/td&gt;\\n      &lt;td&gt;0.000000&lt;/td&gt;\\n      &lt;td&gt;54.190&lt;/td&gt;\\n    &lt;/tr&gt;\\n    &lt;tr&gt;\\n      &lt;th&gt;27&lt;/th&gt;\\n      &lt;td&gt;EU-28&lt;/td&gt;\\n      &lt;td&gt;1850&lt;/td&gt;\\n      &lt;td&gt;0.000000&lt;/td&gt;\\n      &lt;td&gt;176.795&lt;/td&gt;\\n    &lt;/tr&gt;\\n    &lt;tr&gt;\\n      &lt;th&gt;28&lt;/th&gt;\\n      &lt;td&gt;Estonia&lt;/td&gt;\\n      &lt;td&gt;1850&lt;/td&gt;\\n      &lt;td&gt;0.000000&lt;/td&gt;\\n      &lt;td&gt;0.001&lt;/td&gt;\\n    &lt;/tr&gt;\\n    &lt;tr&gt;\\n      &lt;th&gt;29&lt;/th&gt;\\n      &lt;td&gt;Europe (excl. EU-27)&lt;/td&gt;\\n      &lt;td&gt;1850&lt;/td&gt;\\n      &lt;td&gt;0.000000&lt;/td&gt;\\n      &lt;td&gt;122.840&lt;/td&gt;\\n    &lt;/tr&gt;\\n    &lt;tr&gt;\\n      &lt;th&gt;30&lt;/th&gt;\\n      &lt;td&gt;Europe (excl. EU-28)&lt;/td&gt;\\n      &lt;td&gt;1850&lt;/td&gt;\\n      &lt;td&gt;0.000000&lt;/td&gt;\\n      &lt;td&gt;0.236&lt;/td&gt;\\n    &lt;/tr&gt;\\n    &lt;tr&gt;\\n      &lt;th&gt;31&lt;/th&gt;\\n      &lt;td&gt;France&lt;/td&gt;\\n      &lt;td&gt;1850&lt;/td&gt;\\n      &lt;td&gt;2548.249821&lt;/td&gt;\\n      &lt;td&gt;19.617&lt;/td&gt;\\n    &lt;/tr&gt;\\n    &lt;tr&gt;\\n      &lt;th&gt;32&lt;/th&gt;\\n      &lt;td&gt;Georgia&lt;/td&gt;\\n      &lt;td&gt;1850&lt;/td&gt;\\n      &lt;td&gt;0.000000&lt;/td&gt;\\n      &lt;td&gt;0.000&lt;/td&gt;\\n    &lt;/tr&gt;\\n    &lt;tr&gt;\\n      &lt;th&gt;33&lt;/th&gt;\\n      &lt;td&gt;Germany&lt;/td&gt;\\n      &lt;td&gt;1850&lt;/td&gt;\\n      &lt;td&gt;2277.899082&lt;/td&gt;\\n      &lt;td&gt;15.140&lt;/td&gt;\\n    &lt;/tr&gt;\\n    &lt;tr&gt;\\n      &lt;th&gt;34&lt;/th&gt;\\n      &lt;td&gt;United States&lt;/td&gt;\\n      &lt;td&gt;1850&lt;/td&gt;\\n      &lt;td&gt;3628.818146&lt;/td&gt;\\n      &lt;td&gt;19.793&lt;/td&gt;\\n    &lt;/tr&gt;\\n    &lt;tr&gt;\\n      &lt;th&gt;35&lt;/th&gt;\\n      &lt;td&gt;Uzbekistan&lt;/td&gt;\\n      &lt;td&gt;1850&lt;/td&gt;\\n      &lt;td&gt;0.000000&lt;/td&gt;\\n      &lt;td&gt;0.003&lt;/td&gt;\\n    &lt;/tr&gt;\\n  &lt;/tbody&gt;\\n&lt;/table&gt;\"},\"id\":\"1423\",\"type\":\"panel.models.markup.HTML\"},{\"attributes\":{\"end\":2020,\"margin\":[5,10,5,10],\"start\":1750,\"step\":5,\"title\":\"Year slider\",\"value\":1850},\"id\":\"1420\",\"type\":\"Slider\"},{\"attributes\":{\"children\":[{\"id\":\"1418\"},{\"id\":\"1422\"}],\"margin\":[0,0,0,0],\"name\":\"Column07906\"},\"id\":\"1417\",\"type\":\"Column\"},{\"attributes\":{\"margin\":[5,5,5,5],\"name\":\"HSpacer07904\",\"sizing_mode\":\"stretch_width\"},\"id\":\"1421\",\"type\":\"Spacer\"},{\"attributes\":{\"children\":[{\"id\":\"1420\"}],\"margin\":[0,0,0,0],\"name\":\"Column07822\"},\"id\":\"1419\",\"type\":\"Column\"},{\"attributes\":{\"children\":[{\"id\":\"1417\"}],\"margin\":[0,0,0,0],\"name\":\"Row07907\"},\"id\":\"1416\",\"type\":\"Row\"},{\"attributes\":{\"children\":[{\"id\":\"1419\"},{\"id\":\"1421\"}],\"margin\":[0,0,0,0],\"name\":\"Row07905\"},\"id\":\"1418\",\"type\":\"Row\"},{\"attributes\":{\"client_comm_id\":\"8fee4b5bbc79464d8a72f1e0dab96fdf\",\"comm_id\":\"0febb6f5093b4d869bfdd2d3fa92bdce\",\"plot_id\":\"1416\"},\"id\":\"1424\",\"type\":\"panel.models.comm_manager.CommManager\"}],\"root_ids\":[\"1416\",\"1424\"]},\"title\":\"Bokeh Application\",\"version\":\"2.4.2\"}};\n",
       "    var render_items = [{\"docid\":\"f851c8ae-db50-4033-8e67-55dd4dd007e4\",\"root_ids\":[\"1416\"],\"roots\":{\"1416\":\"7bf42f2e-48ca-4434-8422-750296db4902\"}}];\n",
       "    root.Bokeh.embed.embed_items_notebook(docs_json, render_items);\n",
       "  }\n",
       "  if (root.Bokeh !== undefined && root.Bokeh.Panel !== undefined) {\n",
       "    embed_document(root);\n",
       "  } else {\n",
       "    var attempts = 0;\n",
       "    var timer = setInterval(function(root) {\n",
       "      if (root.Bokeh !== undefined && root.Bokeh.Panel !== undefined) {\n",
       "        clearInterval(timer);\n",
       "        embed_document(root);\n",
       "      } else if (document.readyState == \"complete\") {\n",
       "        attempts++;\n",
       "        if (attempts > 200) {\n",
       "          clearInterval(timer);\n",
       "          console.log(\"Bokeh: ERROR: Unable to run BokehJS code because BokehJS library is missing\");\n",
       "        }\n",
       "      }\n",
       "    }, 25, root)\n",
       "  }\n",
       "})(window);</script>"
      ],
      "text/plain": [
       "<hvplot.interactive.Interactive at 0x20c7b46aa30>"
      ]
     },
     "execution_count": 24,
     "metadata": {
      "application/vnd.holoviews_exec.v0+json": {
       "id": "1416"
      }
     },
     "output_type": "execute_result"
    }
   ],
   "source": [
    "co2_vs_gdp_scatterplot_pipeline"
   ]
  },
  {
   "cell_type": "code",
   "execution_count": 25,
   "id": "84914e70",
   "metadata": {},
   "outputs": [
    {
     "data": {},
     "metadata": {},
     "output_type": "display_data"
    },
    {
     "data": {},
     "metadata": {},
     "output_type": "display_data"
    },
    {
     "data": {
      "application/vnd.holoviews_exec.v0+json": "",
      "text/html": [
       "<div id='1425'>\n",
       "\n",
       "\n",
       "\n",
       "\n",
       "\n",
       "  <div class=\"bk-root\" id=\"d597db83-9440-45f2-a7fa-5515f0621ec6\" data-root-id=\"1425\"></div>\n",
       "</div>\n",
       "<script type=\"application/javascript\">(function(root) {\n",
       "  function embed_document(root) {\n",
       "    var docs_json = {\"05f5938d-3945-4f28-8528-78349b5df289\":{\"defs\":[{\"extends\":null,\"module\":null,\"name\":\"ReactiveHTML1\",\"overrides\":[],\"properties\":[]},{\"extends\":null,\"module\":null,\"name\":\"FlexBox1\",\"overrides\":[],\"properties\":[{\"default\":\"flex-start\",\"kind\":null,\"name\":\"align_content\"},{\"default\":\"flex-start\",\"kind\":null,\"name\":\"align_items\"},{\"default\":\"row\",\"kind\":null,\"name\":\"flex_direction\"},{\"default\":\"wrap\",\"kind\":null,\"name\":\"flex_wrap\"},{\"default\":\"flex-start\",\"kind\":null,\"name\":\"justify_content\"}]},{\"extends\":null,\"module\":null,\"name\":\"TemplateActions1\",\"overrides\":[],\"properties\":[{\"default\":0,\"kind\":null,\"name\":\"open_modal\"},{\"default\":0,\"kind\":null,\"name\":\"close_modal\"}]},{\"extends\":null,\"module\":null,\"name\":\"MaterialTemplateActions1\",\"overrides\":[],\"properties\":[{\"default\":0,\"kind\":null,\"name\":\"open_modal\"},{\"default\":0,\"kind\":null,\"name\":\"close_modal\"}]}],\"roots\":{\"references\":[{\"attributes\":{\"children\":[{\"id\":\"1426\"}],\"margin\":[0,0,0,0],\"name\":\"Row08268\"},\"id\":\"1425\",\"type\":\"Row\"},{\"attributes\":{\"axis_label\":\"gdp_per_capita\",\"coordinates\":null,\"formatter\":{\"id\":\"1467\"},\"group\":null,\"major_label_policy\":{\"id\":\"1468\"},\"ticker\":{\"id\":\"1446\"}},\"id\":\"1445\",\"type\":\"LinearAxis\"},{\"attributes\":{},\"id\":\"1443\",\"type\":\"LinearScale\"},{\"attributes\":{\"axis\":{\"id\":\"1445\"},\"coordinates\":null,\"grid_line_color\":null,\"group\":null,\"ticker\":null},\"id\":\"1448\",\"type\":\"Grid\"},{\"attributes\":{\"fill_alpha\":{\"value\":0.7},\"fill_color\":{\"value\":\"#fc4f30\"},\"hatch_alpha\":{\"value\":0.7},\"hatch_color\":{\"value\":\"#fc4f30\"},\"line_alpha\":{\"value\":0.7},\"line_color\":{\"value\":\"#fc4f30\"},\"size\":{\"value\":8.94427190999916},\"x\":{\"field\":\"gdp_per_capita\"},\"y\":{\"field\":\"value\"}},\"id\":\"1484\",\"type\":\"Scatter\"},{\"attributes\":{},\"id\":\"1450\",\"type\":\"BasicTicker\"},{\"attributes\":{},\"id\":\"1446\",\"type\":\"BasicTicker\"},{\"attributes\":{},\"id\":\"1467\",\"type\":\"BasicTickFormatter\"},{\"attributes\":{\"axis\":{\"id\":\"1449\"},\"coordinates\":null,\"dimension\":1,\"grid_line_color\":null,\"group\":null,\"ticker\":null},\"id\":\"1452\",\"type\":\"Grid\"},{\"attributes\":{\"axis_label\":\"\",\"coordinates\":null,\"formatter\":{\"id\":\"1470\"},\"group\":null,\"major_label_policy\":{\"id\":\"1471\"},\"ticker\":{\"id\":\"1450\"}},\"id\":\"1449\",\"type\":\"LinearAxis\"},{\"attributes\":{},\"id\":\"1482\",\"type\":\"Selection\"},{\"attributes\":{},\"id\":\"1499\",\"type\":\"UnionRenderers\"},{\"attributes\":{},\"id\":\"1468\",\"type\":\"AllLabels\"},{\"attributes\":{},\"id\":\"1455\",\"type\":\"WheelZoomTool\"},{\"attributes\":{},\"id\":\"1471\",\"type\":\"AllLabels\"},{\"attributes\":{},\"id\":\"1453\",\"type\":\"SaveTool\"},{\"attributes\":{\"client_comm_id\":\"e4174ade3b154437a79be832d10b34c7\",\"comm_id\":\"328cd23b4153438184937b52681b2720\",\"plot_id\":\"1425\"},\"id\":\"1634\",\"type\":\"panel.models.comm_manager.CommManager\"},{\"attributes\":{\"children\":[{\"id\":\"1427\"},{\"id\":\"1431\"}],\"margin\":[0,0,0,0],\"name\":\"Column08267\"},\"id\":\"1426\",\"type\":\"Column\"},{\"attributes\":{\"overlay\":{\"id\":\"1458\"}},\"id\":\"1456\",\"type\":\"BoxZoomTool\"},{\"attributes\":{},\"id\":\"1473\",\"type\":\"Selection\"},{\"attributes\":{\"coordinates\":null,\"data_source\":{\"id\":\"1481\"},\"glyph\":{\"id\":\"1484\"},\"group\":null,\"hover_glyph\":null,\"muted_glyph\":{\"id\":\"1486\"},\"nonselection_glyph\":{\"id\":\"1485\"},\"selection_glyph\":{\"id\":\"1489\"},\"view\":{\"id\":\"1488\"}},\"id\":\"1487\",\"type\":\"GlyphRenderer\"},{\"attributes\":{},\"id\":\"1457\",\"type\":\"ResetTool\"},{\"attributes\":{\"children\":[{\"id\":\"1428\"},{\"id\":\"1430\"}],\"margin\":[0,0,0,0],\"name\":\"Row08266\"},\"id\":\"1427\",\"type\":\"Row\"},{\"attributes\":{\"bottom_units\":\"screen\",\"coordinates\":null,\"fill_alpha\":0.5,\"fill_color\":\"lightgrey\",\"group\":null,\"left_units\":\"screen\",\"level\":\"overlay\",\"line_alpha\":1.0,\"line_color\":\"black\",\"line_dash\":[4,4],\"line_width\":2,\"right_units\":\"screen\",\"syncable\":false,\"top_units\":\"screen\"},\"id\":\"1458\",\"type\":\"BoxAnnotation\"},{\"attributes\":{\"children\":[{\"id\":\"1429\"}],\"margin\":[0,0,0,0],\"name\":\"Column08082\"},\"id\":\"1428\",\"type\":\"Column\"},{\"attributes\":{},\"id\":\"1470\",\"type\":\"BasicTickFormatter\"},{\"attributes\":{\"source\":{\"id\":\"1481\"}},\"id\":\"1488\",\"type\":\"CDSView\"},{\"attributes\":{\"end\":2020,\"margin\":[5,10,5,10],\"start\":1750,\"step\":5,\"title\":\"Year slider\",\"value\":1850},\"id\":\"1429\",\"type\":\"Slider\"},{\"attributes\":{\"fill_alpha\":{\"value\":0.2},\"fill_color\":{\"value\":\"#fc4f30\"},\"hatch_alpha\":{\"value\":0.2},\"hatch_color\":{\"value\":\"#fc4f30\"},\"line_alpha\":{\"value\":0.2},\"line_color\":{\"value\":\"#fc4f30\"},\"size\":{\"value\":8.94427190999916},\"x\":{\"field\":\"gdp_per_capita\"},\"y\":{\"field\":\"value\"}},\"id\":\"1486\",\"type\":\"Scatter\"},{\"attributes\":{\"margin\":[5,5,5,5],\"name\":\"HSpacer08265\",\"sizing_mode\":\"stretch_width\"},\"id\":\"1430\",\"type\":\"Spacer\"},{\"attributes\":{\"angle\":{\"value\":0.0},\"fill_alpha\":{\"value\":0.7},\"fill_color\":{\"value\":\"#fc4f30\"},\"hatch_alpha\":{\"value\":0.7},\"hatch_color\":{\"value\":\"#fc4f30\"},\"hatch_scale\":{\"value\":12.0},\"hatch_weight\":{\"value\":1.0},\"line_alpha\":{\"value\":0.7},\"line_cap\":{\"value\":\"butt\"},\"line_color\":{\"value\":\"#fc4f30\"},\"line_dash\":{\"value\":[]},\"line_dash_offset\":{\"value\":0},\"line_join\":{\"value\":\"bevel\"},\"line_width\":{\"value\":1},\"marker\":{\"value\":\"circle\"},\"size\":{\"value\":8.94427190999916},\"x\":{\"field\":\"gdp_per_capita\"},\"y\":{\"field\":\"value\"}},\"id\":\"1489\",\"type\":\"Scatter\"},{\"attributes\":{\"children\":[{\"id\":\"1436\"}],\"margin\":[0,0,0,0],\"name\":\"Row08087\"},\"id\":\"1431\",\"type\":\"Row\"},{\"attributes\":{\"fill_alpha\":{\"value\":0.7},\"fill_color\":{\"value\":\"#30a2da\"},\"hatch_alpha\":{\"value\":0.1},\"hatch_color\":{\"value\":\"#30a2da\"},\"line_alpha\":{\"value\":0.7},\"line_color\":{\"value\":\"#30a2da\"},\"size\":{\"value\":8.94427190999916},\"x\":{\"field\":\"gdp_per_capita\"},\"y\":{\"field\":\"value\"}},\"id\":\"1476\",\"type\":\"Scatter\"},{\"attributes\":{\"end\":4752.348848641594,\"reset_end\":4752.348848641594,\"reset_start\":-432.0317135128721,\"start\":-432.0317135128721,\"tags\":[[[\"gdp_per_capita\",\"gdp_per_capita\",null]]]},\"id\":\"1432\",\"type\":\"Range1d\"},{\"attributes\":{\"fill_alpha\":{\"value\":0.7},\"fill_color\":{\"value\":\"#30a2da\"},\"hatch_alpha\":{\"value\":0.7},\"hatch_color\":{\"value\":\"#30a2da\"},\"line_alpha\":{\"value\":0.7},\"line_color\":{\"value\":\"#30a2da\"},\"size\":{\"value\":8.94427190999916},\"x\":{\"field\":\"gdp_per_capita\"},\"y\":{\"field\":\"value\"}},\"id\":\"1475\",\"type\":\"Scatter\"},{\"attributes\":{\"callback\":null,\"renderers\":[{\"id\":\"1478\"},{\"id\":\"1487\"}],\"tags\":[\"hv_created\"],\"tooltips\":[[\"Variable\",\"@{Variable}\"],[\"gdp_per_capita\",\"@{gdp_per_capita}\"],[\"value\",\"@{value}\"]]},\"id\":\"1434\",\"type\":\"HoverTool\"},{\"attributes\":{\"coordinates\":null,\"group\":null,\"text_color\":\"black\",\"text_font_size\":\"12pt\"},\"id\":\"1437\",\"type\":\"Title\"},{\"attributes\":{\"data\":{\"Variable\":[\"year\",\"year\",\"year\",\"year\",\"year\",\"year\",\"year\",\"year\",\"year\",\"year\",\"year\",\"year\",\"year\",\"year\",\"year\",\"year\",\"year\",\"year\",\"year\",\"year\",\"year\",\"year\",\"year\",\"year\",\"year\",\"year\",\"year\",\"year\",\"year\",\"year\",\"year\",\"year\",\"year\",\"year\",\"year\",\"year\"],\"gdp_per_capita\":{\"__ndarray__\":\"AAAAAAAAAAAAAAAAAAAAAAAAAAAAAAAAAAAAAAAAAABMCDiEqoatQAAAAAAAAAAA4rJnR29SmUAAAAAAAAAAAKi5NfdzrI5Aht0ZQ+eumkDK0vVgx8yaQAAAAAAAAAAAAAAAAAAAAAAAAAAAAAAAAEWOxC9R4LBAAAAAAAAAAAAAAAAAAAAAAAAAAAAAAAAAAAAAAAAAAAAAAAAAAAAAAGP95LUPiaRAAAAAAAAAAAAAAAAAAAAAAJtYyofgB6dA1GDNYqSeoEDWwuwiNfmlQAAAAAAAAAAAAAAAAAAAAAAAAAAAAAAAAAAAAAAAAAAAAAAAAAAAAAA00H7of+ijQAAAAAAAAAAAH3lxVMzLoUAp6PrjolmsQAAAAAAAAAAA\",\"dtype\":\"float64\",\"order\":\"little\",\"shape\":[36]},\"value\":[1850,1850,1850,1850,1850,1850,1850,1850,1850,1850,1850,1850,1850,1850,1850,1850,1850,1850,1850,1850,1850,1850,1850,1850,1850,1850,1850,1850,1850,1850,1850,1850,1850,1850,1850,1850]},\"selected\":{\"id\":\"1473\"},\"selection_policy\":{\"id\":\"1497\"}},\"id\":\"1472\",\"type\":\"ColumnDataSource\"},{\"attributes\":{},\"id\":\"1441\",\"type\":\"LinearScale\"},{\"attributes\":{\"coordinates\":null,\"data_source\":{\"id\":\"1472\"},\"glyph\":{\"id\":\"1475\"},\"group\":null,\"hover_glyph\":null,\"muted_glyph\":{\"id\":\"1477\"},\"nonselection_glyph\":{\"id\":\"1476\"},\"selection_glyph\":{\"id\":\"1480\"},\"view\":{\"id\":\"1479\"}},\"id\":\"1478\",\"type\":\"GlyphRenderer\"},{\"attributes\":{\"fill_alpha\":{\"value\":0.7},\"fill_color\":{\"value\":\"#fc4f30\"},\"hatch_alpha\":{\"value\":0.1},\"hatch_color\":{\"value\":\"#fc4f30\"},\"line_alpha\":{\"value\":0.7},\"line_color\":{\"value\":\"#fc4f30\"},\"size\":{\"value\":8.94427190999916},\"x\":{\"field\":\"gdp_per_capita\"},\"y\":{\"field\":\"value\"}},\"id\":\"1485\",\"type\":\"Scatter\"},{\"attributes\":{\"angle\":{\"value\":0.0},\"fill_alpha\":{\"value\":0.7},\"fill_color\":{\"value\":\"#30a2da\"},\"hatch_alpha\":{\"value\":0.7},\"hatch_color\":{\"value\":\"#30a2da\"},\"hatch_scale\":{\"value\":12.0},\"hatch_weight\":{\"value\":1.0},\"line_alpha\":{\"value\":0.7},\"line_cap\":{\"value\":\"butt\"},\"line_color\":{\"value\":\"#30a2da\"},\"line_dash\":{\"value\":[]},\"line_dash_offset\":{\"value\":0},\"line_join\":{\"value\":\"bevel\"},\"line_width\":{\"value\":1},\"marker\":{\"value\":\"circle\"},\"size\":{\"value\":8.94427190999916},\"x\":{\"field\":\"gdp_per_capita\"},\"y\":{\"field\":\"value\"}},\"id\":\"1480\",\"type\":\"Scatter\"},{\"attributes\":{\"data\":{\"Variable\":[\"co2\",\"co2\",\"co2\",\"co2\",\"co2\",\"co2\",\"co2\",\"co2\",\"co2\",\"co2\",\"co2\",\"co2\",\"co2\",\"co2\",\"co2\",\"co2\",\"co2\",\"co2\",\"co2\",\"co2\",\"co2\",\"co2\",\"co2\",\"co2\",\"co2\",\"co2\",\"co2\",\"co2\",\"co2\",\"co2\",\"co2\",\"co2\",\"co2\",\"co2\",\"co2\",\"co2\"],\"gdp_per_capita\":{\"__ndarray__\":\"AAAAAAAAAAAAAAAAAAAAAAAAAAAAAAAAAAAAAAAAAABMCDiEqoatQAAAAAAAAAAA4rJnR29SmUAAAAAAAAAAAKi5NfdzrI5Aht0ZQ+eumkDK0vVgx8yaQAAAAAAAAAAAAAAAAAAAAAAAAAAAAAAAAEWOxC9R4LBAAAAAAAAAAAAAAAAAAAAAAAAAAAAAAAAAAAAAAAAAAAAAAAAAAAAAAGP95LUPiaRAAAAAAAAAAAAAAAAAAAAAAJtYyofgB6dA1GDNYqSeoEDWwuwiNfmlQAAAAAAAAAAAAAAAAAAAAAAAAAAAAAAAAAAAAAAAAAAAAAAAAAAAAAA00H7of+ijQAAAAAAAAAAAH3lxVMzLoUAp6PrjolmsQAAAAAAAAAAA\",\"dtype\":\"float64\",\"order\":\"little\",\"shape\":[36]},\"value\":{\"__ndarray__\":\"AAAAAAAAAAD8qfHSTWJQP/yp8dJNYlA//Knx0k1iUD9KDAIrhxYJQGiR7Xw/Na4/mG4Sg8DKwT/8qfHSTWJQPwRWDi2ynQlArkfhehSu3z9CYOXQItvJPwAAAAAAAAAA/Knx0k1iUD+6SQwCK4eWPx+F61G4pl5ARIts5/upsT/8qfHSTWKAP/LSTWIQWNk/AAAAAAAAAAC4HoXrUbiOPwRWDi2ynQJA/Knx0k1iYD/6fmq8dJNoP0SLbOf7qSJAaJHtfD81rj9t5/up8dLVP7gehetRGEtAPQrXo3AZZkD8qfHSTWJQP/YoXI/CtV5AaJHtfD81zj/LoUW2850zQAAAAAAAAAAASOF6FK5HLkBeukkMAsszQPp+arx0k2g/\",\"dtype\":\"float64\",\"order\":\"little\",\"shape\":[36]}},\"selected\":{\"id\":\"1482\"},\"selection_policy\":{\"id\":\"1499\"}},\"id\":\"1481\",\"type\":\"ColumnDataSource\"},{\"attributes\":{\"below\":[{\"id\":\"1445\"}],\"center\":[{\"id\":\"1448\"},{\"id\":\"1452\"}],\"height\":500,\"left\":[{\"id\":\"1449\"}],\"margin\":[5,5,5,5],\"min_border_bottom\":10,\"min_border_left\":10,\"min_border_right\":10,\"min_border_top\":10,\"renderers\":[{\"id\":\"1478\"},{\"id\":\"1487\"}],\"sizing_mode\":\"fixed\",\"title\":{\"id\":\"1437\"},\"toolbar\":{\"id\":\"1459\"},\"width\":500,\"x_range\":{\"id\":\"1432\"},\"x_scale\":{\"id\":\"1441\"},\"y_range\":{\"id\":\"1433\"},\"y_scale\":{\"id\":\"1443\"}},\"id\":\"1436\",\"subtype\":\"Figure\",\"type\":\"Plot\"},{\"attributes\":{\"fill_alpha\":{\"value\":0.2},\"fill_color\":{\"value\":\"#30a2da\"},\"hatch_alpha\":{\"value\":0.2},\"hatch_color\":{\"value\":\"#30a2da\"},\"line_alpha\":{\"value\":0.2},\"line_color\":{\"value\":\"#30a2da\"},\"size\":{\"value\":8.94427190999916},\"x\":{\"field\":\"gdp_per_capita\"},\"y\":{\"field\":\"value\"}},\"id\":\"1477\",\"type\":\"Scatter\"},{\"attributes\":{},\"id\":\"1454\",\"type\":\"PanTool\"},{\"attributes\":{\"tools\":[{\"id\":\"1434\"},{\"id\":\"1453\"},{\"id\":\"1454\"},{\"id\":\"1455\"},{\"id\":\"1456\"},{\"id\":\"1457\"}]},\"id\":\"1459\",\"type\":\"Toolbar\"},{\"attributes\":{\"source\":{\"id\":\"1472\"}},\"id\":\"1479\",\"type\":\"CDSView\"},{\"attributes\":{},\"id\":\"1497\",\"type\":\"UnionRenderers\"},{\"attributes\":{\"end\":2035.0,\"reset_end\":2035.0,\"reset_start\":-185.0,\"start\":-185.0,\"tags\":[[[\"value\",\"value\",null]]]},\"id\":\"1433\",\"type\":\"Range1d\"}],\"root_ids\":[\"1425\",\"1634\"]},\"title\":\"Bokeh Application\",\"version\":\"2.4.2\"}};\n",
       "    var render_items = [{\"docid\":\"05f5938d-3945-4f28-8528-78349b5df289\",\"root_ids\":[\"1425\"],\"roots\":{\"1425\":\"d597db83-9440-45f2-a7fa-5515f0621ec6\"}}];\n",
       "    root.Bokeh.embed.embed_items_notebook(docs_json, render_items);\n",
       "  }\n",
       "  if (root.Bokeh !== undefined && root.Bokeh.Panel !== undefined) {\n",
       "    embed_document(root);\n",
       "  } else {\n",
       "    var attempts = 0;\n",
       "    var timer = setInterval(function(root) {\n",
       "      if (root.Bokeh !== undefined && root.Bokeh.Panel !== undefined) {\n",
       "        clearInterval(timer);\n",
       "        embed_document(root);\n",
       "      } else if (document.readyState == \"complete\") {\n",
       "        attempts++;\n",
       "        if (attempts > 200) {\n",
       "          clearInterval(timer);\n",
       "          console.log(\"Bokeh: ERROR: Unable to run BokehJS code because BokehJS library is missing\");\n",
       "        }\n",
       "      }\n",
       "    }, 25, root)\n",
       "  }\n",
       "})(window);</script>"
      ],
      "text/plain": [
       "<hvplot.interactive.Interactive at 0x20c7cdb8880>"
      ]
     },
     "execution_count": 25,
     "metadata": {
      "application/vnd.holoviews_exec.v0+json": {
       "id": "1425"
      }
     },
     "output_type": "execute_result"
    }
   ],
   "source": [
    "co2_vs_gdp_scatterplot = co2_vs_gdp_scatterplot_pipeline.hvplot(\n",
    "        x = 'gdp_per_capita',\n",
    "        by='country',\n",
    "        size=80,\n",
    "        kind='scatter',\n",
    "        alpha=0.7,\n",
    "        legend=False,\n",
    "        height=500,\n",
    "        width=500\n",
    ")\n",
    "\n",
    "co2_vs_gdp_scatterplot"
   ]
  },
  {
   "cell_type": "markdown",
   "id": "fd2ea961",
   "metadata": {},
   "source": [
    "### Bar chart with CO2 sources by continent"
   ]
  },
  {
   "cell_type": "code",
   "execution_count": 26,
   "id": "320aee32",
   "metadata": {},
   "outputs": [
    {
     "data": {},
     "metadata": {},
     "output_type": "display_data"
    },
    {
     "data": {
      "application/vnd.holoviews_exec.v0+json": "",
      "text/html": [
       "<div id='1695'>\n",
       "\n",
       "\n",
       "\n",
       "\n",
       "\n",
       "  <div class=\"bk-root\" id=\"1cb98347-0a97-4f37-9e99-0fd32cee9024\" data-root-id=\"1695\"></div>\n",
       "</div>\n",
       "<script type=\"application/javascript\">(function(root) {\n",
       "  function embed_document(root) {\n",
       "    var docs_json = {\"ca5a4940-1d62-4ed4-90ad-342dc0c01172\":{\"defs\":[{\"extends\":null,\"module\":null,\"name\":\"ReactiveHTML1\",\"overrides\":[],\"properties\":[]},{\"extends\":null,\"module\":null,\"name\":\"FlexBox1\",\"overrides\":[],\"properties\":[{\"default\":\"flex-start\",\"kind\":null,\"name\":\"align_content\"},{\"default\":\"flex-start\",\"kind\":null,\"name\":\"align_items\"},{\"default\":\"row\",\"kind\":null,\"name\":\"flex_direction\"},{\"default\":\"wrap\",\"kind\":null,\"name\":\"flex_wrap\"},{\"default\":\"flex-start\",\"kind\":null,\"name\":\"justify_content\"}]},{\"extends\":null,\"module\":null,\"name\":\"TemplateActions1\",\"overrides\":[],\"properties\":[{\"default\":0,\"kind\":null,\"name\":\"open_modal\"},{\"default\":0,\"kind\":null,\"name\":\"close_modal\"}]},{\"extends\":null,\"module\":null,\"name\":\"MaterialTemplateActions1\",\"overrides\":[],\"properties\":[{\"default\":0,\"kind\":null,\"name\":\"open_modal\"},{\"default\":0,\"kind\":null,\"name\":\"close_modal\"}]}],\"roots\":{\"references\":[{\"attributes\":{\"children\":[{\"id\":\"1698\"},{\"id\":\"1701\"}],\"margin\":[0,0,0,0],\"name\":\"Row09558\"},\"id\":\"1697\",\"type\":\"Row\"},{\"attributes\":{\"client_comm_id\":\"86bd56f349004479a19d591a8c3effa8\",\"comm_id\":\"be262216555a4cb7b2c46d71dfd02278\",\"plot_id\":\"1695\"},\"id\":\"1704\",\"type\":\"panel.models.comm_manager.CommManager\"},{\"attributes\":{\"children\":[{\"id\":\"1697\"},{\"id\":\"1702\"}],\"margin\":[0,0,0,0],\"name\":\"Column09559\"},\"id\":\"1696\",\"type\":\"Column\"},{\"attributes\":{\"children\":[{\"id\":\"1699\"},{\"id\":\"1700\"}],\"margin\":[0,0,0,0],\"name\":\"Column09475\"},\"id\":\"1698\",\"type\":\"Column\"},{\"attributes\":{\"children\":[{\"id\":\"1703\"}],\"margin\":[0,0,0,0],\"name\":\"Row09480\"},\"id\":\"1702\",\"type\":\"Row\"},{\"attributes\":{\"margin\":[5,5,5,5],\"name\":\"DataFrame09555\",\"text\":\"&lt;table border=&quot;0&quot; class=&quot;dataframe panel-df&quot;&gt;\\n  &lt;thead&gt;\\n    &lt;tr style=&quot;text-align: right;&quot;&gt;\\n      &lt;th&gt;&lt;/th&gt;\\n      &lt;th&gt;year&lt;/th&gt;\\n      &lt;th&gt;country&lt;/th&gt;\\n      &lt;th&gt;coal_co2&lt;/th&gt;\\n    &lt;/tr&gt;\\n  &lt;/thead&gt;\\n  &lt;tbody&gt;\\n    &lt;tr&gt;\\n      &lt;th&gt;0&lt;/th&gt;\\n      &lt;td&gt;1850&lt;/td&gt;\\n      &lt;td&gt;Asia&lt;/td&gt;\\n      &lt;td&gt;0.015&lt;/td&gt;\\n    &lt;/tr&gt;\\n    &lt;tr&gt;\\n      &lt;th&gt;1&lt;/th&gt;\\n      &lt;td&gt;1850&lt;/td&gt;\\n      &lt;td&gt;Europe&lt;/td&gt;\\n      &lt;td&gt;177.030&lt;/td&gt;\\n    &lt;/tr&gt;\\n    &lt;tr&gt;\\n      &lt;th&gt;2&lt;/th&gt;\\n      &lt;td&gt;1850&lt;/td&gt;\\n      &lt;td&gt;North America&lt;/td&gt;\\n      &lt;td&gt;19.852&lt;/td&gt;\\n    &lt;/tr&gt;\\n    &lt;tr&gt;\\n      &lt;th&gt;3&lt;/th&gt;\\n      &lt;td&gt;1850&lt;/td&gt;\\n      &lt;td&gt;World&lt;/td&gt;\\n      &lt;td&gt;196.896&lt;/td&gt;\\n    &lt;/tr&gt;\\n  &lt;/tbody&gt;\\n&lt;/table&gt;\"},\"id\":\"1703\",\"type\":\"panel.models.markup.HTML\"},{\"attributes\":{\"active\":0,\"button_type\":\"success\",\"labels\":[\"coal_co2\",\"oil_co2\",\"gas_co2\"],\"margin\":[5,10,5,10]},\"id\":\"1700\",\"type\":\"RadioButtonGroup\"},{\"attributes\":{\"children\":[{\"id\":\"1696\"}],\"margin\":[0,0,0,0],\"name\":\"Row09560\"},\"id\":\"1695\",\"type\":\"Row\"},{\"attributes\":{\"end\":2020,\"margin\":[5,10,5,10],\"start\":1750,\"step\":5,\"title\":\"Year slider\",\"value\":1850},\"id\":\"1699\",\"type\":\"Slider\"},{\"attributes\":{\"margin\":[5,5,5,5],\"name\":\"HSpacer09557\",\"sizing_mode\":\"stretch_width\"},\"id\":\"1701\",\"type\":\"Spacer\"}],\"root_ids\":[\"1695\",\"1704\"]},\"title\":\"Bokeh Application\",\"version\":\"2.4.2\"}};\n",
       "    var render_items = [{\"docid\":\"ca5a4940-1d62-4ed4-90ad-342dc0c01172\",\"root_ids\":[\"1695\"],\"roots\":{\"1695\":\"1cb98347-0a97-4f37-9e99-0fd32cee9024\"}}];\n",
       "    root.Bokeh.embed.embed_items_notebook(docs_json, render_items);\n",
       "  }\n",
       "  if (root.Bokeh !== undefined && root.Bokeh.Panel !== undefined) {\n",
       "    embed_document(root);\n",
       "  } else {\n",
       "    var attempts = 0;\n",
       "    var timer = setInterval(function(root) {\n",
       "      if (root.Bokeh !== undefined && root.Bokeh.Panel !== undefined) {\n",
       "        clearInterval(timer);\n",
       "        embed_document(root);\n",
       "      } else if (document.readyState == \"complete\") {\n",
       "        attempts++;\n",
       "        if (attempts > 200) {\n",
       "          clearInterval(timer);\n",
       "          console.log(\"Bokeh: ERROR: Unable to run BokehJS code because BokehJS library is missing\");\n",
       "        }\n",
       "      }\n",
       "    }, 25, root)\n",
       "  }\n",
       "})(window);</script>"
      ],
      "text/plain": [
       "<hvplot.interactive.Interactive at 0x20c7b342400>"
      ]
     },
     "execution_count": 26,
     "metadata": {
      "application/vnd.holoviews_exec.v0+json": {
       "id": "1695"
      }
     },
     "output_type": "execute_result"
    }
   ],
   "source": [
    "yaxis_co2_source = pn.widgets.RadioButtonGroup(\n",
    "    name = 'Y axis',\n",
    "    options=['coal_co2', 'oil_co2', 'gas_co2'],\n",
    "    button_type='success'\n",
    ")\n",
    "\n",
    "co2_source_bar_pipeline = (\n",
    "    idf[\n",
    "        (idf.year == year_slider) &\n",
    "        (idf.country.isin(continents))\n",
    "    ]\n",
    "    .groupby(['year', 'country'])[yaxis_co2_source].sum()\n",
    "    .to_frame()\n",
    "    .reset_index()\n",
    "    .sort_values(by='year')\n",
    "    .reset_index(drop=True)\n",
    ")\n",
    "\n",
    "co2_source_bar_pipeline"
   ]
  },
  {
   "cell_type": "code",
   "execution_count": 28,
   "id": "e5b0d55f",
   "metadata": {},
   "outputs": [
    {
     "data": {},
     "metadata": {},
     "output_type": "display_data"
    },
    {
     "data": {},
     "metadata": {},
     "output_type": "display_data"
    },
    {
     "data": {
      "application/vnd.holoviews_exec.v0+json": "",
      "text/html": [
       "<div id='1861'>\n",
       "\n",
       "\n",
       "\n",
       "\n",
       "\n",
       "  <div class=\"bk-root\" id=\"319cbcdd-656f-4653-a70a-0033ff7961e4\" data-root-id=\"1861\"></div>\n",
       "</div>\n",
       "<script type=\"application/javascript\">(function(root) {\n",
       "  function embed_document(root) {\n",
       "    var docs_json = {\"f3aef6a4-4044-4488-bd27-7ff73ba702c7\":{\"defs\":[{\"extends\":null,\"module\":null,\"name\":\"ReactiveHTML1\",\"overrides\":[],\"properties\":[]},{\"extends\":null,\"module\":null,\"name\":\"FlexBox1\",\"overrides\":[],\"properties\":[{\"default\":\"flex-start\",\"kind\":null,\"name\":\"align_content\"},{\"default\":\"flex-start\",\"kind\":null,\"name\":\"align_items\"},{\"default\":\"row\",\"kind\":null,\"name\":\"flex_direction\"},{\"default\":\"wrap\",\"kind\":null,\"name\":\"flex_wrap\"},{\"default\":\"flex-start\",\"kind\":null,\"name\":\"justify_content\"}]},{\"extends\":null,\"module\":null,\"name\":\"TemplateActions1\",\"overrides\":[],\"properties\":[{\"default\":0,\"kind\":null,\"name\":\"open_modal\"},{\"default\":0,\"kind\":null,\"name\":\"close_modal\"}]},{\"extends\":null,\"module\":null,\"name\":\"MaterialTemplateActions1\",\"overrides\":[],\"properties\":[{\"default\":0,\"kind\":null,\"name\":\"open_modal\"},{\"default\":0,\"kind\":null,\"name\":\"close_modal\"}]}],\"roots\":{\"references\":[{\"attributes\":{\"fill_alpha\":{\"value\":0.2},\"fill_color\":{\"value\":\"#30a2da\"},\"hatch_alpha\":{\"value\":0.2},\"hatch_color\":{\"value\":\"#30a2da\"},\"line_alpha\":{\"value\":0.2},\"top\":{\"field\":\"coal_co2\"},\"width\":{\"value\":0.8},\"x\":{\"field\":\"country\"}},\"id\":\"1906\",\"type\":\"VBar\"},{\"attributes\":{\"fill_color\":{\"value\":\"#30a2da\"},\"hatch_color\":{\"value\":\"#30a2da\"},\"top\":{\"field\":\"coal_co2\"},\"width\":{\"value\":0.8},\"x\":{\"field\":\"country\"}},\"id\":\"1904\",\"type\":\"VBar\"},{\"attributes\":{\"children\":[{\"id\":\"1862\"}],\"margin\":[0,0,0,0],\"name\":\"Row10258\"},\"id\":\"1861\",\"type\":\"Row\"},{\"attributes\":{},\"id\":\"1890\",\"type\":\"WheelZoomTool\"},{\"attributes\":{\"coordinates\":null,\"group\":null,\"text\":\"CO2 source by continent\",\"text_color\":\"black\",\"text_font_size\":\"12pt\"},\"id\":\"1873\",\"type\":\"Title\"},{\"attributes\":{},\"id\":\"1889\",\"type\":\"PanTool\"},{\"attributes\":{},\"id\":\"1888\",\"type\":\"SaveTool\"},{\"attributes\":{},\"id\":\"1877\",\"type\":\"CategoricalScale\"},{\"attributes\":{},\"id\":\"1879\",\"type\":\"LinearScale\"},{\"attributes\":{},\"id\":\"1914\",\"type\":\"BasicTickFormatter\"},{\"attributes\":{\"overlay\":{\"id\":\"1893\"}},\"id\":\"1891\",\"type\":\"BoxZoomTool\"},{\"attributes\":{},\"id\":\"1892\",\"type\":\"ResetTool\"},{\"attributes\":{\"client_comm_id\":\"01f9cb91b4e842468041b21d0a62d85d\",\"comm_id\":\"eeb2990266a24b3386f22fc42ab29077\",\"plot_id\":\"1861\"},\"id\":\"1966\",\"type\":\"panel.models.comm_manager.CommManager\"},{\"attributes\":{\"bottom_units\":\"screen\",\"coordinates\":null,\"fill_alpha\":0.5,\"fill_color\":\"lightgrey\",\"group\":null,\"left_units\":\"screen\",\"level\":\"overlay\",\"line_alpha\":1.0,\"line_color\":\"black\",\"line_dash\":[4,4],\"line_width\":2,\"right_units\":\"screen\",\"syncable\":false,\"top_units\":\"screen\"},\"id\":\"1893\",\"type\":\"BoxAnnotation\"},{\"attributes\":{\"children\":[{\"id\":\"1863\"},{\"id\":\"1868\"}],\"margin\":[0,0,0,0],\"name\":\"Column10257\"},\"id\":\"1862\",\"type\":\"Column\"},{\"attributes\":{\"callback\":null,\"renderers\":[{\"id\":\"1907\"}],\"tags\":[\"hv_created\"],\"tooltips\":[[\"country\",\"@{country}\"],[\"coal_co2\",\"@{coal_co2}\"]]},\"id\":\"1871\",\"type\":\"HoverTool\"},{\"attributes\":{\"children\":[{\"id\":\"1864\"},{\"id\":\"1867\"}],\"margin\":[0,0,0,0],\"name\":\"Row10256\"},\"id\":\"1863\",\"type\":\"Row\"},{\"attributes\":{\"children\":[{\"id\":\"1865\"},{\"id\":\"1866\"}],\"margin\":[0,0,0,0],\"name\":\"Column10095\"},\"id\":\"1864\",\"type\":\"Column\"},{\"attributes\":{},\"id\":\"1911\",\"type\":\"CategoricalTickFormatter\"},{\"attributes\":{},\"id\":\"1902\",\"type\":\"Selection\"},{\"attributes\":{\"end\":2020,\"margin\":[5,10,5,10],\"start\":1750,\"step\":5,\"title\":\"Year slider\",\"value\":1850},\"id\":\"1865\",\"type\":\"Slider\"},{\"attributes\":{},\"id\":\"1882\",\"type\":\"CategoricalTicker\"},{\"attributes\":{\"children\":[{\"id\":\"1872\"}],\"margin\":[0,0,0,0],\"name\":\"Row10100\"},\"id\":\"1868\",\"type\":\"Row\"},{\"attributes\":{\"margin\":[5,5,5,5],\"name\":\"HSpacer10255\",\"sizing_mode\":\"stretch_width\"},\"id\":\"1867\",\"type\":\"Spacer\"},{\"attributes\":{\"active\":0,\"button_type\":\"success\",\"labels\":[\"coal_co2\",\"oil_co2\",\"gas_co2\"],\"margin\":[5,10,5,10]},\"id\":\"1866\",\"type\":\"RadioButtonGroup\"},{\"attributes\":{},\"id\":\"1885\",\"type\":\"BasicTicker\"},{\"attributes\":{\"tools\":[{\"id\":\"1871\"},{\"id\":\"1888\"},{\"id\":\"1889\"},{\"id\":\"1890\"},{\"id\":\"1891\"},{\"id\":\"1892\"}]},\"id\":\"1894\",\"type\":\"Toolbar\"},{\"attributes\":{\"data\":{\"coal_co2\":{\"__ndarray__\":\"uB6F61G4jj8pXI/C9SBmQCcxCKwc2jNA6SYxCKycaEA=\",\"dtype\":\"float64\",\"order\":\"little\",\"shape\":[4]},\"country\":[\"Asia\",\"Europe\",\"North America\",\"World\"]},\"selected\":{\"id\":\"1902\"},\"selection_policy\":{\"id\":\"1923\"}},\"id\":\"1901\",\"type\":\"ColumnDataSource\"},{\"attributes\":{},\"id\":\"1912\",\"type\":\"AllLabels\"},{\"attributes\":{\"axis\":{\"id\":\"1881\"},\"coordinates\":null,\"grid_line_color\":null,\"group\":null,\"ticker\":null},\"id\":\"1883\",\"type\":\"Grid\"},{\"attributes\":{\"end\":216.58409999999998,\"reset_end\":216.58409999999998,\"reset_start\":0.0,\"tags\":[[[\"coal_co2\",\"coal_co2\",null]]]},\"id\":\"1870\",\"type\":\"Range1d\"},{\"attributes\":{\"axis_label\":\"country\",\"coordinates\":null,\"formatter\":{\"id\":\"1911\"},\"group\":null,\"major_label_policy\":{\"id\":\"1912\"},\"ticker\":{\"id\":\"1882\"}},\"id\":\"1881\",\"type\":\"CategoricalAxis\"},{\"attributes\":{\"axis_label\":\"coal_co2\",\"coordinates\":null,\"formatter\":{\"id\":\"1914\"},\"group\":null,\"major_label_policy\":{\"id\":\"1915\"},\"ticker\":{\"id\":\"1885\"}},\"id\":\"1884\",\"type\":\"LinearAxis\"},{\"attributes\":{},\"id\":\"1915\",\"type\":\"AllLabels\"},{\"attributes\":{\"below\":[{\"id\":\"1881\"}],\"center\":[{\"id\":\"1883\"},{\"id\":\"1887\"}],\"height\":300,\"left\":[{\"id\":\"1884\"}],\"margin\":[5,5,5,5],\"min_border_bottom\":10,\"min_border_left\":10,\"min_border_right\":10,\"min_border_top\":10,\"renderers\":[{\"id\":\"1907\"}],\"sizing_mode\":\"fixed\",\"title\":{\"id\":\"1873\"},\"toolbar\":{\"id\":\"1894\"},\"width\":700,\"x_range\":{\"id\":\"1869\"},\"x_scale\":{\"id\":\"1877\"},\"y_range\":{\"id\":\"1870\"},\"y_scale\":{\"id\":\"1879\"}},\"id\":\"1872\",\"subtype\":\"Figure\",\"type\":\"Plot\"},{\"attributes\":{\"bottom\":{\"value\":0},\"fill_alpha\":{\"value\":1.0},\"fill_color\":{\"value\":\"#30a2da\"},\"hatch_alpha\":{\"value\":1.0},\"hatch_color\":{\"value\":\"#30a2da\"},\"hatch_scale\":{\"value\":12.0},\"hatch_weight\":{\"value\":1.0},\"line_alpha\":{\"value\":1.0},\"line_cap\":{\"value\":\"butt\"},\"line_color\":{\"value\":\"black\"},\"line_dash\":{\"value\":[]},\"line_dash_offset\":{\"value\":0},\"line_join\":{\"value\":\"bevel\"},\"line_width\":{\"value\":1},\"top\":{\"field\":\"coal_co2\"},\"width\":{\"value\":0.8},\"x\":{\"field\":\"country\"}},\"id\":\"1909\",\"type\":\"VBar\"},{\"attributes\":{\"fill_alpha\":{\"value\":0.1},\"fill_color\":{\"value\":\"#30a2da\"},\"hatch_alpha\":{\"value\":0.1},\"hatch_color\":{\"value\":\"#30a2da\"},\"line_alpha\":{\"value\":0.1},\"top\":{\"field\":\"coal_co2\"},\"width\":{\"value\":0.8},\"x\":{\"field\":\"country\"}},\"id\":\"1905\",\"type\":\"VBar\"},{\"attributes\":{\"coordinates\":null,\"data_source\":{\"id\":\"1901\"},\"glyph\":{\"id\":\"1904\"},\"group\":null,\"hover_glyph\":null,\"muted_glyph\":{\"id\":\"1906\"},\"nonselection_glyph\":{\"id\":\"1905\"},\"selection_glyph\":{\"id\":\"1909\"},\"view\":{\"id\":\"1908\"}},\"id\":\"1907\",\"type\":\"GlyphRenderer\"},{\"attributes\":{},\"id\":\"1923\",\"type\":\"UnionRenderers\"},{\"attributes\":{\"source\":{\"id\":\"1901\"}},\"id\":\"1908\",\"type\":\"CDSView\"},{\"attributes\":{\"axis\":{\"id\":\"1884\"},\"coordinates\":null,\"dimension\":1,\"grid_line_color\":null,\"group\":null,\"ticker\":null},\"id\":\"1887\",\"type\":\"Grid\"},{\"attributes\":{\"factors\":[\"Asia\",\"Europe\",\"North America\",\"World\"],\"tags\":[[[\"country\",\"country\",null]]]},\"id\":\"1869\",\"type\":\"FactorRange\"}],\"root_ids\":[\"1861\",\"1966\"]},\"title\":\"Bokeh Application\",\"version\":\"2.4.2\"}};\n",
       "    var render_items = [{\"docid\":\"f3aef6a4-4044-4488-bd27-7ff73ba702c7\",\"root_ids\":[\"1861\"],\"roots\":{\"1861\":\"319cbcdd-656f-4653-a70a-0033ff7961e4\"}}];\n",
       "    root.Bokeh.embed.embed_items_notebook(docs_json, render_items);\n",
       "  }\n",
       "  if (root.Bokeh !== undefined && root.Bokeh.Panel !== undefined) {\n",
       "    embed_document(root);\n",
       "  } else {\n",
       "    var attempts = 0;\n",
       "    var timer = setInterval(function(root) {\n",
       "      if (root.Bokeh !== undefined && root.Bokeh.Panel !== undefined) {\n",
       "        clearInterval(timer);\n",
       "        embed_document(root);\n",
       "      } else if (document.readyState == \"complete\") {\n",
       "        attempts++;\n",
       "        if (attempts > 200) {\n",
       "          clearInterval(timer);\n",
       "          console.log(\"Bokeh: ERROR: Unable to run BokehJS code because BokehJS library is missing\");\n",
       "        }\n",
       "      }\n",
       "    }, 25, root)\n",
       "  }\n",
       "})(window);</script>"
      ],
      "text/plain": [
       "<hvplot.interactive.Interactive at 0x20c7cf03460>"
      ]
     },
     "execution_count": 28,
     "metadata": {
      "application/vnd.holoviews_exec.v0+json": {
       "id": "1861"
      }
     },
     "output_type": "execute_result"
    }
   ],
   "source": [
    "co2_source_barplot = co2_source_bar_pipeline.hvplot(\n",
    "                     kind='bar', x='country',\n",
    "                     y=yaxis_co2_source,\n",
    "                     title='CO2 source by continent'\n",
    ")\n",
    "\n",
    "co2_source_barplot"
   ]
  },
  {
   "cell_type": "code",
   "execution_count": 33,
   "id": "3020871c",
   "metadata": {},
   "outputs": [
    {
     "data": {},
     "metadata": {},
     "output_type": "display_data"
    },
    {
     "data": {},
     "metadata": {},
     "output_type": "display_data"
    },
    {
     "data": {
      "application/vnd.holoviews_exec.v0+json": "",
      "text/html": [
       "<div id='2017'>\n",
       "\n",
       "\n",
       "\n",
       "\n",
       "\n",
       "  <div class=\"bk-root\" id=\"16d7beeb-5082-4a9b-aee5-5a15211fe6fa\" data-root-id=\"2017\"></div>\n",
       "</div>\n",
       "<script type=\"application/javascript\">(function(root) {\n",
       "  function embed_document(root) {\n",
       "    var docs_json = {\"73970c42-8565-4b66-83ac-42aa69bc1d49\":{\"defs\":[{\"extends\":null,\"module\":null,\"name\":\"ReactiveHTML1\",\"overrides\":[],\"properties\":[]},{\"extends\":null,\"module\":null,\"name\":\"FlexBox1\",\"overrides\":[],\"properties\":[{\"default\":\"flex-start\",\"kind\":null,\"name\":\"align_content\"},{\"default\":\"flex-start\",\"kind\":null,\"name\":\"align_items\"},{\"default\":\"row\",\"kind\":null,\"name\":\"flex_direction\"},{\"default\":\"wrap\",\"kind\":null,\"name\":\"flex_wrap\"},{\"default\":\"flex-start\",\"kind\":null,\"name\":\"justify_content\"}]},{\"extends\":null,\"module\":null,\"name\":\"TemplateActions1\",\"overrides\":[],\"properties\":[{\"default\":0,\"kind\":null,\"name\":\"open_modal\"},{\"default\":0,\"kind\":null,\"name\":\"close_modal\"}]},{\"extends\":null,\"module\":null,\"name\":\"MaterialTemplateActions1\",\"overrides\":[],\"properties\":[{\"default\":0,\"kind\":null,\"name\":\"open_modal\"},{\"default\":0,\"kind\":null,\"name\":\"close_modal\"}]}],\"roots\":{\"references\":[{\"attributes\":{\"data\":{\"co2\":{\"__ndarray__\":\"6SYxCKycaEA=\",\"dtype\":\"float64\",\"order\":\"little\",\"shape\":[1]},\"country\":[\"World\"],\"year\":[1850]},\"selected\":{\"id\":\"2134\"},\"selection_policy\":{\"id\":\"2154\"}},\"id\":\"2133\",\"type\":\"ColumnDataSource\"},{\"attributes\":{\"coordinates\":null,\"data_source\":{\"id\":\"2087\"},\"glyph\":{\"id\":\"2090\"},\"group\":null,\"hover_glyph\":null,\"muted_glyph\":{\"id\":\"2092\"},\"nonselection_glyph\":{\"id\":\"2091\"},\"selection_glyph\":{\"id\":\"2108\"},\"view\":{\"id\":\"2094\"}},\"id\":\"2093\",\"type\":\"GlyphRenderer\"},{\"attributes\":{},\"id\":\"2062\",\"type\":\"AllLabels\"},{\"attributes\":{},\"id\":\"2040\",\"type\":\"BasicTicker\"},{\"attributes\":{\"axis\":{\"id\":\"2039\"},\"coordinates\":null,\"grid_line_color\":null,\"group\":null,\"ticker\":null},\"id\":\"2042\",\"type\":\"Grid\"},{\"attributes\":{\"label\":{\"value\":\"World\"},\"renderers\":[{\"id\":\"2139\"}]},\"id\":\"2157\",\"type\":\"LegendItem\"},{\"attributes\":{\"line_alpha\":0.1,\"line_color\":\"#fc4f30\",\"line_width\":2,\"x\":{\"field\":\"year\"},\"y\":{\"field\":\"co2\"}},\"id\":\"2091\",\"type\":\"Line\"},{\"attributes\":{},\"id\":\"2048\",\"type\":\"PanTool\"},{\"attributes\":{\"source\":{\"id\":\"2087\"}},\"id\":\"2094\",\"type\":\"CDSView\"},{\"attributes\":{\"axis_label\":\"co2\",\"coordinates\":null,\"formatter\":{\"id\":\"2064\"},\"group\":null,\"major_label_policy\":{\"id\":\"2065\"},\"ticker\":{\"id\":\"2044\"}},\"id\":\"2043\",\"type\":\"LinearAxis\"},{\"attributes\":{\"line_alpha\":0.2,\"line_color\":\"#fc4f30\",\"line_width\":2,\"x\":{\"field\":\"year\"},\"y\":{\"field\":\"co2\"}},\"id\":\"2092\",\"type\":\"Line\"},{\"attributes\":{},\"id\":\"2134\",\"type\":\"Selection\"},{\"attributes\":{\"axis\":{\"id\":\"2043\"},\"coordinates\":null,\"dimension\":1,\"grid_line_color\":null,\"group\":null,\"ticker\":null},\"id\":\"2046\",\"type\":\"Grid\"},{\"attributes\":{\"line_color\":\"#e5ae38\",\"line_width\":2,\"x\":{\"field\":\"year\"},\"y\":{\"field\":\"co2\"}},\"id\":\"2112\",\"type\":\"Line\"},{\"attributes\":{},\"id\":\"2044\",\"type\":\"BasicTicker\"},{\"attributes\":{},\"id\":\"2049\",\"type\":\"WheelZoomTool\"},{\"attributes\":{\"label\":{\"value\":\"Europe\"},\"renderers\":[{\"id\":\"2093\"}]},\"id\":\"2107\",\"type\":\"LegendItem\"},{\"attributes\":{\"line_color\":\"#e5ae38\",\"line_width\":2,\"x\":{\"field\":\"year\"},\"y\":{\"field\":\"co2\"}},\"id\":\"2132\",\"type\":\"Line\"},{\"attributes\":{\"line_color\":\"#6d904f\",\"line_width\":2,\"x\":{\"field\":\"year\"},\"y\":{\"field\":\"co2\"}},\"id\":\"2136\",\"type\":\"Line\"},{\"attributes\":{},\"id\":\"2047\",\"type\":\"SaveTool\"},{\"attributes\":{},\"id\":\"2104\",\"type\":\"UnionRenderers\"},{\"attributes\":{\"data\":{\"co2\":{\"__ndarray__\":\"uB6F61G4jj8=\",\"dtype\":\"float64\",\"order\":\"little\",\"shape\":[1]},\"country\":[\"Asia\"],\"year\":[1850]},\"selected\":{\"id\":\"2067\"},\"selection_policy\":{\"id\":\"2081\"}},\"id\":\"2066\",\"type\":\"ColumnDataSource\"},{\"attributes\":{\"overlay\":{\"id\":\"2052\"}},\"id\":\"2050\",\"type\":\"BoxZoomTool\"},{\"attributes\":{},\"id\":\"2051\",\"type\":\"ResetTool\"},{\"attributes\":{\"bottom_units\":\"screen\",\"coordinates\":null,\"fill_alpha\":0.5,\"fill_color\":\"lightgrey\",\"group\":null,\"left_units\":\"screen\",\"level\":\"overlay\",\"line_alpha\":1.0,\"line_color\":\"black\",\"line_dash\":[4,4],\"line_width\":2,\"right_units\":\"screen\",\"syncable\":false,\"top_units\":\"screen\"},\"id\":\"2052\",\"type\":\"BoxAnnotation\"},{\"attributes\":{\"line_color\":\"#6d904f\",\"line_width\":2,\"x\":{\"field\":\"year\"},\"y\":{\"field\":\"co2\"}},\"id\":\"2158\",\"type\":\"Line\"},{\"attributes\":{\"line_alpha\":0.1,\"line_color\":\"#6d904f\",\"line_width\":2,\"x\":{\"field\":\"year\"},\"y\":{\"field\":\"co2\"}},\"id\":\"2137\",\"type\":\"Line\"},{\"attributes\":{\"coordinates\":null,\"data_source\":{\"id\":\"2133\"},\"glyph\":{\"id\":\"2136\"},\"group\":null,\"hover_glyph\":null,\"muted_glyph\":{\"id\":\"2138\"},\"nonselection_glyph\":{\"id\":\"2137\"},\"selection_glyph\":{\"id\":\"2158\"},\"view\":{\"id\":\"2140\"}},\"id\":\"2139\",\"type\":\"GlyphRenderer\"},{\"attributes\":{},\"id\":\"2081\",\"type\":\"UnionRenderers\"},{\"attributes\":{\"line_alpha\":0.2,\"line_color\":\"#30a2da\",\"line_width\":2,\"x\":{\"field\":\"year\"},\"y\":{\"field\":\"co2\"}},\"id\":\"2071\",\"type\":\"Line\"},{\"attributes\":{\"line_alpha\":0.2,\"line_color\":\"#6d904f\",\"line_width\":2,\"x\":{\"field\":\"year\"},\"y\":{\"field\":\"co2\"}},\"id\":\"2138\",\"type\":\"Line\"},{\"attributes\":{\"client_comm_id\":\"9aff2f6e61814079ad0a69a01da62bc9\",\"comm_id\":\"5d315632efc943d8af9887b2b1b5ea03\",\"plot_id\":\"2017\"},\"id\":\"2351\",\"type\":\"panel.models.comm_manager.CommManager\"},{\"attributes\":{\"children\":[{\"id\":\"2021\"},{\"id\":\"2022\"}],\"margin\":[0,0,0,0],\"name\":\"Column10570\"},\"id\":\"2020\",\"type\":\"Column\"},{\"attributes\":{},\"id\":\"2154\",\"type\":\"UnionRenderers\"},{\"attributes\":{},\"id\":\"2067\",\"type\":\"Selection\"},{\"attributes\":{\"children\":[{\"id\":\"2019\"},{\"id\":\"2030\"}],\"margin\":[0,0,0,0],\"name\":\"Column10581\"},\"id\":\"2018\",\"type\":\"Column\"},{\"attributes\":{\"tools\":[{\"id\":\"2026\"},{\"id\":\"2047\"},{\"id\":\"2048\"},{\"id\":\"2049\"},{\"id\":\"2050\"},{\"id\":\"2051\"}]},\"id\":\"2053\",\"type\":\"Toolbar\"},{\"attributes\":{\"line_alpha\":0.1,\"line_color\":\"#30a2da\",\"line_width\":2,\"x\":{\"field\":\"year\"},\"y\":{\"field\":\"co2\"}},\"id\":\"2070\",\"type\":\"Line\"},{\"attributes\":{\"end\":2020,\"margin\":[5,10,5,10],\"start\":1750,\"step\":5,\"title\":\"Year slider\",\"value\":1850},\"id\":\"2021\",\"type\":\"Slider\"},{\"attributes\":{\"click_policy\":\"mute\",\"coordinates\":null,\"group\":null,\"items\":[{\"id\":\"2085\"},{\"id\":\"2107\"},{\"id\":\"2131\"},{\"id\":\"2157\"}],\"location\":[0,0],\"title\":\"country\"},\"id\":\"2084\",\"type\":\"Legend\"},{\"attributes\":{\"margin\":[5,5,5,5],\"name\":\"HSpacer10574\",\"sizing_mode\":\"stretch_width\"},\"id\":\"2023\",\"type\":\"Spacer\"},{\"attributes\":{\"data\":{\"co2\":{\"__ndarray__\":\"KVyPwvUgZkA=\",\"dtype\":\"float64\",\"order\":\"little\",\"shape\":[1]},\"country\":[\"Europe\"],\"year\":[1850]},\"selected\":{\"id\":\"2088\"},\"selection_policy\":{\"id\":\"2104\"}},\"id\":\"2087\",\"type\":\"ColumnDataSource\"},{\"attributes\":{\"line_color\":\"#fc4f30\",\"line_width\":2,\"x\":{\"field\":\"year\"},\"y\":{\"field\":\"co2\"}},\"id\":\"2108\",\"type\":\"Line\"},{\"attributes\":{\"label\":{\"value\":\"Asia\"},\"renderers\":[{\"id\":\"2072\"}]},\"id\":\"2085\",\"type\":\"LegendItem\"},{\"attributes\":{},\"id\":\"2110\",\"type\":\"Selection\"},{\"attributes\":{\"children\":[{\"id\":\"2018\"}],\"margin\":[0,0,0,0],\"name\":\"Row10582\"},\"id\":\"2017\",\"type\":\"Row\"},{\"attributes\":{\"source\":{\"id\":\"2066\"}},\"id\":\"2073\",\"type\":\"CDSView\"},{\"attributes\":{\"source\":{\"id\":\"2109\"}},\"id\":\"2116\",\"type\":\"CDSView\"},{\"attributes\":{\"end\":216.58409999999998,\"reset_end\":216.58409999999998,\"reset_start\":-19.6731,\"start\":-19.6731,\"tags\":[[[\"co2\",\"co2\",null]]]},\"id\":\"2025\",\"type\":\"Range1d\"},{\"attributes\":{\"line_alpha\":0.1,\"line_color\":\"#e5ae38\",\"line_width\":2,\"x\":{\"field\":\"year\"},\"y\":{\"field\":\"co2\"}},\"id\":\"2113\",\"type\":\"Line\"},{\"attributes\":{\"coordinates\":null,\"data_source\":{\"id\":\"2109\"},\"glyph\":{\"id\":\"2112\"},\"group\":null,\"hover_glyph\":null,\"muted_glyph\":{\"id\":\"2114\"},\"nonselection_glyph\":{\"id\":\"2113\"},\"selection_glyph\":{\"id\":\"2132\"},\"view\":{\"id\":\"2116\"}},\"id\":\"2115\",\"type\":\"GlyphRenderer\"},{\"attributes\":{\"source\":{\"id\":\"2133\"}},\"id\":\"2140\",\"type\":\"CDSView\"},{\"attributes\":{\"line_alpha\":0.2,\"line_color\":\"#e5ae38\",\"line_width\":2,\"x\":{\"field\":\"year\"},\"y\":{\"field\":\"co2\"}},\"id\":\"2114\",\"type\":\"Line\"},{\"attributes\":{},\"id\":\"2035\",\"type\":\"LinearScale\"},{\"attributes\":{\"below\":[{\"id\":\"2039\"}],\"center\":[{\"id\":\"2042\"},{\"id\":\"2046\"}],\"height\":300,\"left\":[{\"id\":\"2043\"}],\"margin\":[5,5,5,5],\"min_border_bottom\":10,\"min_border_left\":10,\"min_border_right\":10,\"min_border_top\":10,\"renderers\":[{\"id\":\"2072\"},{\"id\":\"2093\"},{\"id\":\"2115\"},{\"id\":\"2139\"}],\"right\":[{\"id\":\"2084\"}],\"sizing_mode\":\"fixed\",\"title\":{\"id\":\"2031\"},\"toolbar\":{\"id\":\"2053\"},\"width\":700,\"x_range\":{\"id\":\"2024\"},\"x_scale\":{\"id\":\"2035\"},\"y_range\":{\"id\":\"2025\"},\"y_scale\":{\"id\":\"2037\"}},\"id\":\"2030\",\"subtype\":\"Figure\",\"type\":\"Plot\"},{\"attributes\":{},\"id\":\"2065\",\"type\":\"AllLabels\"},{\"attributes\":{\"axis_label\":\"year\",\"coordinates\":null,\"formatter\":{\"id\":\"2061\"},\"group\":null,\"major_label_policy\":{\"id\":\"2062\"},\"ticker\":{\"id\":\"2040\"}},\"id\":\"2039\",\"type\":\"LinearAxis\"},{\"attributes\":{\"label\":{\"value\":\"North America\"},\"renderers\":[{\"id\":\"2115\"}]},\"id\":\"2131\",\"type\":\"LegendItem\"},{\"attributes\":{},\"id\":\"2128\",\"type\":\"UnionRenderers\"},{\"attributes\":{\"end\":1851.0,\"reset_end\":1851.0,\"reset_start\":1849.0,\"start\":1849.0,\"tags\":[[[\"year\",\"year\",null]]]},\"id\":\"2024\",\"type\":\"Range1d\"},{\"attributes\":{\"active\":0,\"button_type\":\"success\",\"labels\":[\"co2\",\"co2_per_capita\"],\"margin\":[5,10,5,10]},\"id\":\"2022\",\"type\":\"RadioButtonGroup\"},{\"attributes\":{\"coordinates\":null,\"data_source\":{\"id\":\"2066\"},\"glyph\":{\"id\":\"2069\"},\"group\":null,\"hover_glyph\":null,\"muted_glyph\":{\"id\":\"2071\"},\"nonselection_glyph\":{\"id\":\"2070\"},\"selection_glyph\":{\"id\":\"2086\"},\"view\":{\"id\":\"2073\"}},\"id\":\"2072\",\"type\":\"GlyphRenderer\"},{\"attributes\":{},\"id\":\"2088\",\"type\":\"Selection\"},{\"attributes\":{},\"id\":\"2037\",\"type\":\"LinearScale\"},{\"attributes\":{\"line_color\":\"#fc4f30\",\"line_width\":2,\"x\":{\"field\":\"year\"},\"y\":{\"field\":\"co2\"}},\"id\":\"2090\",\"type\":\"Line\"},{\"attributes\":{\"children\":[{\"id\":\"2020\"},{\"id\":\"2023\"}],\"margin\":[0,0,0,0],\"name\":\"Row10575\"},\"id\":\"2019\",\"type\":\"Row\"},{\"attributes\":{\"line_color\":\"#30a2da\",\"line_width\":2,\"x\":{\"field\":\"year\"},\"y\":{\"field\":\"co2\"}},\"id\":\"2086\",\"type\":\"Line\"},{\"attributes\":{\"line_color\":\"#30a2da\",\"line_width\":2,\"x\":{\"field\":\"year\"},\"y\":{\"field\":\"co2\"}},\"id\":\"2069\",\"type\":\"Line\"},{\"attributes\":{\"data\":{\"co2\":{\"__ndarray__\":\"JzEIrBzaM0A=\",\"dtype\":\"float64\",\"order\":\"little\",\"shape\":[1]},\"country\":[\"North America\"],\"year\":[1850]},\"selected\":{\"id\":\"2110\"},\"selection_policy\":{\"id\":\"2128\"}},\"id\":\"2109\",\"type\":\"ColumnDataSource\"},{\"attributes\":{\"callback\":null,\"renderers\":[{\"id\":\"2072\"},{\"id\":\"2093\"},{\"id\":\"2115\"},{\"id\":\"2139\"}],\"tags\":[\"hv_created\"],\"tooltips\":[[\"country\",\"@{country}\"],[\"year\",\"@{year}\"],[\"co2\",\"@{co2}\"]]},\"id\":\"2026\",\"type\":\"HoverTool\"},{\"attributes\":{},\"id\":\"2061\",\"type\":\"BasicTickFormatter\"},{\"attributes\":{\"coordinates\":null,\"group\":null,\"text\":\"CO2 emission by continent\",\"text_color\":\"black\",\"text_font_size\":\"12pt\"},\"id\":\"2031\",\"type\":\"Title\"},{\"attributes\":{},\"id\":\"2064\",\"type\":\"BasicTickFormatter\"}],\"root_ids\":[\"2017\",\"2351\"]},\"title\":\"Bokeh Application\",\"version\":\"2.4.2\"}};\n",
       "    var render_items = [{\"docid\":\"73970c42-8565-4b66-83ac-42aa69bc1d49\",\"root_ids\":[\"2017\"],\"roots\":{\"2017\":\"16d7beeb-5082-4a9b-aee5-5a15211fe6fa\"}}];\n",
       "    root.Bokeh.embed.embed_items_notebook(docs_json, render_items);\n",
       "  }\n",
       "  if (root.Bokeh !== undefined && root.Bokeh.Panel !== undefined) {\n",
       "    embed_document(root);\n",
       "  } else {\n",
       "    var attempts = 0;\n",
       "    var timer = setInterval(function(root) {\n",
       "      if (root.Bokeh !== undefined && root.Bokeh.Panel !== undefined) {\n",
       "        clearInterval(timer);\n",
       "        embed_document(root);\n",
       "      } else if (document.readyState == \"complete\") {\n",
       "        attempts++;\n",
       "        if (attempts > 200) {\n",
       "          clearInterval(timer);\n",
       "          console.log(\"Bokeh: ERROR: Unable to run BokehJS code because BokehJS library is missing\");\n",
       "        }\n",
       "      }\n",
       "    }, 25, root)\n",
       "  }\n",
       "})(window);</script>"
      ],
      "text/plain": [
       "<hvplot.interactive.Interactive at 0x20c7d33e790>"
      ]
     },
     "execution_count": 33,
     "metadata": {
      "application/vnd.holoviews_exec.v0+json": {
       "id": "2017"
      }
     },
     "output_type": "execute_result"
    }
   ],
   "source": [
    "co2_plot = co2_pipeline.hvplot(x = 'year', by='country', y=yaxis_co2,line_width=2, title=\"CO2 emission by continent\")\n",
    "co2_plot"
   ]
  },
  {
   "cell_type": "code",
   "execution_count": 35,
   "id": "d3484e65",
   "metadata": {},
   "outputs": [
    {
     "name": "stdout",
     "output_type": "stream",
     "text": [
      "Launching server at http://localhost:63032\n"
     ]
    },
    {
     "data": {
      "text/plain": [
       "<bokeh.server.server.Server at 0x20c7d44e910>"
      ]
     },
     "execution_count": 35,
     "metadata": {},
     "output_type": "execute_result"
    }
   ],
   "source": [
    "#Layout using Template\n",
    "template = pn.template.FastListTemplate(\n",
    "    title='World CO2 emission dashboard', \n",
    "    sidebar=[pn.pane.Markdown(\"# CO2 Emissions and Climate Change\"), \n",
    "             pn.pane.Markdown(\"#### Carbon dioxide emissions are the primary driver of global climate change. It’s widely recognised that to avoid the worst impacts of climate change, the world needs to urgently reduce emissions. But, how this responsibility is shared between regions, countries, and individuals has been an endless point of contention in international discussions.\"), \n",
    "             pn.pane.PNG('https://github.com/thu-vu92/python-dashboard-panel/blob/main/climate_day.png', sizing_mode='scale_both'),\n",
    "             pn.pane.Markdown(\"## Settings\"),   \n",
    "             year_slider],\n",
    "    main=[pn.Row(pn.Column(yaxis_co2, \n",
    "                           co2_plot.panel(width=700), margin=(0,25)), \n",
    "                 co2_table.panel(width=500)), \n",
    "          pn.Row(pn.Column(co2_vs_gdp_scatterplot.panel(width=600), margin=(0,25)), \n",
    "                 pn.Column(yaxis_co2_source, co2_source_barplot.panel(width=600)))],\n",
    "    accent_base_color=\"#88d8b0\",\n",
    "    header_background=\"#88d8b0\",\n",
    ")\n",
    "\n",
    "template.show()\n",
    "# template.servable();"
   ]
  },
  {
   "cell_type": "code",
   "execution_count": null,
   "id": "017cd396",
   "metadata": {},
   "outputs": [],
   "source": []
  }
 ],
 "metadata": {
  "kernelspec": {
   "display_name": "Python 3 (ipykernel)",
   "language": "python",
   "name": "python3"
  },
  "language_info": {
   "codemirror_mode": {
    "name": "ipython",
    "version": 3
   },
   "file_extension": ".py",
   "mimetype": "text/x-python",
   "name": "python",
   "nbconvert_exporter": "python",
   "pygments_lexer": "ipython3",
   "version": "3.9.7"
  }
 },
 "nbformat": 4,
 "nbformat_minor": 5
}
